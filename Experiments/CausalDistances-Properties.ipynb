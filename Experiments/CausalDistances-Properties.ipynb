{
 "cells": [
  {
   "cell_type": "code",
   "execution_count": 1,
   "metadata": {},
   "outputs": [],
   "source": [
    "%load_ext autoreload\n",
    "%autoreload 2"
   ]
  },
  {
   "cell_type": "code",
   "execution_count": 2,
   "metadata": {},
   "outputs": [],
   "source": [
    "import sys\n",
    "sys.path.append('../CausalModel')"
   ]
  },
  {
   "cell_type": "code",
   "execution_count": 3,
   "metadata": {},
   "outputs": [],
   "source": [
    "import networkx as nx\n",
    "import copy\n",
    "from mpl_toolkits.mplot3d import Axes3D\n",
    "from matplotlib import pyplot as plt\n",
    "import seaborn as sns\n",
    "from pandas import DataFrame\n",
    "import numpy as np\n",
    "import random\n",
    "from sklearn.manifold import MDS\n",
    "from pomegranate.distributions import IndependentComponentsDistribution\n",
    "from pomegranate.distributions import UniformDistribution, NormalDistribution\n",
    "%matplotlib inline"
   ]
  },
  {
   "cell_type": "code",
   "execution_count": 4,
   "metadata": {},
   "outputs": [
    {
     "name": "stderr",
     "output_type": "stream",
     "text": [
      "No GPU automatically detected. Setting SETTINGS.GPU to 0, and SETTINGS.NJOBS to cpu_count.\n"
     ]
    }
   ],
   "source": [
    "import sample_models\n",
    "from CausalModel.CMD import IDist, ODist, CDist\n",
    "from cdt.metrics import SID, SHD"
   ]
  },
  {
   "cell_type": "code",
   "execution_count": 5,
   "metadata": {},
   "outputs": [
    {
     "data": {
      "image/png": "[encoded data removed]",
      "text/plain": [
       "<Figure size 432x72 with 1 Axes>"
      ]
     },
     "metadata": {
      "needs_background": "light"
     },
     "output_type": "display_data"
    }
   ],
   "source": [
    "flatui = [\"#9b59b6\", \"#3498db\", \"#95a5a6\", \"#e74c3c\", \"#34495e\", \"#2ecc71\"]\n",
    "current_palette = sns.color_palette(flatui)\n",
    "sns.palplot(current_palette)"
   ]
  },
  {
   "cell_type": "markdown",
   "metadata": {
    "heading_collapsed": true
   },
   "source": [
    "# Pairwise Comparison of Metrics"
   ]
  },
  {
   "cell_type": "markdown",
   "metadata": {
    "hidden": true
   },
   "source": [
    "### Helpers"
   ]
  },
  {
   "cell_type": "code",
   "execution_count": 12,
   "metadata": {
    "hidden": true
   },
   "outputs": [],
   "source": [
    "default_structure = {\n",
    "    'nb_nodes': 10,\n",
    "    'density': 0.3,  # 0.4 / (n ** 1.25 / 10)\n",
    "    'cycles': False,\n",
    "    'fraction_observed': 1\n",
    "}"
   ]
  },
  {
   "cell_type": "code",
   "execution_count": 13,
   "metadata": {
    "hidden": true
   },
   "outputs": [],
   "source": [
    "def generate_causal_models(n):\n",
    "    pairs = []\n",
    "    for _ in range(n):\n",
    "#        model_a, model_b = sample_models.generate_discrete_models(nb_models=2)\n",
    "#        pairs.append((model_a, model_b))\n",
    "        model_a, model_b = sample_models.generate_linear_gaussian(default_structure, nb_models=2)\n",
    "        pairs.append((model_a, model_b))\n",
    "        model_a, model_b = sample_models.generate_linear_non_gaussian(default_structure, nb_models=2)\n",
    "        pairs.append((model_a, model_b))\n",
    "        model_a, model_b = sample_models.generate_GP(default_structure, nb_models=2)\n",
    "        pairs.append((model_a, model_b))\n",
    "    return pairs"
   ]
  },
  {
   "cell_type": "code",
   "execution_count": 14,
   "metadata": {
    "hidden": true
   },
   "outputs": [],
   "source": [
    "model_pairs = generate_causal_models(30)"
   ]
  },
  {
   "cell_type": "code",
   "execution_count": 15,
   "metadata": {
    "hidden": true
   },
   "outputs": [],
   "source": [
    "def compare_ODist_SID(pairs, nb_samples):\n",
    "    X = []\n",
    "    for model_a, model_b in pairs:\n",
    "        x_0 = ODist(model_a, model_b, nb_samples, discrete=False)\n",
    "        x_1 = SID(model_a.causal_graph, model_b.causal_graph)\n",
    "        X.append([x_0, x_1])\n",
    "    return DataFrame.from_records(X, columns=['OD', 'SID'])"
   ]
  },
  {
   "cell_type": "code",
   "execution_count": 42,
   "metadata": {
    "hidden": true
   },
   "outputs": [],
   "source": [
    "od_sid = compare_ODist_SID(model_pairs, 1000)"
   ]
  },
  {
   "cell_type": "code",
   "execution_count": 31,
   "metadata": {
    "hidden": true
   },
   "outputs": [],
   "source": [
    "def compare_ODist_SHD(pairs, nb_samples):\n",
    "    X = []\n",
    "    for model_a, model_b in pairs:\n",
    "        x_0 = ODist(model_a, model_b, nb_samples, discrete=False)\n",
    "        x_1 = SHD(model_a.causal_graph, model_b.causal_graph)\n",
    "        X.append([x_0, x_1])\n",
    "    return DataFrame.from_records(X, columns=['OD', 'SHD'])"
   ]
  },
  {
   "cell_type": "code",
   "execution_count": 36,
   "metadata": {
    "hidden": true
   },
   "outputs": [],
   "source": [
    "od_shd = compare_ODist_SHD(model_pairs, 1000)"
   ]
  },
  {
   "cell_type": "code",
   "execution_count": 43,
   "metadata": {
    "hidden": true
   },
   "outputs": [],
   "source": [
    "def compare_IDist_SID(pairs, nb_samples):\n",
    "    X = []\n",
    "    for model_a, model_b in pairs:\n",
    "        x_0 = IDist(model_a, model_b, nb_samples, discrete=False)\n",
    "        x_1 = SID(model_a.causal_graph, model_b.causal_graph)\n",
    "        X.append([x_0, x_1])\n",
    "    return DataFrame.from_records(X, columns=['ID', 'SID'])"
   ]
  },
  {
   "cell_type": "code",
   "execution_count": 44,
   "metadata": {
    "hidden": true
   },
   "outputs": [],
   "source": [
    "id_sid = compare_IDist_SID(model_pairs, 500)"
   ]
  },
  {
   "cell_type": "code",
   "execution_count": 45,
   "metadata": {
    "hidden": true
   },
   "outputs": [],
   "source": [
    "def compare_IDist_SHD(pairs, nb_samples):\n",
    "    X = []\n",
    "    for model_a, model_b in pairs:\n",
    "        x_0 = IDist(model_a, model_b, nb_samples, discrete=False)\n",
    "        x_1 = SHD(model_a.causal_graph, model_b.causal_graph)\n",
    "        X.append([x_0, x_1])\n",
    "    return DataFrame.from_records(X, columns=['ID', 'SHD'])"
   ]
  },
  {
   "cell_type": "code",
   "execution_count": 46,
   "metadata": {
    "hidden": true
   },
   "outputs": [],
   "source": [
    "id_shd = compare_IDist_SHD(model_pairs, 500)"
   ]
  },
  {
   "cell_type": "code",
   "execution_count": 137,
   "metadata": {
    "hidden": true
   },
   "outputs": [],
   "source": [
    "def relplot(data, x, y, fname=None):\n",
    "    plt.close()\n",
    "    sns.set_context(\"notebook\")\n",
    "    ax = sns.relplot(x=x, y=y, data=data, s=100, alpha=0.5)\n",
    "    plt.grid(False)\n",
    "    plt.xlabel(x, fontsize=17)\n",
    "    plt.ylabel(y, fontsize=17)\n",
    "    if fname:\n",
    "        plt.savefig(fname, format=\"pdf\")\n",
    "    plt.show()"
   ]
  },
  {
   "cell_type": "markdown",
   "metadata": {
    "hidden": true
   },
   "source": [
    "### Results"
   ]
  },
  {
   "cell_type": "code",
   "execution_count": 135,
   "metadata": {
    "hidden": true
   },
   "outputs": [
    {
     "data": {
      "image/png": "[encoded data removed]",
      "text/plain": [
       "<Figure size 360x360 with 1 Axes>"
      ]
     },
     "metadata": {},
     "output_type": "display_data"
    }
   ],
   "source": [
    "relplot(od_sid, 'SID', 'OD', 'results/sid_od.pdf')"
   ]
  },
  {
   "cell_type": "code",
   "execution_count": 138,
   "metadata": {
    "hidden": true
   },
   "outputs": [
    {
     "data": {
      "image/png": "[encoded data removed]",
      "text/plain": [
       "<Figure size 360x360 with 1 Axes>"
      ]
     },
     "metadata": {},
     "output_type": "display_data"
    }
   ],
   "source": [
    "relplot(od_shd, 'SHD', 'OD', 'results/shd_od.pdf')"
   ]
  },
  {
   "cell_type": "code",
   "execution_count": 139,
   "metadata": {
    "hidden": true
   },
   "outputs": [
    {
     "data": {
      "image/png": "[encoded data removed]",
      "text/plain": [
       "<Figure size 360x360 with 1 Axes>"
      ]
     },
     "metadata": {},
     "output_type": "display_data"
    }
   ],
   "source": [
    "relplot(id_sid, 'SID', 'ID', 'results/sid_id.pdf')"
   ]
  },
  {
   "cell_type": "code",
   "execution_count": 140,
   "metadata": {
    "hidden": true
   },
   "outputs": [
    {
     "data": {
      "image/png": "[encoded data removed]",
      "text/plain": [
       "<Figure size 360x360 with 1 Axes>"
      ]
     },
     "metadata": {},
     "output_type": "display_data"
    }
   ],
   "source": [
    "relplot(id_shd, 'SHD', 'ID', 'results/shd_id.pdf')"
   ]
  },
  {
   "cell_type": "markdown",
   "metadata": {
    "heading_collapsed": true
   },
   "source": [
    "# Geometry"
   ]
  },
  {
   "cell_type": "markdown",
   "metadata": {
    "heading_collapsed": true,
    "hidden": true
   },
   "source": [
    "### Helpers"
   ]
  },
  {
   "cell_type": "code",
   "execution_count": 16,
   "metadata": {
    "hidden": true
   },
   "outputs": [],
   "source": [
    "from CausalModel import Mechanisms, SCM\n",
    "from CausalModel.Mechanisms import LinearAdditive\n",
    "from CausalModel.BayesianNetwork import BayesianNetwork"
   ]
  },
  {
   "cell_type": "code",
   "execution_count": 17,
   "metadata": {
    "hidden": true
   },
   "outputs": [],
   "source": [
    "def default_noise(n):\n",
    "    return IndependentComponentsDistribution([NormalDistribution(0, 0.1) for _ in range(n)])\n",
    "\n",
    "nodes = [0, 1, 2]\n",
    "betas = [0.1, 0.5, 1, 2, 5]\n",
    "noise = default_noise(2)\n",
    "\n",
    "zero_one = nx.DiGraph([(nodes[0], nodes[1])])\n",
    "one_zero = nx.DiGraph([(nodes[1], nodes[0])])\n",
    "\n",
    "for i, node in zero_one.nodes(data=True):\n",
    "    node['observed'] = True\n",
    "\n",
    "for i, node in one_zero.nodes(data=True):\n",
    "    node['observed'] = True\n",
    "\n",
    "all_scms = {}\n",
    "for beta in betas:\n",
    "    ## 0 -> 1+\n",
    "    causal_struct = copy.deepcopy(zero_one)\n",
    "    mechanism_end = Mechanisms.LinearAdditive(1)\n",
    "    mechanism_in = Mechanisms.LinearAdditive(0)\n",
    "    mechanism_end.coeffs = [beta]\n",
    "    mechanisms = [mechanism_in, mechanism_end]\n",
    "    name = '0->1+::' + str(beta)\n",
    "    all_scms[name] = SCM.SCM(causal_struct, mechanisms, default_noise(2))\n",
    "    \n",
    "    ## 0 -> 1-\n",
    "    causal_struct = copy.deepcopy(zero_one)\n",
    "    mechanism_end = Mechanisms.LinearAdditive(1)\n",
    "    mechanism_in = Mechanisms.LinearAdditive(0)\n",
    "    mechanism_end.coeffs = [-beta]\n",
    "    mechanisms = [mechanism_in, mechanism_end]\n",
    "    name = '0->1-::' + str(beta)\n",
    "    all_scms[name] = SCM.SCM(causal_struct, mechanisms, default_noise(2))\n",
    "    \n",
    "    ## 1 -> 0+\n",
    "    causal_struct = copy.deepcopy(one_zero)    \n",
    "    mechanism_end = Mechanisms.LinearAdditive(1)\n",
    "    mechanism_in = Mechanisms.LinearAdditive(0)\n",
    "    mechanism_end.coeffs = [beta]\n",
    "    mechanisms = [mechanism_end, mechanism_in]\n",
    "    name = '1->0+::' + str(beta)\n",
    "    all_scms[name] = SCM.SCM(causal_struct, mechanisms, default_noise(2))\n",
    "    \n",
    "    ## 1 -> 0-\n",
    "    causal_struct = copy.deepcopy(one_zero)    \n",
    "    mechanism_end = Mechanisms.LinearAdditive(1)\n",
    "    mechanism_in = Mechanisms.LinearAdditive(0)\n",
    "    mechanism_end.coeffs = [-beta]\n",
    "    mechanisms = [mechanism_end, mechanism_in]\n",
    "    name = '1->0-::' + str(beta)\n",
    "    all_scms[name] = SCM.SCM(causal_struct, mechanisms, default_noise(2))"
   ]
  },
  {
   "cell_type": "code",
   "execution_count": 18,
   "metadata": {
    "hidden": true
   },
   "outputs": [],
   "source": [
    "def pairwise_distances_IDist(all_scms):\n",
    "    pairwise_distance_matrix = np.zeros((len(all_scms), len(all_scms)))\n",
    "    it = dict(enumerate(all_scms))\n",
    "    for i in range(len(it)):\n",
    "        for j in range(i+1,len(it)):\n",
    "            el_i = all_scms[it[i]]\n",
    "            el_j = all_scms[it[j]]\n",
    "            dist = IDist(el_i, el_j, 100, l_samples=15, discrete=False, add_OD=True)\n",
    "            pairwise_distance_matrix[i][j] = dist\n",
    "            pairwise_distance_matrix[j][i] = dist\n",
    "    return pairwise_distance_matrix, it.values()\n",
    "\n",
    "def pairwise_distances_ODist(all_scms):\n",
    "    pairwise_distance_matrix = np.zeros((len(all_scms), len(all_scms)))\n",
    "    it = dict(enumerate(all_scms))\n",
    "    for i in range(len(it)):\n",
    "        for j in range(i+1,len(it)):\n",
    "            el_i = all_scms[it[i]]\n",
    "            el_j = all_scms[it[j]]\n",
    "            dist = ODist(el_i, el_j, 1000, discrete=False)\n",
    "            pairwise_distance_matrix[i][j] = dist\n",
    "            pairwise_distance_matrix[j][i] = dist\n",
    "    return pairwise_distance_matrix, it.values()\n",
    "\n",
    "def pairwise_distances_SID(all_scms):\n",
    "    pairwise_distance_matrix = np.zeros((len(all_scms), len(all_scms)))\n",
    "    it = dict(enumerate(all_scms))\n",
    "    for i in range(len(it)):\n",
    "        for j in range(i+1,len(it)):\n",
    "            el_i = all_scms[it[i]]\n",
    "            el_j = all_scms[it[j]]\n",
    "            dist = SID(el_i.causal_graph, el_j.causal_graph)\n",
    "            pairwise_distance_matrix[i][j] = dist\n",
    "            pairwise_distance_matrix[j][i] = dist\n",
    "    return pairwise_distance_matrix, it.values()"
   ]
  },
  {
   "cell_type": "code",
   "execution_count": 19,
   "metadata": {
    "hidden": true
   },
   "outputs": [],
   "source": [
    "def convert_label(s):\n",
    "    if s == \"0->1+\":\n",
    "        return \"$A \\\\nearrow  B$\"\n",
    "    if s == \"0->1-\":\n",
    "        return \"$A \\searrow  B$\"\n",
    "    if s == \"1->0-\":\n",
    "        return \"$B \\searrow  A$\"\n",
    "    if s == \"1->0+\":\n",
    "        return \"$B \\\\nearrow  A$\"\n",
    "\n",
    "def plot_embedding_3D(pairwise_distance_matrix, labels):\n",
    "    embedding = MDS(n_components=3, dissimilarity='precomputed')\n",
    "    data = embedding.fit_transform(pairwise_distance_matrix)\n",
    "    \n",
    "    fig = plt.figure()\n",
    "    ax = fig.add_subplot(111, projection='3d')\n",
    "    ax.scatter(data[:, 0], data[:, 1], data[:, 2], c='blue', s=60)\n",
    "    ax.view_init(30, 295)\n",
    "    plt.show()\n",
    "    \n",
    "def plot_embedding_sns(pairwise_distance_matrix, labels, fname=None):\n",
    "    embedding = MDS(n_components=2, dissimilarity='precomputed')\n",
    "    data = embedding.fit_transform(pairwise_distance_matrix)\n",
    "    \n",
    "    df = DataFrame({'x': data[:, 0], 'y': data[:, 1]})\n",
    "    df['Model Type'] = [convert_label(l.split('::')[0]) for l in labels]\n",
    "    df['Strength ($\\\\alpha$)'] = [float(l.split('::')[-1]) for l in labels]\n",
    "    \n",
    "    sns.set_context(\"paper\")\n",
    "    plt.close()\n",
    "    sns.set_style(\"whitegrid\", {'axes.spines.top': True, 'axes.spines.right': True})\n",
    "#    color_palette = ['#F5793A', '#A95AA1', '#85C0F9', '#0F2080']\n",
    "#    sns.color_palette()[0:0+4]\n",
    "    color_palette = sns.color_palette(\"RdBu\", n_colors=7)\n",
    "    palette = [current_palette[1], current_palette[3], current_palette[4], current_palette[5]]\n",
    "    g = sns.relplot(x=\"x\", y=\"y\", hue=\"Model Type\", size=\"Strength ($\\\\alpha$)\", palette=palette, sizes=(30, 700), data=df, legend='full')\n",
    "\n",
    "    g.set_xlabels('', fontsize=1)\n",
    "    g.set_ylabels('', fontsize=1)\n",
    "    \n",
    "    if fname:\n",
    "        plt.savefig(fname, format=\"pdf\")    \n",
    "    plt.show()\n"
   ]
  },
  {
   "cell_type": "markdown",
   "metadata": {
    "hidden": true
   },
   "source": [
    "### Results"
   ]
  },
  {
   "cell_type": "code",
   "execution_count": 25,
   "metadata": {
    "hidden": true
   },
   "outputs": [],
   "source": [
    "dist_mat_IDist, labels = pairwise_distances_IDist(all_scms)"
   ]
  },
  {
   "cell_type": "code",
   "execution_count": 112,
   "metadata": {
    "hidden": true
   },
   "outputs": [
    {
     "data": {
      "image/png": "[encoded data removed]",
      "text/plain": [
       "<Figure size 440.417x360 with 1 Axes>"
      ]
     },
     "metadata": {},
     "output_type": "display_data"
    }
   ],
   "source": [
    "plot_embedding_sns(dist_mat_IDist, labels, fname='results/geometry_id.pdf')"
   ]
  },
  {
   "cell_type": "code",
   "execution_count": 80,
   "metadata": {
    "hidden": true
   },
   "outputs": [],
   "source": [
    "dist_mat_ODist, labels = pairwise_distances_ODist(all_scms)"
   ]
  },
  {
   "cell_type": "code",
   "execution_count": 114,
   "metadata": {
    "hidden": true
   },
   "outputs": [
    {
     "data": {
      "image/png": "[encoded data removed]",
      "text/plain": [
       "<Figure size 440.417x360 with 1 Axes>"
      ]
     },
     "metadata": {},
     "output_type": "display_data"
    }
   ],
   "source": [
    "plot_embedding_sns(dist_mat_ODist, labels, fname='results/geometry_od.pdf')"
   ]
  },
  {
   "cell_type": "code",
   "execution_count": 90,
   "metadata": {
    "hidden": true
   },
   "outputs": [],
   "source": [
    "dist_mat_SID, labels = pairwise_distances_SID(all_scms)"
   ]
  },
  {
   "cell_type": "code",
   "execution_count": 115,
   "metadata": {
    "hidden": true
   },
   "outputs": [
    {
     "data": {
      "image/png": "[encoded data removed]",
      "text/plain": [
       "<Figure size 440.417x360 with 1 Axes>"
      ]
     },
     "metadata": {},
     "output_type": "display_data"
    }
   ],
   "source": [
    "plot_embedding_sns(dist_mat_SID, labels, fname='results/geometry_sid.pdf')"
   ]
  },
  {
   "cell_type": "markdown",
   "metadata": {},
   "source": [
    "# Sample Efficiency"
   ]
  },
  {
   "cell_type": "markdown",
   "metadata": {},
   "source": [
    "### NB SAMPLES"
   ]
  },
  {
   "cell_type": "code",
   "execution_count": 31,
   "metadata": {},
   "outputs": [],
   "source": [
    "default_structure = {\n",
    "    'nb_nodes': 3,\n",
    "    'density': 0.3,  # 0.4 / (n ** 1.25 / 10)\n",
    "    'cycles': False,\n",
    "    'fraction_observed': 1\n",
    "}"
   ]
  },
  {
   "cell_type": "code",
   "execution_count": 32,
   "metadata": {},
   "outputs": [],
   "source": [
    "def OD_sample_efficiency(scm_a, scm_b, K, repetitions):\n",
    "    data_points = []\n",
    "    for k in K:\n",
    "        for _ in range(repetitions):\n",
    "            d = ODist(scm_a, scm_b, nb_samples=k, discrete=False)\n",
    "            data_points.append([k, d])\n",
    "    max_d = max([d_ for _, d_ in data_points])\n",
    "    updated_data_points = [[k, float(d / max_d)] for k, d in data_points]\n",
    "    return DataFrame.from_records(updated_data_points, columns=['nb_samples', 'ODist'])\n",
    "\n",
    "def ID_sample_efficiency(scm_a, scm_b, K, repetitions):\n",
    "    data_points = []\n",
    "    for k in K:\n",
    "        for _ in range(repetitions):\n",
    "            d = IDist(scm_a, scm_b, nb_samples=k, discrete=False)\n",
    "            data_points.append([k, d])\n",
    "    max_d = max([d_ for _, d_ in data_points])\n",
    "    updated_data_points = [[k, float(d / max_d)] for k, d in data_points]\n",
    "    return DataFrame.from_records(updated_data_points, columns=['nb_samples', 'IDist'])\n",
    "\n",
    "def CD_sample_efficiency(scm_a, scm_b, X, K, repetitions):\n",
    "    data_points = []\n",
    "    for k in K:\n",
    "        for _ in range(repetitions):\n",
    "            d = CDist(scm_a, scm_b, nb_samples_x=X, nb_samples_k=k, discrete=False)\n",
    "            data_points.append([k*X, d])\n",
    "    max_d = max([d_ for _, d_ in data_points])\n",
    "    updated_data_points = [[k, float(d / max_d)] for k, d in data_points]\n",
    "    return DataFrame.from_records(updated_data_points, columns=['nb_samples', 'CDist'])"
   ]
  },
  {
   "cell_type": "code",
   "execution_count": 33,
   "metadata": {},
   "outputs": [],
   "source": [
    "scm_a = sample_models.generate_linear_gaussian(nb_models=1)"
   ]
  },
  {
   "cell_type": "code",
   "execution_count": 34,
   "metadata": {},
   "outputs": [],
   "source": [
    "K = [1, 100, 200, 500]\n",
    "repetitions = 10"
   ]
  },
  {
   "cell_type": "code",
   "execution_count": 39,
   "metadata": {},
   "outputs": [],
   "source": [
    "OD_convergence = OD_sample_efficiency(scm_a, scm_a, K, repetitions)"
   ]
  },
  {
   "cell_type": "code",
   "execution_count": 41,
   "metadata": {},
   "outputs": [],
   "source": [
    "ID_convergence = ID_sample_efficiency(scm_a, scm_a, K, repetitions)"
   ]
  },
  {
   "cell_type": "code",
   "execution_count": 37,
   "metadata": {},
   "outputs": [
    {
     "name": "stdout",
     "output_type": "stream",
     "text": [
      "find_reasonable_epsilon= 0.25\n",
      "find_reasonable_epsilon= 2.0\n",
      "find_reasonable_epsilon= 0.25\n",
      "find_reasonable_epsilon= 0.25\n",
      "find_reasonable_epsilon= 0.25\n",
      "find_reasonable_epsilon= 0.25\n",
      "find_reasonable_epsilon= 0.25\n",
      "find_reasonable_epsilon= 0.25\n",
      "find_reasonable_epsilon= 0.25\n",
      "find_reasonable_epsilon= 0.25\n",
      "find_reasonable_epsilon= 0.25\n",
      "find_reasonable_epsilon= 0.25\n",
      "find_reasonable_epsilon= 2.0\n",
      "find_reasonable_epsilon= 2.0\n",
      "find_reasonable_epsilon= 0.25\n",
      "find_reasonable_epsilon= 2.0\n",
      "find_reasonable_epsilon= 2.0\n",
      "find_reasonable_epsilon= 0.25\n",
      "find_reasonable_epsilon= 0.25\n",
      "find_reasonable_epsilon= 0.25\n",
      "find_reasonable_epsilon= 2.0\n",
      "find_reasonable_epsilon= 0.25\n",
      "find_reasonable_epsilon= 0.25\n",
      "find_reasonable_epsilon= 0.25\n"
     ]
    }
   ],
   "source": [
    "CD_convergence = CD_sample_efficiency(scm_a, scm_a, 1, [1, 100, 200, 500], repetitions=3)"
   ]
  },
  {
   "cell_type": "markdown",
   "metadata": {},
   "source": [
    "### Results"
   ]
  },
  {
   "cell_type": "code",
   "execution_count": 42,
   "metadata": {},
   "outputs": [
    {
     "data": {
      "image/png": "[encoded data removed]",
      "text/plain": [
       "<Figure size 432x288 with 1 Axes>"
      ]
     },
     "metadata": {
      "needs_background": "light"
     },
     "output_type": "display_data"
    }
   ],
   "source": [
    "sns.set_context(\"paper\")\n",
    "\n",
    "ax = sns.lineplot(x='nb_samples', y='ODist', ci=\"sd\", data=OD_convergence, label='OD', marker=\"o\", color=\"#63ACBE\")\n",
    "sns.lineplot(x='nb_samples', y='IDist', ci=\"sd\", ax=ax, data=ID_convergence, label='ID', marker=\"o\", color=\"#EE442F\")\n",
    "sns.lineplot(x='nb_samples', y='CDist', ci=\"sd\", data=CD_convergence, ax=ax, label='CD', marker=\"o\", color=\"#601A4A\")\n",
    "plt.xlabel('Number of samples (k)', fontsize=17)\n",
    "plt.ylabel(' Normalized Error', fontsize=17)\n",
    "\n",
    "ax.legend(fontsize='x-large')\n",
    "ax.spines['right'].set_visible(False)\n",
    "ax.spines['top'].set_visible(False)\n",
    "plt.savefig(\"results/sample_efficiency.pdf\", bbox_inches='tight', format=\"pdf\")"
   ]
  },
  {
   "cell_type": "markdown",
   "metadata": {
    "heading_collapsed": true
   },
   "source": [
    "### k,l,m Sample Efficiency"
   ]
  },
  {
   "cell_type": "code",
   "execution_count": 84,
   "metadata": {
    "hidden": true
   },
   "outputs": [],
   "source": [
    "def k_sample_efficiency(scm_a, scm_b, K, repetitions):\n",
    "    data_points = []\n",
    "    for k in K:\n",
    "        for _ in range(repetitions):\n",
    "            d = ODist(scm_a, scm_b, nb_samples=k, discrete=False)\n",
    "            data_points.append([k, d])\n",
    "    max_d = max([d_ for _, d_ in data_points])\n",
    "    updated_data_points = [[float(k / max(K)), float(d / max_d)] for k, d in data_points]\n",
    "    return DataFrame.from_records(updated_data_points, columns=['nb_samples', 'ODist'])\n",
    "    \n",
    "def l_sample_efficiency(scm_a, scm_b, L, repetitions):\n",
    "    data_points = []\n",
    "    for l in L:\n",
    "        for _ in range(repetitions):\n",
    "            d = IDist(scm_a, scm_b, nb_samples=500, l_samples=l, discrete=False)\n",
    "            data_points.append([l, d])\n",
    "    max_d = max([d_ for _, d_ in data_points])\n",
    "    updated_data_points = [[float(l / max(L)), float(d / max_d)] for l, d in data_points]\n",
    "    return DataFrame.from_records(updated_data_points, columns=['nb_samples', 'IDist'])\n",
    "\n",
    "def m_sample_efficiency(scm_a, scm_b, M, repetitions):\n",
    "    data_points = []\n",
    "    for m in M:\n",
    "        for _ in range(repetitions):\n",
    "            d = CDist(scm_a, scm_b, nb_samples_x=m, discrete=False)\n",
    "            data_points.append([m, d])\n",
    "    max_d = max([d_ for _, d_ in data_points])\n",
    "    updated_data_points = [[float(m / max(M)), float(d / max_d)] for m, d in data_points]\n",
    "    return DataFrame.from_records(updated_data_points, columns=['nb_samples', 'CDist'])"
   ]
  },
  {
   "cell_type": "code",
   "execution_count": 77,
   "metadata": {
    "hidden": true
   },
   "outputs": [],
   "source": [
    "k_convergence = k_sample_efficiency(scm_a, scm_a, [1, 100, 200, 500], repetitions=10)"
   ]
  },
  {
   "cell_type": "code",
   "execution_count": 78,
   "metadata": {
    "hidden": true
   },
   "outputs": [],
   "source": [
    "l_convergence = l_sample_efficiency(scm_a, scm_a, [1, 5, 10, 20], repetitions=10)"
   ]
  },
  {
   "cell_type": "code",
   "execution_count": 85,
   "metadata": {
    "hidden": true
   },
   "outputs": [
    {
     "name": "stdout",
     "output_type": "stream",
     "text": [
      "find_reasonable_epsilon= 0.25\n",
      "find_reasonable_epsilon= 0.25\n",
      "find_reasonable_epsilon= 0.25\n",
      "find_reasonable_epsilon= 0.25\n",
      "find_reasonable_epsilon= 0.25\n",
      "find_reasonable_epsilon= 0.125\n",
      "find_reasonable_epsilon= 0.25\n",
      "find_reasonable_epsilon= 0.25\n",
      "find_reasonable_epsilon= 0.25\n",
      "find_reasonable_epsilon= 0.25\n",
      "find_reasonable_epsilon= 0.25\n",
      "find_reasonable_epsilon= 0.25\n",
      "find_reasonable_epsilon= 0.25\n",
      "find_reasonable_epsilon= 0.25\n",
      "find_reasonable_epsilon= 0.25\n",
      "find_reasonable_epsilon= 0.125\n",
      "find_reasonable_epsilon= 0.25\n",
      "find_reasonable_epsilon= 0.25\n",
      "find_reasonable_epsilon= 0.25\n",
      "find_reasonable_epsilon= 0.25\n",
      "find_reasonable_epsilon= 0.25\n",
      "find_reasonable_epsilon= 0.25\n",
      "find_reasonable_epsilon= 0.125\n",
      "find_reasonable_epsilon= 0.25\n",
      "find_reasonable_epsilon= 0.25\n",
      "find_reasonable_epsilon= 0.25\n",
      "find_reasonable_epsilon= 0.125\n",
      "find_reasonable_epsilon= 0.25\n",
      "find_reasonable_epsilon= 0.25\n",
      "find_reasonable_epsilon= 0.25\n",
      "find_reasonable_epsilon= 0.25\n",
      "find_reasonable_epsilon= 0.125\n",
      "find_reasonable_epsilon= 0.125\n",
      "find_reasonable_epsilon= 0.25\n",
      "find_reasonable_epsilon= 0.25\n",
      "find_reasonable_epsilon= 0.25\n",
      "find_reasonable_epsilon= 0.25\n",
      "find_reasonable_epsilon= 0.25\n",
      "find_reasonable_epsilon= 0.25\n",
      "find_reasonable_epsilon= 0.25\n",
      "find_reasonable_epsilon= 0.25\n",
      "find_reasonable_epsilon= 0.25\n",
      "find_reasonable_epsilon= 0.125\n",
      "find_reasonable_epsilon= 0.25\n",
      "find_reasonable_epsilon= 0.25\n",
      "find_reasonable_epsilon= 0.25\n",
      "find_reasonable_epsilon= 0.125\n",
      "find_reasonable_epsilon= 0.25\n",
      "find_reasonable_epsilon= 0.25\n",
      "find_reasonable_epsilon= 0.25\n",
      "find_reasonable_epsilon= 0.25\n",
      "find_reasonable_epsilon= 0.25\n",
      "find_reasonable_epsilon= 0.25\n",
      "find_reasonable_epsilon= 0.25\n",
      "find_reasonable_epsilon= 0.25\n",
      "find_reasonable_epsilon= 0.25\n",
      "find_reasonable_epsilon= 0.25\n",
      "find_reasonable_epsilon= 0.25\n",
      "find_reasonable_epsilon= 0.25\n",
      "find_reasonable_epsilon= 0.25\n",
      "find_reasonable_epsilon= 0.25\n",
      "find_reasonable_epsilon= 0.25\n",
      "find_reasonable_epsilon= 0.125\n",
      "find_reasonable_epsilon= 0.125\n",
      "find_reasonable_epsilon= 0.25\n",
      "find_reasonable_epsilon= 0.25\n",
      "find_reasonable_epsilon= 0.25\n",
      "find_reasonable_epsilon= 0.25\n",
      "find_reasonable_epsilon= 0.125\n",
      "find_reasonable_epsilon= 0.25\n",
      "find_reasonable_epsilon= 0.25\n",
      "find_reasonable_epsilon= 0.25\n",
      "find_reasonable_epsilon= 0.125\n",
      "find_reasonable_epsilon= 0.125\n",
      "find_reasonable_epsilon= 0.25\n",
      "find_reasonable_epsilon= 0.25\n",
      "find_reasonable_epsilon= 0.125\n",
      "find_reasonable_epsilon= 0.25\n",
      "find_reasonable_epsilon= 0.125\n",
      "find_reasonable_epsilon= 0.125\n",
      "find_reasonable_epsilon= 0.25\n",
      "find_reasonable_epsilon= 0.125\n",
      "find_reasonable_epsilon= 0.125\n",
      "find_reasonable_epsilon= 0.25\n",
      "find_reasonable_epsilon= 0.25\n",
      "find_reasonable_epsilon= 0.25\n",
      "find_reasonable_epsilon= 0.125\n",
      "find_reasonable_epsilon= 0.25\n",
      "find_reasonable_epsilon= 0.25\n",
      "find_reasonable_epsilon= 0.25\n",
      "find_reasonable_epsilon= 0.25\n",
      "find_reasonable_epsilon= 0.25\n",
      "find_reasonable_epsilon= 0.25\n",
      "find_reasonable_epsilon= 0.125\n",
      "find_reasonable_epsilon= 0.25\n",
      "find_reasonable_epsilon= 0.25\n",
      "find_reasonable_epsilon= 0.125\n",
      "find_reasonable_epsilon= 0.125\n",
      "find_reasonable_epsilon= 0.25\n",
      "find_reasonable_epsilon= 0.25\n",
      "find_reasonable_epsilon= 0.25\n",
      "find_reasonable_epsilon= 0.25\n",
      "find_reasonable_epsilon= 0.25\n",
      "find_reasonable_epsilon= 0.25\n",
      "find_reasonable_epsilon= 0.25\n",
      "find_reasonable_epsilon= 0.25\n",
      "find_reasonable_epsilon= 0.25\n",
      "find_reasonable_epsilon= 0.125\n",
      "find_reasonable_epsilon= 0.25\n",
      "find_reasonable_epsilon= 0.25\n",
      "find_reasonable_epsilon= 0.25\n",
      "find_reasonable_epsilon= 0.25\n",
      "find_reasonable_epsilon= 0.25\n",
      "find_reasonable_epsilon= 0.25\n",
      "find_reasonable_epsilon= 0.25\n",
      "find_reasonable_epsilon= 0.125\n",
      "find_reasonable_epsilon= 0.25\n",
      "find_reasonable_epsilon= 0.25\n",
      "find_reasonable_epsilon= 0.25\n",
      "find_reasonable_epsilon= 0.25\n",
      "find_reasonable_epsilon= 0.25\n",
      "find_reasonable_epsilon= 0.25\n",
      "find_reasonable_epsilon= 0.25\n",
      "find_reasonable_epsilon= 0.25\n",
      "find_reasonable_epsilon= 0.25\n",
      "find_reasonable_epsilon= 0.25\n",
      "find_reasonable_epsilon= 0.25\n",
      "find_reasonable_epsilon= 0.25\n",
      "find_reasonable_epsilon= 0.25\n",
      "find_reasonable_epsilon= 0.25\n",
      "find_reasonable_epsilon= 0.25\n",
      "find_reasonable_epsilon= 0.125\n",
      "find_reasonable_epsilon= 0.25\n",
      "find_reasonable_epsilon= 0.25\n",
      "find_reasonable_epsilon= 0.25\n",
      "find_reasonable_epsilon= 0.25\n",
      "find_reasonable_epsilon= 0.125\n",
      "find_reasonable_epsilon= 0.25\n",
      "find_reasonable_epsilon= 0.25\n",
      "find_reasonable_epsilon= 0.25\n",
      "find_reasonable_epsilon= 0.25\n",
      "find_reasonable_epsilon= 0.25\n",
      "find_reasonable_epsilon= 0.25\n",
      "find_reasonable_epsilon= 0.25\n",
      "find_reasonable_epsilon= 0.25\n",
      "find_reasonable_epsilon= 0.25\n",
      "find_reasonable_epsilon= 0.25\n",
      "find_reasonable_epsilon= 0.25\n",
      "find_reasonable_epsilon= 0.25\n",
      "find_reasonable_epsilon= 0.25\n",
      "find_reasonable_epsilon= 0.25\n",
      "find_reasonable_epsilon= 0.125\n",
      "find_reasonable_epsilon= 0.25\n",
      "find_reasonable_epsilon= 0.25\n",
      "find_reasonable_epsilon= 0.25\n",
      "find_reasonable_epsilon= 0.25\n",
      "find_reasonable_epsilon= 0.25\n",
      "find_reasonable_epsilon= 0.25\n",
      "find_reasonable_epsilon= 0.25\n",
      "find_reasonable_epsilon= 0.25\n",
      "find_reasonable_epsilon= 0.25\n",
      "find_reasonable_epsilon= 0.125\n",
      "find_reasonable_epsilon= 0.25\n",
      "find_reasonable_epsilon= 0.125\n",
      "find_reasonable_epsilon= 0.25\n",
      "find_reasonable_epsilon= 0.25\n",
      "find_reasonable_epsilon= 0.25\n",
      "find_reasonable_epsilon= 0.125\n",
      "find_reasonable_epsilon= 0.125\n",
      "find_reasonable_epsilon= 0.25\n",
      "find_reasonable_epsilon= 0.25\n",
      "find_reasonable_epsilon= 0.25\n",
      "find_reasonable_epsilon= 0.25\n",
      "find_reasonable_epsilon= 0.25\n",
      "find_reasonable_epsilon= 0.25\n",
      "find_reasonable_epsilon= 0.25\n",
      "find_reasonable_epsilon= 0.25\n",
      "find_reasonable_epsilon= 0.25\n",
      "find_reasonable_epsilon= 0.25\n",
      "find_reasonable_epsilon= 0.125\n",
      "find_reasonable_epsilon= 0.25\n",
      "find_reasonable_epsilon= 0.25\n",
      "find_reasonable_epsilon= 0.25\n",
      "find_reasonable_epsilon= 0.25\n",
      "find_reasonable_epsilon= 0.25\n",
      "find_reasonable_epsilon= 0.25\n",
      "find_reasonable_epsilon= 0.25\n",
      "find_reasonable_epsilon= 0.25\n",
      "find_reasonable_epsilon= 0.25\n",
      "find_reasonable_epsilon= 0.25\n",
      "find_reasonable_epsilon= 0.25\n",
      "find_reasonable_epsilon= 0.25\n",
      "find_reasonable_epsilon= 0.125\n",
      "find_reasonable_epsilon= 0.125\n",
      "find_reasonable_epsilon= 0.25\n",
      "find_reasonable_epsilon= 0.125\n",
      "find_reasonable_epsilon= 0.25\n",
      "find_reasonable_epsilon= 0.25\n",
      "find_reasonable_epsilon= 0.25\n",
      "find_reasonable_epsilon= 0.25\n",
      "find_reasonable_epsilon= 0.25\n",
      "find_reasonable_epsilon= 0.125\n",
      "find_reasonable_epsilon= 0.25\n",
      "find_reasonable_epsilon= 0.25\n",
      "find_reasonable_epsilon= 0.125\n",
      "find_reasonable_epsilon= 0.25\n",
      "find_reasonable_epsilon= 0.25\n",
      "find_reasonable_epsilon= 0.25\n",
      "find_reasonable_epsilon= 0.125\n",
      "find_reasonable_epsilon= 0.25\n",
      "find_reasonable_epsilon= 0.25\n",
      "find_reasonable_epsilon= 0.25\n",
      "find_reasonable_epsilon= 0.125\n",
      "find_reasonable_epsilon= 0.125\n",
      "find_reasonable_epsilon= 0.125\n",
      "find_reasonable_epsilon= 0.25\n",
      "find_reasonable_epsilon= 0.25\n",
      "find_reasonable_epsilon= 0.25\n",
      "find_reasonable_epsilon= 0.25\n",
      "find_reasonable_epsilon= 0.25\n",
      "find_reasonable_epsilon= 0.25\n",
      "find_reasonable_epsilon= 0.25\n",
      "find_reasonable_epsilon= 0.25\n",
      "find_reasonable_epsilon= 0.25\n",
      "find_reasonable_epsilon= 0.125\n",
      "find_reasonable_epsilon= 0.25\n",
      "find_reasonable_epsilon= 0.25\n",
      "find_reasonable_epsilon= 0.25\n",
      "find_reasonable_epsilon= 0.25\n",
      "find_reasonable_epsilon= 0.25\n",
      "find_reasonable_epsilon= 0.25\n",
      "find_reasonable_epsilon= 0.25\n",
      "find_reasonable_epsilon= 0.125\n",
      "find_reasonable_epsilon= 0.25\n",
      "find_reasonable_epsilon= 0.25\n",
      "find_reasonable_epsilon= 0.25\n",
      "find_reasonable_epsilon= 0.25\n",
      "find_reasonable_epsilon= 0.25\n",
      "find_reasonable_epsilon= 0.125\n",
      "find_reasonable_epsilon= 0.25\n",
      "find_reasonable_epsilon= 0.25\n",
      "find_reasonable_epsilon= 0.125\n",
      "find_reasonable_epsilon= 0.25\n",
      "find_reasonable_epsilon= 0.25\n",
      "find_reasonable_epsilon= 0.125\n",
      "find_reasonable_epsilon= 0.125\n",
      "find_reasonable_epsilon= 0.25\n",
      "find_reasonable_epsilon= 0.25\n",
      "find_reasonable_epsilon= 0.25\n",
      "find_reasonable_epsilon= 0.25\n",
      "find_reasonable_epsilon= 0.25\n",
      "find_reasonable_epsilon= 0.25\n",
      "find_reasonable_epsilon= 0.25\n",
      "find_reasonable_epsilon= 0.125\n",
      "find_reasonable_epsilon= 0.25\n",
      "find_reasonable_epsilon= 0.125\n",
      "find_reasonable_epsilon= 0.25\n",
      "find_reasonable_epsilon= 0.25\n",
      "find_reasonable_epsilon= 0.25\n",
      "find_reasonable_epsilon= 0.25\n",
      "find_reasonable_epsilon= 0.125\n",
      "find_reasonable_epsilon= 0.25\n",
      "find_reasonable_epsilon= 0.25\n",
      "find_reasonable_epsilon= 0.25\n",
      "find_reasonable_epsilon= 0.25\n",
      "find_reasonable_epsilon= 0.25\n",
      "find_reasonable_epsilon= 0.25\n",
      "find_reasonable_epsilon= 0.25\n",
      "find_reasonable_epsilon= 0.25\n",
      "find_reasonable_epsilon= 0.25\n",
      "find_reasonable_epsilon= 0.125\n",
      "find_reasonable_epsilon= 0.25\n"
     ]
    },
    {
     "name": "stdout",
     "output_type": "stream",
     "text": [
      "find_reasonable_epsilon= 0.25\n",
      "find_reasonable_epsilon= 0.125\n",
      "find_reasonable_epsilon= 0.125\n",
      "find_reasonable_epsilon= 0.25\n",
      "find_reasonable_epsilon= 0.25\n",
      "find_reasonable_epsilon= 0.25\n",
      "find_reasonable_epsilon= 0.25\n",
      "find_reasonable_epsilon= 0.25\n",
      "find_reasonable_epsilon= 0.25\n",
      "find_reasonable_epsilon= 0.125\n",
      "find_reasonable_epsilon= 0.25\n",
      "find_reasonable_epsilon= 0.25\n",
      "find_reasonable_epsilon= 0.25\n",
      "find_reasonable_epsilon= 0.125\n",
      "find_reasonable_epsilon= 0.25\n",
      "find_reasonable_epsilon= 0.25\n",
      "find_reasonable_epsilon= 0.25\n",
      "find_reasonable_epsilon= 0.25\n",
      "find_reasonable_epsilon= 0.25\n",
      "find_reasonable_epsilon= 0.25\n",
      "find_reasonable_epsilon= 0.25\n",
      "find_reasonable_epsilon= 0.0625\n",
      "find_reasonable_epsilon= 0.25\n",
      "find_reasonable_epsilon= 0.25\n",
      "find_reasonable_epsilon= 0.25\n",
      "find_reasonable_epsilon= 0.125\n",
      "find_reasonable_epsilon= 0.25\n",
      "find_reasonable_epsilon= 0.25\n"
     ]
    }
   ],
   "source": [
    "m_convergence = m_sample_efficiency(scm_a, scm_a, [1, 2, 4, 8], repetitions=10)"
   ]
  },
  {
   "cell_type": "code",
   "execution_count": 86,
   "metadata": {
    "hidden": true
   },
   "outputs": [
    {
     "data": {
      "text/plain": [
       "<matplotlib.legend.Legend at 0x129829550>"
      ]
     },
     "execution_count": 86,
     "metadata": {},
     "output_type": "execute_result"
    },
    {
     "data": {
      "image/png": "[encoded data removed]",
      "text/plain": [
       "<Figure size 432x288 with 1 Axes>"
      ]
     },
     "metadata": {
      "needs_background": "light"
     },
     "output_type": "display_data"
    }
   ],
   "source": [
    "sns.set_context(\"notebook\")\n",
    "\n",
    "ax = sns.lineplot(x='nb_samples', y='ODist', ci=\"sd\", data=k_convergence, label='k', marker=\"o\", color=\"#63ACBE\")\n",
    "sns.lineplot(x='nb_samples', y='IDist', ci=\"sd\", ax=ax, data=l_convergence, label='l', marker=\"o\", color=\"#EE442F\")\n",
    "sns.lineplot(x='nb_samples', y='CDist', ci=\"sd\", data=m_convergence, ax=ax, label='m', marker=\"o\", color=\"#601A4A\")\n",
    "plt.xlabel('Number of samples (k)', fontsize=17)\n",
    "plt.ylabel(' Normalized Error', fontsize=17)\n",
    "\n",
    "ax.legend(fontsize='x-large')"
   ]
  },
  {
   "cell_type": "markdown",
   "metadata": {},
   "source": [
    "# Sensitivity Analysis"
   ]
  },
  {
   "cell_type": "markdown",
   "metadata": {},
   "source": [
    "### Helpers"
   ]
  },
  {
   "cell_type": "code",
   "execution_count": 6,
   "metadata": {},
   "outputs": [],
   "source": [
    "def perturbation(scm, epsilon):\n",
    "    new_model = copy.deepcopy(scm)\n",
    "    for m in new_model.mechanisms: \n",
    "        m.perturbate(epsilon)\n",
    "    return new_model"
   ]
  },
  {
   "cell_type": "code",
   "execution_count": 7,
   "metadata": {},
   "outputs": [],
   "source": [
    "def OD_sensitivity_analysis(scm, perturbations, K, repetitions):\n",
    "    data_points = []\n",
    "    for epsilon in perturbations:\n",
    "        perturbated_scm = perturbation(scm, epsilon)\n",
    "        for _ in range(repetitions):\n",
    "            d = ODist(scm, perturbated_scm, nb_samples=K, discrete=False)\n",
    "            data_points.append([epsilon, d])\n",
    "    max_d = max([d_ for _, d_ in data_points])\n",
    "    updated_data_points = [[eps, float(d / max_d)] for eps, d in data_points]\n",
    "    return DataFrame.from_records(updated_data_points, columns=['epsilon', 'ODist'])\n",
    "\n",
    "def ID_sensitivity_analysis(scm, perturbations, K, repetitions):\n",
    "    data_points = []\n",
    "    for epsilon in perturbations:\n",
    "        perturbated_scm = perturbation(scm, epsilon)\n",
    "        for _ in range(repetitions):\n",
    "            d = IDist(scm, perturbated_scm, nb_samples=K, discrete=False)\n",
    "            data_points.append([epsilon, d])\n",
    "    max_d = max([d_ for _, d_ in data_points])\n",
    "    updated_data_points = [[eps, float(d / max_d)] for eps, d in data_points]\n",
    "    return DataFrame.from_records(updated_data_points, columns=['epsilon', 'IDist'])\n",
    "\n",
    "def CD_sensitivity_analysis(scm, perturbations, X, K, repetitions):\n",
    "    data_points = []\n",
    "    for epsilon in perturbations:\n",
    "        print('{}::{}'.format(epsilon, perturbations))\n",
    "        perturbated_scm = perturbation(scm, epsilon)\n",
    "        for i in range(repetitions):\n",
    "            print('---{}::{}'.format(i, repetitions))\n",
    "            d = CDist(scm, perturbated_scm, nb_samples_x=X, nb_samples_k=K)\n",
    "            data_points.append([epsilon, d])\n",
    "    max_d = max([d_ for _, d_ in data_points])\n",
    "    updated_data_points = [[eps, float(d / max_d)] for eps, d in data_points]\n",
    "    return DataFrame.from_records(updated_data_points, columns=['epsilon', 'CDist'])"
   ]
  },
  {
   "cell_type": "code",
   "execution_count": 8,
   "metadata": {},
   "outputs": [],
   "source": [
    "default_structure = {\n",
    "    'nb_nodes': 4,\n",
    "    'density': 0.3,  # 0.4 / (n ** 1.25 / 10)\n",
    "    'cycles': False,\n",
    "    'fraction_observed': 1\n",
    "}"
   ]
  },
  {
   "cell_type": "code",
   "execution_count": 9,
   "metadata": {},
   "outputs": [],
   "source": [
    "scm = sample_models.generate_linear_gaussian(default_structure, nb_models=1)"
   ]
  },
  {
   "cell_type": "code",
   "execution_count": 10,
   "metadata": {},
   "outputs": [],
   "source": [
    "OD_sensitivity = OD_sensitivity_analysis(scm, [0.01, 0.1, 0.5, 1], 1000, 10)"
   ]
  },
  {
   "cell_type": "code",
   "execution_count": 11,
   "metadata": {},
   "outputs": [],
   "source": [
    "ID_sensitivity = ID_sensitivity_analysis(scm, [0.01, 0.1, 0.5, 1], 500, 10)"
   ]
  },
  {
   "cell_type": "code",
   "execution_count": 12,
   "metadata": {},
   "outputs": [
    {
     "name": "stdout",
     "output_type": "stream",
     "text": [
      "0.01::[0.01, 0.1, 1]\n",
      "---0::2\n",
      "x: [0.30901231 0.09249263 0.83007903 0.73802809]\n",
      "Creating noise\n",
      "find_reasonable_epsilon= 2.0\n",
      "find_reasonable_epsilon= 2.0\n",
      "End noise\n",
      "Run IDist\n",
      "End IDist\n",
      "---1::2\n",
      "x: [0.77920887 0.99117638 0.373939   0.63516711]\n",
      "Creating noise\n",
      "find_reasonable_epsilon= 0.25\n",
      "find_reasonable_epsilon= 0.25\n"
     ]
    },
    {
     "name": "stderr",
     "output_type": "stream",
     "text": [
      "invalid value encountered in double_scalars\n"
     ]
    },
    {
     "name": "stdout",
     "output_type": "stream",
     "text": [
      "End noise\n",
      "Run IDist\n",
      "End IDist\n",
      "0.1::[0.01, 0.1, 1]\n",
      "---0::2\n",
      "x: [0.00907702 0.94898111 0.00245276 0.48281153]\n",
      "Creating noise\n",
      "find_reasonable_epsilon= 0.25\n",
      "find_reasonable_epsilon= 0.25\n",
      "End noise\n",
      "Run IDist\n",
      "End IDist\n",
      "---1::2\n",
      "x: [0.44691869 0.79110783 0.6684656  0.69704769]\n",
      "Creating noise\n",
      "find_reasonable_epsilon= 0.25\n",
      "find_reasonable_epsilon= 2.0\n",
      "End noise\n",
      "Run IDist\n",
      "End IDist\n",
      "1::[0.01, 0.1, 1]\n",
      "---0::2\n",
      "x: [0.74809465 0.12785666 0.97381141 0.15113836]\n",
      "Creating noise\n",
      "find_reasonable_epsilon= 2.0\n",
      "find_reasonable_epsilon= 2.0\n",
      "End noise\n",
      "Run IDist\n",
      "End IDist\n",
      "---1::2\n",
      "x: [0.36230968 0.10180741 0.63737261 0.25688543]\n",
      "Creating noise\n",
      "find_reasonable_epsilon= 2.0\n",
      "find_reasonable_epsilon= 2.0\n",
      "End noise\n",
      "Run IDist\n",
      "End IDist\n"
     ]
    }
   ],
   "source": [
    "CD_sensitivity = CD_sensitivity_analysis(scm, [0.01, 0.1, 1], X=1, K=500, repetitions=2)"
   ]
  },
  {
   "cell_type": "code",
   "execution_count": 26,
   "metadata": {},
   "outputs": [
    {
     "data": {
      "image/png": "[encoded data removed]",
      "text/plain": [
       "<Figure size 432x288 with 1 Axes>"
      ]
     },
     "metadata": {
      "needs_background": "light"
     },
     "output_type": "display_data"
    }
   ],
   "source": [
    "sns.set_context(\"paper\")\n",
    "\n",
    "ax = sns.lineplot(x='epsilon', y='ODist', ci=\"sd\", data=OD_sensitivity, label='OD', marker=\"o\", color=\"#63ACBE\")\n",
    "sns.lineplot(x='epsilon', y='IDist', ci=\"sd\", ax=ax, data=ID_sensitivity, label='ID', marker=\"o\", color=\"#EE442F\")\n",
    "sns.lineplot(x='epsilon', y='CDist', ci=\"sd\", data=CD_sensitivity, ax=ax, label='CD', marker=\"o\", color=\"#601A4A\")\n",
    "plt.xlabel('epsilon', fontsize=17)\n",
    "plt.ylabel(' Normalized Error', fontsize=17)\n",
    "\n",
    "ax.legend(fontsize='x-large')\n",
    "ax.spines['right'].set_visible(False)\n",
    "ax.spines['top'].set_visible(False)\n",
    "plt.savefig(\"results/perturbations.pdf\", bbox_inches='tight', format=\"pdf\")"
   ]
  },
  {
   "cell_type": "markdown",
   "metadata": {},
   "source": [
    "# Specific Perturbations"
   ]
  },
  {
   "cell_type": "markdown",
   "metadata": {},
   "source": [
    "#### ID with OD constant"
   ]
  },
  {
   "cell_type": "code",
   "execution_count": 15,
   "metadata": {},
   "outputs": [],
   "source": [
    "from CausalModel.Mechanisms import LinearAdditive\n",
    "from CausalModel.SCM import SCM"
   ]
  },
  {
   "cell_type": "code",
   "execution_count": 16,
   "metadata": {},
   "outputs": [],
   "source": [
    "def build_graph(flipped):\n",
    "    G = nx.DiGraph()\n",
    "    G.add_node(0, observed=True)\n",
    "    G.add_node(1, observed=True)\n",
    "    if flipped:\n",
    "        G.add_edge(1,0)\n",
    "    else:\n",
    "        G.add_edge(0,1)\n",
    "#    nx.draw_networkx(G)\n",
    "    return G\n",
    "\n",
    "def build_mechanisms(beta, flipped):\n",
    "    A_mechanism = LinearAdditive(nb_causes=0)\n",
    "    B_mechanism = LinearAdditive(nb_causes=1, generate_random=False)\n",
    "    B_mechanism.coeffs = [beta]\n",
    "    if flipped:\n",
    "        return [B_mechanism, A_mechanism]\n",
    "    return [A_mechanism, B_mechanism]\n",
    "\n",
    "def build_noises(mu_a, sigma_a, mu_b, sigma_b):\n",
    "    return IndependentComponentsDistribution([\n",
    "        NormalDistribution(mu_a, sigma_a),\n",
    "        NormalDistribution(mu_b, sigma_b)\n",
    "    ])\n",
    "\n",
    "def build_SCM(beta, mu_a, sigma_a, mu_b, sigma_b, flipped=False):\n",
    "    G = build_graph(flipped)\n",
    "    mechanisms = build_mechanisms(beta, flipped)\n",
    "    noises = build_noises(mu_a, sigma_a, mu_b, sigma_b)\n",
    "    return SCM(G, mechanisms, noises)"
   ]
  },
  {
   "cell_type": "code",
   "execution_count": 17,
   "metadata": {},
   "outputs": [],
   "source": [
    "def ID_specific_comparison(repetitions):\n",
    "    a_b = build_SCM(1, 0, 1, 0, 1)\n",
    "    b_a = build_SCM(1./(np.sqrt(4)), 0, np.sqrt(0.5), 0, np.sqrt(2), flipped=True)\n",
    "    \n",
    "    data_points = []\n",
    "    for _ in range(repetitions):\n",
    "        data_points.append([0, IDist(a_b, a_b, nb_samples=100, l_samples=5, discrete=False)])\n",
    "        data_points.append([1, IDist(a_b, b_a, nb_samples=100, l_samples=5, discrete=False)])        \n",
    "    \n",
    "    max_d = max([d_ for _, d_ in data_points])\n",
    "    updated_data_points = [[eps, float(d / max_d)] for eps, d in data_points]\n",
    "    return DataFrame.from_records(updated_data_points, columns=['epsilon', 'IDist'])"
   ]
  },
  {
   "cell_type": "code",
   "execution_count": 18,
   "metadata": {},
   "outputs": [],
   "source": [
    "id_spec = ID_specific_comparison(10)"
   ]
  },
  {
   "cell_type": "markdown",
   "metadata": {},
   "source": [
    "#### CD with ID constant"
   ]
  },
  {
   "cell_type": "code",
   "execution_count": 19,
   "metadata": {},
   "outputs": [],
   "source": [
    "from pomegranate.distributions import GammaDistribution\n",
    "from sklearn.gaussian_process import GaussianProcessRegressor\n",
    "import CausalModel.Mechanisms as Mechanisms"
   ]
  },
  {
   "cell_type": "code",
   "execution_count": 20,
   "metadata": {},
   "outputs": [],
   "source": [
    "def CD_specific_comparison(repetitions):\n",
    "    nb_training = 1000\n",
    "    scm_cd = build_SCM(1, 0, 1, 0, 1)\n",
    "    \n",
    "    training_samples = scm_cd.sample(nb_training)\n",
    "    new_graph = copy.deepcopy(scm_cd.causal_graph)\n",
    "    new_noise = IndependentComponentsDistribution([\n",
    "        NormalDistribution(0, 1),\n",
    "        GammaDistribution(alpha=2, beta=2)\n",
    "    ])\n",
    "    new_mechanisms = copy.deepcopy(scm_cd.mechanisms)\n",
    "    \n",
    "\n",
    "    noise_sample = new_noise.sample(nb_training)\n",
    "    second_var_noise = noise_sample[:,1]\n",
    "    cause_values = training_samples[training_samples.columns[0]]\n",
    "\n",
    "    X = np.column_stack((cause_values.tolist(), second_var_noise)) \n",
    "    Y = np.array(training_samples[training_samples.columns[1]].tolist())\n",
    "    gpr = GaussianProcessRegressor()\n",
    "    gpr.fit(X, Y)\n",
    "\n",
    "    new_mechanisms[1] = Mechanisms.GaussianProcess(nb_causes=1, parameters={'nb_points': 10, 'variance': 1})\n",
    "    new_mechanisms[1].gpr = gpr\n",
    "    new_SCM = SCM(new_graph, new_mechanisms, new_noise)\n",
    "    \n",
    "    data_points = []\n",
    "    for i in range(repetitions):\n",
    "        data_points.append([0, CDist(scm_cd, scm_cd, nb_samples_k=100, nb_samples_x=2, discrete=False)])\n",
    "        data_points.append([1, CDist(scm_cd, new_SCM, nb_samples_k=100, nb_samples_x=2, discrete=False)])        \n",
    "    \n",
    "    max_d = max([d_ for _, d_ in data_points])\n",
    "    updated_data_points = [[eps, float(d / max_d)] for eps, d in data_points]\n",
    "    return DataFrame.from_records(updated_data_points, columns=['epsilon', 'CDist'])"
   ]
  },
  {
   "cell_type": "code",
   "execution_count": 21,
   "metadata": {},
   "outputs": [
    {
     "name": "stdout",
     "output_type": "stream",
     "text": [
      "x: [0.65459956 0.32418385]\n",
      "Creating noise\n",
      "find_reasonable_epsilon= 2.0\n",
      "find_reasonable_epsilon= 4.0\n",
      "End noise\n",
      "Run IDist\n",
      "E nd IDist\n",
      "x: [0.37090114 0.66046202]\n",
      "Creating noise\n",
      "find_reasonable_epsilon= 2.0\n",
      "find_reasonable_epsilon= 2.0\n"
     ]
    },
    {
     "name": "stderr",
     "output_type": "stream",
     "text": [
      "invalid value encountered in double_scalars\n"
     ]
    },
    {
     "name": "stdout",
     "output_type": "stream",
     "text": [
      "End noise\n",
      "Run IDist\n",
      "E nd IDist\n",
      "x: [0.25886885 0.32901281]\n",
      "Creating noise\n",
      "find_reasonable_epsilon= 2.0\n",
      "find_reasonable_epsilon= 2.0\n",
      "End noise\n",
      "Run IDist\n",
      "E nd IDist\n",
      "x: [0.67117702 0.83306957]\n",
      "Creating noise\n",
      "find_reasonable_epsilon= 4.0\n",
      "find_reasonable_epsilon= 2.0\n",
      "End noise\n",
      "Run IDist\n",
      "E nd IDist\n",
      "x: [0.53389281 0.2248224 ]\n",
      "Creating noise\n",
      "find_reasonable_epsilon= 2.0\n",
      "find_reasonable_epsilon= 2.0\n",
      "End noise\n",
      "Run IDist\n",
      "E nd IDist\n",
      "x: [0.4221152  0.38112136]\n",
      "Creating noise\n",
      "find_reasonable_epsilon= 2.0\n",
      "find_reasonable_epsilon= 4.0\n",
      "End noise\n",
      "Run IDist\n",
      "E nd IDist\n",
      "x: [0.55554044 0.10821679]\n",
      "Creating noise\n",
      "find_reasonable_epsilon= 4.0\n",
      "find_reasonable_epsilon= 2.0\n"
     ]
    },
    {
     "name": "stderr",
     "output_type": "stream",
     "text": [
      "invalid value encountered in double_scalars\n"
     ]
    },
    {
     "name": "stdout",
     "output_type": "stream",
     "text": [
      "End noise\n",
      "Run IDist\n",
      "E nd IDist\n",
      "x: [0.01925184 0.30601409]\n",
      "Creating noise\n",
      "find_reasonable_epsilon= 4.0\n",
      "find_reasonable_epsilon= 2.0\n"
     ]
    },
    {
     "name": "stderr",
     "output_type": "stream",
     "text": [
      "invalid value encountered in double_scalars\n"
     ]
    },
    {
     "name": "stdout",
     "output_type": "stream",
     "text": [
      "End noise\n",
      "Run IDist\n",
      "E nd IDist\n",
      "x: [0.63222706 0.04505162]\n",
      "Creating noise\n",
      "find_reasonable_epsilon= 4.0\n",
      "find_reasonable_epsilon= 4.0\n"
     ]
    },
    {
     "name": "stderr",
     "output_type": "stream",
     "text": [
      "invalid value encountered in double_scalars\n"
     ]
    },
    {
     "name": "stdout",
     "output_type": "stream",
     "text": [
      "End noise\n",
      "Run IDist\n",
      "E nd IDist\n",
      "x: [0.55510624 0.87984302]\n",
      "Creating noise\n",
      "find_reasonable_epsilon= 0.25\n",
      "find_reasonable_epsilon= 2.0\n",
      "End noise\n",
      "Run IDist\n",
      "E nd IDist\n",
      "x: [0.70450723 0.51593739]\n",
      "Creating noise\n",
      "find_reasonable_epsilon= 4.0\n",
      "find_reasonable_epsilon= 2.0\n",
      "End noise\n",
      "Run IDist\n",
      "E nd IDist\n",
      "x: [0.85240414 0.91273334]\n",
      "Creating noise\n",
      "find_reasonable_epsilon= 4.0\n",
      "find_reasonable_epsilon= 2.0\n",
      "End noise\n",
      "Run IDist\n",
      "E nd IDist\n",
      "x: [0.60163444 0.2681533 ]\n",
      "Creating noise\n",
      "find_reasonable_epsilon= 4.0\n",
      "find_reasonable_epsilon= 4.0\n",
      "End noise\n",
      "Run IDist\n",
      "E nd IDist\n",
      "x: [0.076154   0.27269032]\n",
      "Creating noise\n",
      "find_reasonable_epsilon= 0.25\n",
      "find_reasonable_epsilon= 2.0\n",
      "End noise\n",
      "Run IDist\n",
      "E nd IDist\n",
      "x: [0.42200943 0.72935846]\n",
      "Creating noise\n",
      "find_reasonable_epsilon= 2.0\n",
      "find_reasonable_epsilon= 2.0\n"
     ]
    },
    {
     "name": "stderr",
     "output_type": "stream",
     "text": [
      "invalid value encountered in double_scalars\n"
     ]
    },
    {
     "name": "stdout",
     "output_type": "stream",
     "text": [
      "End noise\n",
      "Run IDist\n",
      "E nd IDist\n",
      "x: [0.90686833 0.3737108 ]\n",
      "Creating noise\n",
      "find_reasonable_epsilon= 4.0\n",
      "find_reasonable_epsilon= 2.0\n",
      "End noise\n",
      "Run IDist\n",
      "E nd IDist\n",
      "x: [0.57658857 0.0745203 ]\n",
      "Creating noise\n",
      "find_reasonable_epsilon= 2.0\n",
      "find_reasonable_epsilon= 4.0\n",
      "End noise\n",
      "Run IDist\n",
      "E nd IDist\n",
      "x: [0.16537082 0.65367568]\n",
      "Creating noise\n",
      "find_reasonable_epsilon= 4.0\n",
      "find_reasonable_epsilon= 0.25\n",
      "End noise\n",
      "Run IDist\n",
      "E nd IDist\n",
      "x: [0.25750458 0.92804696]\n",
      "Creating noise\n",
      "find_reasonable_epsilon= 2.0\n",
      "find_reasonable_epsilon= 2.0\n",
      "End noise\n",
      "Run IDist\n",
      "E nd IDist\n",
      "x: [0.78259849 0.08681546]\n",
      "Creating noise\n",
      "find_reasonable_epsilon= 2.0\n",
      "find_reasonable_epsilon= 2.0\n"
     ]
    },
    {
     "name": "stderr",
     "output_type": "stream",
     "text": [
      "invalid value encountered in double_scalars\n"
     ]
    },
    {
     "name": "stdout",
     "output_type": "stream",
     "text": [
      "End noise\n",
      "Run IDist\n",
      "E nd IDist\n"
     ]
    }
   ],
   "source": [
    "cd_specific = CD_specific_comparison(5)"
   ]
  },
  {
   "cell_type": "code",
   "execution_count": 25,
   "metadata": {},
   "outputs": [
    {
     "data": {
      "image/png": "[encoded data removed]",
      "text/plain": [
       "<Figure size 432x288 with 1 Axes>"
      ]
     },
     "metadata": {
      "needs_background": "light"
     },
     "output_type": "display_data"
    }
   ],
   "source": [
    "sns.set_context(\"paper\")\n",
    "\n",
    "\n",
    "ax = sns.lineplot(x='epsilon', y='IDist', ci=\"sd\", data=id_spec, label='ID', marker=\"o\", color=\"#EE442F\")\n",
    "sns.lineplot(x='epsilon', y='CDist', ci=\"sd\", data=cd_specific, ax=ax, label='CD', marker=\"o\", color=\"#601A4A\")\n",
    "plt.xlabel('epsilon', fontsize=17)\n",
    "plt.ylabel(' Normalized Error', fontsize=17)\n",
    "\n",
    "ax.legend(fontsize='x-large')\n",
    "ax.spines['right'].set_visible(False)\n",
    "ax.spines['top'].set_visible(False)\n",
    "plt.savefig(\"results/specific_perturbations.pdf\", bbox_inches='tight', format=\"pdf\")"
   ]
  },
  {
   "cell_type": "code",
   "execution_count": null,
   "metadata": {},
   "outputs": [],
   "source": []
  }
 ],
 "metadata": {
  "hide_input": false,
  "kernelspec": {
   "display_name": "Python 3",
   "language": "python",
   "name": "python3"
  },
  "language_info": {
   "codemirror_mode": {
    "name": "ipython",
    "version": 3
   },
   "file_extension": ".py",
   "mimetype": "text/x-python",
   "name": "python",
   "nbconvert_exporter": "python",
   "pygments_lexer": "ipython3",
   "version": "3.7.3"
  },
  "latex_envs": {
   "LaTeX_envs_menu_present": true,
   "autoclose": false,
   "autocomplete": true,
   "bibliofile": "biblio.bib",
   "cite_by": "apalike",
   "current_citInitial": 1,
   "eqLabelWithNumbers": true,
   "eqNumInitial": 1,
   "hotkeys": {
    "equation": "Ctrl-E",
    "itemize": "Ctrl-I"
   },
   "labels_anchors": false,
   "latex_user_defs": false,
   "report_style_numbering": false,
   "user_envs_cfg": false
  }
 },
 "nbformat": 4,
 "nbformat_minor": 2
}
