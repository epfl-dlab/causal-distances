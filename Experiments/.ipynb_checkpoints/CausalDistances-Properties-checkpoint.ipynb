{
 "cells": [
  {
   "cell_type": "code",
   "execution_count": 2,
   "metadata": {},
   "outputs": [
    {
     "name": "stdout",
     "output_type": "stream",
     "text": [
      "The autoreload extension is already loaded. To reload it, use:\n",
      "  %reload_ext autoreload\n"
     ]
    }
   ],
   "source": [
    "%load_ext autoreload\n",
    "%autoreload 2"
   ]
  },
  {
   "cell_type": "code",
   "execution_count": 3,
   "metadata": {},
   "outputs": [],
   "source": [
    "import sys\n",
    "sys.path.append('../CausalModel')"
   ]
  },
  {
   "cell_type": "code",
   "execution_count": 4,
   "metadata": {},
   "outputs": [],
   "source": [
    "import networkx as nx\n",
    "import copy\n",
    "from mpl_toolkits.mplot3d import Axes3D\n",
    "from matplotlib import pyplot as plt\n",
    "import seaborn as sns\n",
    "from pandas import DataFrame\n",
    "import numpy as np\n",
    "import random\n",
    "from sklearn.manifold import MDS\n",
    "from pomegranate.distributions import IndependentComponentsDistribution\n",
    "from pomegranate.distributions import UniformDistribution, NormalDistribution\n",
    "%matplotlib inline"
   ]
  },
  {
   "cell_type": "code",
   "execution_count": 5,
   "metadata": {},
   "outputs": [
    {
     "name": "stderr",
     "output_type": "stream",
     "text": [
      "No GPU automatically detected. Setting SETTINGS.GPU to 0, and SETTINGS.NJOBS to cpu_count.\n"
     ]
    }
   ],
   "source": [
    "import sample_models\n",
    "from CausalModel.CMD import IDist, ODist, CDist\n",
    "from cdt.metrics import SID, SHD"
   ]
  },
  {
   "cell_type": "code",
   "execution_count": 6,
   "metadata": {},
   "outputs": [
    {
     "data": {
      "image/png": "[encoded data removed]",
      "text/plain": [
       "<Figure size 432x72 with 1 Axes>"
      ]
     },
     "metadata": {
      "needs_background": "light"
     },
     "output_type": "display_data"
    }
   ],
   "source": [
    "flatui = [\"#9b59b6\", \"#3498db\", \"#95a5a6\", \"#e74c3c\", \"#34495e\", \"#2ecc71\"]\n",
    "current_palette = sns.color_palette(flatui)\n",
    "sns.palplot(current_palette)"
   ]
  },
  {
   "cell_type": "markdown",
   "metadata": {
    "heading_collapsed": true
   },
   "source": [
    "# Pairwise Comparison of Metrics"
   ]
  },
  {
   "cell_type": "markdown",
   "metadata": {
    "hidden": true
   },
   "source": [
    "### Helpers"
   ]
  },
  {
   "cell_type": "code",
   "execution_count": 33,
   "metadata": {
    "hidden": true
   },
   "outputs": [],
   "source": [
    "default_structure = {\n",
    "    'nb_nodes': 10,\n",
    "    'density': 0.3,  # 0.4 / (n ** 1.25 / 10)\n",
    "    'cycles': False,\n",
    "    'fraction_observed': 1\n",
    "}"
   ]
  },
  {
   "cell_type": "code",
   "execution_count": 34,
   "metadata": {
    "hidden": true
   },
   "outputs": [],
   "source": [
    "def generate_causal_models(n):\n",
    "    pairs = []\n",
    "    for _ in range(n):\n",
    "#        model_a, model_b = sample_models.generate_discrete_models(nb_models=2)\n",
    "#        pairs.append((model_a, model_b))\n",
    "        model_a, model_b = sample_models.generate_linear_gaussian(default_structure, nb_models=2)\n",
    "        pairs.append((model_a, model_b))\n",
    "        model_a, model_b = sample_models.generate_linear_non_gaussian(default_structure, nb_models=2)\n",
    "        pairs.append((model_a, model_b))\n",
    "        model_a, model_b = sample_models.generate_GP(default_structure, nb_models=2)\n",
    "        pairs.append((model_a, model_b))\n",
    "    return pairs"
   ]
  },
  {
   "cell_type": "code",
   "execution_count": 35,
   "metadata": {
    "hidden": true
   },
   "outputs": [],
   "source": [
    "model_pairs = generate_causal_models(30)"
   ]
  },
  {
   "cell_type": "code",
   "execution_count": 41,
   "metadata": {
    "hidden": true
   },
   "outputs": [],
   "source": [
    "def compare_ODist_SID(pairs, nb_samples):\n",
    "    X = []\n",
    "    for model_a, model_b in pairs:\n",
    "        x_0 = ODist(model_a, model_b, nb_samples, discrete=False)\n",
    "        x_1 = SID(model_a.causal_graph, model_b.causal_graph)\n",
    "        X.append([x_0, x_1])\n",
    "    return DataFrame.from_records(X, columns=['OD', 'SID'])"
   ]
  },
  {
   "cell_type": "code",
   "execution_count": 42,
   "metadata": {
    "hidden": true
   },
   "outputs": [],
   "source": [
    "od_sid = compare_ODist_SID(model_pairs, 1000)"
   ]
  },
  {
   "cell_type": "code",
   "execution_count": 31,
   "metadata": {
    "hidden": true
   },
   "outputs": [],
   "source": [
    "def compare_ODist_SHD(pairs, nb_samples):\n",
    "    X = []\n",
    "    for model_a, model_b in pairs:\n",
    "        x_0 = ODist(model_a, model_b, nb_samples, discrete=False)\n",
    "        x_1 = SHD(model_a.causal_graph, model_b.causal_graph)\n",
    "        X.append([x_0, x_1])\n",
    "    return DataFrame.from_records(X, columns=['OD', 'SHD'])"
   ]
  },
  {
   "cell_type": "code",
   "execution_count": 36,
   "metadata": {
    "hidden": true
   },
   "outputs": [],
   "source": [
    "od_shd = compare_ODist_SHD(model_pairs, 1000)"
   ]
  },
  {
   "cell_type": "code",
   "execution_count": 43,
   "metadata": {
    "hidden": true
   },
   "outputs": [],
   "source": [
    "def compare_IDist_SID(pairs, nb_samples):\n",
    "    X = []\n",
    "    for model_a, model_b in pairs:\n",
    "        x_0 = IDist(model_a, model_b, nb_samples, discrete=False)\n",
    "        x_1 = SID(model_a.causal_graph, model_b.causal_graph)\n",
    "        X.append([x_0, x_1])\n",
    "    return DataFrame.from_records(X, columns=['ID', 'SID'])"
   ]
  },
  {
   "cell_type": "code",
   "execution_count": 44,
   "metadata": {
    "hidden": true
   },
   "outputs": [],
   "source": [
    "id_sid = compare_IDist_SID(model_pairs, 500)"
   ]
  },
  {
   "cell_type": "code",
   "execution_count": 45,
   "metadata": {
    "hidden": true
   },
   "outputs": [],
   "source": [
    "def compare_IDist_SHD(pairs, nb_samples):\n",
    "    X = []\n",
    "    for model_a, model_b in pairs:\n",
    "        x_0 = IDist(model_a, model_b, nb_samples, discrete=False)\n",
    "        x_1 = SHD(model_a.causal_graph, model_b.causal_graph)\n",
    "        X.append([x_0, x_1])\n",
    "    return DataFrame.from_records(X, columns=['ID', 'SHD'])"
   ]
  },
  {
   "cell_type": "code",
   "execution_count": 46,
   "metadata": {
    "hidden": true
   },
   "outputs": [],
   "source": [
    "id_shd = compare_IDist_SHD(model_pairs, 500)"
   ]
  },
  {
   "cell_type": "code",
   "execution_count": 137,
   "metadata": {
    "hidden": true
   },
   "outputs": [],
   "source": [
    "def relplot(data, x, y, fname=None):\n",
    "    plt.close()\n",
    "    sns.set_context(\"notebook\")\n",
    "    ax = sns.relplot(x=x, y=y, data=data, s=100, alpha=0.5)\n",
    "    plt.grid(False)\n",
    "    plt.xlabel(x, fontsize=17)\n",
    "    plt.ylabel(y, fontsize=17)\n",
    "    if fname:\n",
    "        plt.savefig(fname, format=\"pdf\")\n",
    "    plt.show()"
   ]
  },
  {
   "cell_type": "markdown",
   "metadata": {
    "hidden": true
   },
   "source": [
    "### Results"
   ]
  },
  {
   "cell_type": "code",
   "execution_count": 135,
   "metadata": {
    "hidden": true
   },
   "outputs": [
    {
     "data": {
      "image/png": "[encoded data removed]",
      "text/plain": [
       "<Figure size 360x360 with 1 Axes>"
      ]
     },
     "metadata": {},
     "output_type": "display_data"
    }
   ],
   "source": [
    "relplot(od_sid, 'SID', 'OD', 'results/sid_od.pdf')"
   ]
  },
  {
   "cell_type": "code",
   "execution_count": 138,
   "metadata": {
    "hidden": true
   },
   "outputs": [
    {
     "data": {
      "image/png": "[encoded data removed]",
      "text/plain": [
       "<Figure size 360x360 with 1 Axes>"
      ]
     },
     "metadata": {},
     "output_type": "display_data"
    }
   ],
   "source": [
    "relplot(od_shd, 'SHD', 'OD', 'results/shd_od.pdf')"
   ]
  },
  {
   "cell_type": "code",
   "execution_count": 139,
   "metadata": {
    "hidden": true
   },
   "outputs": [
    {
     "data": {
      "image/png": "[encoded data removed]",
      "text/plain": [
       "<Figure size 360x360 with 1 Axes>"
      ]
     },
     "metadata": {},
     "output_type": "display_data"
    }
   ],
   "source": [
    "relplot(id_sid, 'SID', 'ID', 'results/sid_id.pdf')"
   ]
  },
  {
   "cell_type": "code",
   "execution_count": 140,
   "metadata": {
    "hidden": true
   },
   "outputs": [
    {
     "data": {
      "image/png": "[encoded data removed]",
      "text/plain": [
       "<Figure size 360x360 with 1 Axes>"
      ]
     },
     "metadata": {},
     "output_type": "display_data"
    }
   ],
   "source": [
    "relplot(id_shd, 'SHD', 'ID', 'results/shd_id.pdf')"
   ]
  },
  {
   "cell_type": "markdown",
   "metadata": {
    "heading_collapsed": true
   },
   "source": [
    "# Geometry"
   ]
  },
  {
   "cell_type": "markdown",
   "metadata": {
    "hidden": true
   },
   "source": [
    "### Helpers"
   ]
  },
  {
   "cell_type": "code",
   "execution_count": 51,
   "metadata": {
    "hidden": true
   },
   "outputs": [],
   "source": [
    "from CausalModel import Mechanisms, SCM\n",
    "from CausalModel.Mechanisms import LinearAdditive\n",
    "from CausalModel.BayesianNetwork import BayesianNetwork"
   ]
  },
  {
   "cell_type": "code",
   "execution_count": 52,
   "metadata": {
    "hidden": true
   },
   "outputs": [],
   "source": [
    "def default_noise(n):\n",
    "    return IndependentComponentsDistribution([NormalDistribution(0, 0.1) for _ in range(n)])\n",
    "\n",
    "nodes = [0, 1, 2]\n",
    "betas = [0.1, 0.5, 1, 2, 5]\n",
    "noise = default_noise(2)\n",
    "\n",
    "zero_one = nx.DiGraph([(nodes[0], nodes[1])])\n",
    "one_zero = nx.DiGraph([(nodes[1], nodes[0])])\n",
    "\n",
    "for i, node in zero_one.nodes(data=True):\n",
    "    node['observed'] = True\n",
    "\n",
    "for i, node in one_zero.nodes(data=True):\n",
    "    node['observed'] = True\n",
    "\n",
    "all_scms = {}\n",
    "for beta in betas:\n",
    "    ## 0 -> 1+\n",
    "    causal_struct = copy.deepcopy(zero_one)\n",
    "    mechanism_end = Mechanisms.LinearAdditive(1)\n",
    "    mechanism_in = Mechanisms.LinearAdditive(0)\n",
    "    mechanism_end.coeffs = [beta]\n",
    "    mechanisms = [mechanism_in, mechanism_end]\n",
    "    name = '0->1+::' + str(beta)\n",
    "    all_scms[name] = SCM.SCM(causal_struct, mechanisms, default_noise(2))\n",
    "    \n",
    "    ## 0 -> 1-\n",
    "    causal_struct = copy.deepcopy(zero_one)\n",
    "    mechanism_end = Mechanisms.LinearAdditive(1)\n",
    "    mechanism_in = Mechanisms.LinearAdditive(0)\n",
    "    mechanism_end.coeffs = [-beta]\n",
    "    mechanisms = [mechanism_in, mechanism_end]\n",
    "    name = '0->1-::' + str(beta)\n",
    "    all_scms[name] = SCM.SCM(causal_struct, mechanisms, default_noise(2))\n",
    "    \n",
    "    ## 1 -> 0+\n",
    "    causal_struct = copy.deepcopy(one_zero)    \n",
    "    mechanism_end = Mechanisms.LinearAdditive(1)\n",
    "    mechanism_in = Mechanisms.LinearAdditive(0)\n",
    "    mechanism_end.coeffs = [beta]\n",
    "    mechanisms = [mechanism_end, mechanism_in]\n",
    "    name = '1->0+::' + str(beta)\n",
    "    all_scms[name] = SCM.SCM(causal_struct, mechanisms, default_noise(2))\n",
    "    \n",
    "    ## 1 -> 0-\n",
    "    causal_struct = copy.deepcopy(one_zero)    \n",
    "    mechanism_end = Mechanisms.LinearAdditive(1)\n",
    "    mechanism_in = Mechanisms.LinearAdditive(0)\n",
    "    mechanism_end.coeffs = [-beta]\n",
    "    mechanisms = [mechanism_end, mechanism_in]\n",
    "    name = '1->0-::' + str(beta)\n",
    "    all_scms[name] = SCM.SCM(causal_struct, mechanisms, default_noise(2))"
   ]
  },
  {
   "cell_type": "code",
   "execution_count": 24,
   "metadata": {
    "hidden": true
   },
   "outputs": [],
   "source": [
    "def pairwise_distances_IDist(all_scms):\n",
    "    pairwise_distance_matrix = np.zeros((len(all_scms), len(all_scms)))\n",
    "    it = dict(enumerate(all_scms))\n",
    "    for i in range(len(it)):\n",
    "        for j in range(i+1,len(it)):\n",
    "            el_i = all_scms[it[i]]\n",
    "            el_j = all_scms[it[j]]\n",
    "            dist = IDist(el_i, el_j, 100, l_samples=15, discrete=False, add_OD=True)\n",
    "            pairwise_distance_matrix[i][j] = dist\n",
    "            pairwise_distance_matrix[j][i] = dist\n",
    "    return pairwise_distance_matrix, it.values()\n",
    "\n",
    "def pairwise_distances_ODist(all_scms):\n",
    "    pairwise_distance_matrix = np.zeros((len(all_scms), len(all_scms)))\n",
    "    it = dict(enumerate(all_scms))\n",
    "    for i in range(len(it)):\n",
    "        for j in range(i+1,len(it)):\n",
    "            el_i = all_scms[it[i]]\n",
    "            el_j = all_scms[it[j]]\n",
    "            dist = ODist(el_i, el_j, 1000, discrete=False)\n",
    "            pairwise_distance_matrix[i][j] = dist\n",
    "            pairwise_distance_matrix[j][i] = dist\n",
    "    return pairwise_distance_matrix, it.values()\n",
    "\n",
    "def pairwise_distances_SID(all_scms):\n",
    "    pairwise_distance_matrix = np.zeros((len(all_scms), len(all_scms)))\n",
    "    it = dict(enumerate(all_scms))\n",
    "    for i in range(len(it)):\n",
    "        for j in range(i+1,len(it)):\n",
    "            el_i = all_scms[it[i]]\n",
    "            el_j = all_scms[it[j]]\n",
    "            dist = SID(el_i.causal_graph, el_j.causal_graph)\n",
    "            pairwise_distance_matrix[i][j] = dist\n",
    "            pairwise_distance_matrix[j][i] = dist\n",
    "    return pairwise_distance_matrix, it.values()"
   ]
  },
  {
   "cell_type": "code",
   "execution_count": 106,
   "metadata": {
    "hidden": true
   },
   "outputs": [],
   "source": [
    "def convert_label(s):\n",
    "    if s == \"0->1+\":\n",
    "        return \"$A \\\\nearrow  B$\"\n",
    "    if s == \"0->1-\":\n",
    "        return \"$A \\searrow  B$\"\n",
    "    if s == \"1->0-\":\n",
    "        return \"$B \\searrow  A$\"\n",
    "    if s == \"1->0+\":\n",
    "        return \"$B \\\\nearrow  A$\"\n",
    "\n",
    "def plot_embedding_3D(pairwise_distance_matrix, labels):\n",
    "    embedding = MDS(n_components=3, dissimilarity='precomputed')\n",
    "    data = embedding.fit_transform(pairwise_distance_matrix)\n",
    "    \n",
    "    fig = plt.figure()\n",
    "    ax = fig.add_subplot(111, projection='3d')\n",
    "    ax.scatter(data[:, 0], data[:, 1], data[:, 2], c='blue', s=60)\n",
    "    ax.view_init(30, 295)\n",
    "    plt.show()\n",
    "    \n",
    "def plot_embedding_sns(pairwise_distance_matrix, labels, fname=None):\n",
    "    embedding = MDS(n_components=2, dissimilarity='precomputed')\n",
    "    data = embedding.fit_transform(pairwise_distance_matrix)\n",
    "    \n",
    "    df = DataFrame({'x': data[:, 0], 'y': data[:, 1]})\n",
    "    df['Model Type'] = [convert_label(l.split('::')[0]) for l in labels]\n",
    "    df['Strength ($\\\\alpha$)'] = [float(l.split('::')[-1]) for l in labels]\n",
    "    \n",
    "    sns.set_context(\"paper\")\n",
    "    plt.close()\n",
    "    sns.set_style(\"whitegrid\", {'axes.spines.top': True, 'axes.spines.right': True})\n",
    "#    color_palette = ['#F5793A', '#A95AA1', '#85C0F9', '#0F2080']\n",
    "#    sns.color_palette()[0:0+4]\n",
    "    color_palette = sns.color_palette(\"RdBu\", n_colors=7)\n",
    "    palette = [current_palette[1], current_palette[3], current_palette[4], current_palette[5]]\n",
    "    g = sns.relplot(x=\"x\", y=\"y\", hue=\"Model Type\", size=\"Strength ($\\\\alpha$)\", palette=palette, sizes=(30, 700), data=df, legend='full')\n",
    "\n",
    "    g.set_xlabels('', fontsize=1)\n",
    "    g.set_ylabels('', fontsize=1)\n",
    "    \n",
    "    if fname:\n",
    "        plt.savefig(fname, format=\"pdf\")    \n",
    "    plt.show()\n"
   ]
  },
  {
   "cell_type": "markdown",
   "metadata": {
    "hidden": true
   },
   "source": [
    "### Results"
   ]
  },
  {
   "cell_type": "code",
   "execution_count": 25,
   "metadata": {
    "hidden": true
   },
   "outputs": [],
   "source": [
    "dist_mat_IDist, labels = pairwise_distances_IDist(all_scms)"
   ]
  },
  {
   "cell_type": "code",
   "execution_count": 112,
   "metadata": {
    "hidden": true
   },
   "outputs": [
    {
     "data": {
      "image/png": "[encoded data removed]",
      "text/plain": [
       "<Figure size 440.417x360 with 1 Axes>"
      ]
     },
     "metadata": {},
     "output_type": "display_data"
    }
   ],
   "source": [
    "plot_embedding_sns(dist_mat_IDist, labels, fname='results/geometry_id.pdf')"
   ]
  },
  {
   "cell_type": "code",
   "execution_count": 80,
   "metadata": {
    "hidden": true
   },
   "outputs": [],
   "source": [
    "dist_mat_ODist, labels = pairwise_distances_ODist(all_scms)"
   ]
  },
  {
   "cell_type": "code",
   "execution_count": 114,
   "metadata": {
    "hidden": true
   },
   "outputs": [
    {
     "data": {
      "image/png": "[encoded data removed]",
      "text/plain": [
       "<Figure size 440.417x360 with 1 Axes>"
      ]
     },
     "metadata": {},
     "output_type": "display_data"
    }
   ],
   "source": [
    "plot_embedding_sns(dist_mat_ODist, labels, fname='results/geometry_od.pdf')"
   ]
  },
  {
   "cell_type": "code",
   "execution_count": 90,
   "metadata": {
    "hidden": true
   },
   "outputs": [],
   "source": [
    "dist_mat_SID, labels = pairwise_distances_SID(all_scms)"
   ]
  },
  {
   "cell_type": "code",
   "execution_count": 115,
   "metadata": {
    "hidden": true
   },
   "outputs": [
    {
     "data": {
      "image/png": "[encoded data removed]",
      "text/plain": [
       "<Figure size 440.417x360 with 1 Axes>"
      ]
     },
     "metadata": {},
     "output_type": "display_data"
    }
   ],
   "source": [
    "plot_embedding_sns(dist_mat_SID, labels, fname='results/geometry_sid.pdf')"
   ]
  },
  {
   "cell_type": "markdown",
   "metadata": {},
   "source": [
    "# Sample Efficiency"
   ]
  },
  {
   "cell_type": "markdown",
   "metadata": {},
   "source": [
    "### NB SAMPLES"
   ]
  },
  {
   "cell_type": "code",
   "execution_count": 7,
   "metadata": {},
   "outputs": [],
   "source": [
    "default_structure = {\n",
    "    'nb_nodes': 3,\n",
    "    'density': 0.3,  # 0.4 / (n ** 1.25 / 10)\n",
    "    'cycles': False,\n",
    "    'fraction_observed': 1\n",
    "}"
   ]
  },
  {
   "cell_type": "code",
   "execution_count": 8,
   "metadata": {},
   "outputs": [],
   "source": [
    "def OD_sample_efficiency(scm_a, scm_b, K, repetitions):\n",
    "    data_points = []\n",
    "    for k in K:\n",
    "        for _ in range(repetitions):\n",
    "            d = ODist(scm_a, scm_b, nb_samples=k, discrete=False)\n",
    "            data_points.append([k, d])\n",
    "    max_d = max([d_ for _, d_ in data_points])\n",
    "    updated_data_points = [[k, float(d / max_d)] for k, d in data_points]\n",
    "    return DataFrame.from_records(updated_data_points, columns=['nb_samples', 'ODist'])\n",
    "\n",
    "def ID_sample_efficiency(scm_a, scm_b, K, repetitions):\n",
    "    data_points = []\n",
    "    for k in K:\n",
    "        for _ in range(repetitions):\n",
    "            d = IDist(scm_a, scm_b, nb_samples=k, discrete=False)\n",
    "            data_points.append([k, d])\n",
    "    max_d = max([d_ for _, d_ in data_points])\n",
    "    updated_data_points = [[k, float(d / max_d)] for k, d in data_points]\n",
    "    return DataFrame.from_records(updated_data_points, columns=['nb_samples', 'IDist'])\n",
    "\n",
    "def CD_sample_efficiency(scm_a, scm_b, X, K, repetitions):\n",
    "    data_points = []\n",
    "    for k in K:\n",
    "        for _ in range(repetitions):\n",
    "            d = CDist(scm_a, scm_b, nb_samples_x=X, nb_samples_k=k, discrete=False)\n",
    "            data_points.append([k*X, d])\n",
    "    max_d = max([d_ for _, d_ in data_points])\n",
    "    updated_data_points = [[k, float(d / max_d)] for k, d in data_points]\n",
    "    return DataFrame.from_records(updated_data_points, columns=['nb_samples', 'CDist'])"
   ]
  },
  {
   "cell_type": "code",
   "execution_count": 9,
   "metadata": {},
   "outputs": [],
   "source": [
    "scm_a = sample_models.generate_linear_gaussian(nb_models=1)"
   ]
  },
  {
   "cell_type": "code",
   "execution_count": 10,
   "metadata": {},
   "outputs": [],
   "source": [
    "K = [1, 100, 200, 500]\n",
    "repetitions = 10"
   ]
  },
  {
   "cell_type": "code",
   "execution_count": 11,
   "metadata": {},
   "outputs": [],
   "source": [
    "OD_convergence = OD_sample_efficiency(scm_a, scm_a, K, repetitions)"
   ]
  },
  {
   "cell_type": "code",
   "execution_count": 12,
   "metadata": {},
   "outputs": [],
   "source": [
    "ID_convergence = ID_sample_efficiency(scm_a, scm_a, K, repetitions)"
   ]
  },
  {
   "cell_type": "code",
   "execution_count": 13,
   "metadata": {},
   "outputs": [
    {
     "name": "stdout",
     "output_type": "stream",
     "text": [
      "find_reasonable_epsilon= 0.125\n",
      "find_reasonable_epsilon= 0.125\n",
      "find_reasonable_epsilon= 0.125\n",
      "find_reasonable_epsilon= 0.125\n",
      "NUTS: Exception while calling your likelihood function:\n",
      "  params: [-0.08958609 -0.29464339  1.24223502]\n",
      "  args: ()\n",
      "  kwargs: {}\n",
      "  exception:\n",
      "NUTS: Exception while calling your likelihood function:\n",
      "  params: [-0.08958609 -0.29464339  1.24323502]\n",
      "  args: (<nuts.helpers._function_wrapper object at 0x11dddce48>,)\n",
      "  kwargs: {}\n",
      "  exception:\n"
     ]
    },
    {
     "name": "stderr",
     "output_type": "stream",
     "text": [
      "Traceback (most recent call last):\n",
      "  File \"/usr/local/lib/python3.7/site-packages/nuts-1.0-py3.7.egg/nuts/helpers.py\", line 92, in __call__\n",
      "    return self.f(x, *self.args, **self.kwargs)\n",
      "  File \"/Users/peyrardm/Documents/CausalModel/SCM.py\", line 90, in log_probability\n",
      "    log_l += self.mechanisms[n].log_probability(x[n], causes_values)\n",
      "  File \"/Users/peyrardm/Documents/CausalModel/Mechanisms.py\", line 31, in log_probability\n",
      "    distances = [(i, scipy.spatial.distance.euclidean(causes, c[0])) for i, c in enumerate(self.log_probabilities)]\n",
      "  File \"/Users/peyrardm/Documents/CausalModel/Mechanisms.py\", line 31, in <listcomp>\n",
      "    distances = [(i, scipy.spatial.distance.euclidean(causes, c[0])) for i, c in enumerate(self.log_probabilities)]\n",
      "  File \"/usr/local/lib/python3.7/site-packages/scipy/spatial/distance.py\", line 620, in euclidean\n",
      "    return minkowski(u, v, p=2, w=w)\n",
      "  File \"/usr/local/lib/python3.7/site-packages/scipy/spatial/distance.py\", line 508, in minkowski\n",
      "    u = _validate_vector(u)\n",
      "  File \"/usr/local/lib/python3.7/site-packages/scipy/spatial/distance.py\", line 336, in _validate_vector\n",
      "    u = np.atleast_1d(u)\n",
      "  File \"/usr/local/lib/python3.7/site-packages/numpy/core/shape_base.py\", line 25, in atleast_1d\n",
      "    @array_function_dispatch(_atleast_1d_dispatcher)\n",
      "KeyboardInterrupt\n",
      "Traceback (most recent call last):\n",
      "  File \"/usr/local/lib/python3.7/site-packages/nuts-1.0-py3.7.egg/nuts/helpers.py\", line 92, in __call__\n",
      "    return self.f(x, *self.args, **self.kwargs)\n",
      "  File \"/usr/local/lib/python3.7/site-packages/nuts-1.0-py3.7.egg/nuts/helpers.py\", line 70, in numerical_grad\n",
      "    df[k] = (f(theta + dt) - f(theta - dt)) * cst\n",
      "  File \"/usr/local/lib/python3.7/site-packages/nuts-1.0-py3.7.egg/nuts/helpers.py\", line 92, in __call__\n",
      "    return self.f(x, *self.args, **self.kwargs)\n",
      "  File \"/Users/peyrardm/Documents/CausalModel/SCM.py\", line 90, in log_probability\n",
      "    log_l += self.mechanisms[n].log_probability(x[n], causes_values)\n",
      "  File \"/Users/peyrardm/Documents/CausalModel/Mechanisms.py\", line 31, in log_probability\n",
      "    distances = [(i, scipy.spatial.distance.euclidean(causes, c[0])) for i, c in enumerate(self.log_probabilities)]\n",
      "  File \"/Users/peyrardm/Documents/CausalModel/Mechanisms.py\", line 31, in <listcomp>\n",
      "    distances = [(i, scipy.spatial.distance.euclidean(causes, c[0])) for i, c in enumerate(self.log_probabilities)]\n",
      "  File \"/usr/local/lib/python3.7/site-packages/scipy/spatial/distance.py\", line 620, in euclidean\n",
      "    return minkowski(u, v, p=2, w=w)\n",
      "  File \"/usr/local/lib/python3.7/site-packages/scipy/spatial/distance.py\", line 508, in minkowski\n",
      "    u = _validate_vector(u)\n",
      "  File \"/usr/local/lib/python3.7/site-packages/scipy/spatial/distance.py\", line 336, in _validate_vector\n",
      "    u = np.atleast_1d(u)\n",
      "  File \"/usr/local/lib/python3.7/site-packages/numpy/core/shape_base.py\", line 25, in atleast_1d\n",
      "    @array_function_dispatch(_atleast_1d_dispatcher)\n",
      "KeyboardInterrupt\n"
     ]
    },
    {
     "ename": "KeyboardInterrupt",
     "evalue": "",
     "output_type": "error",
     "traceback": [
      "\u001b[0;31m---------------------------------------------------------------------------\u001b[0m",
      "\u001b[0;31mKeyboardInterrupt\u001b[0m                         Traceback (most recent call last)",
      "\u001b[0;32m<ipython-input-13-c7eb28fab777>\u001b[0m in \u001b[0;36m<module>\u001b[0;34m\u001b[0m\n\u001b[0;32m----> 1\u001b[0;31m \u001b[0mCD_convergence\u001b[0m \u001b[0;34m=\u001b[0m \u001b[0mCD_sample_efficiency\u001b[0m\u001b[0;34m(\u001b[0m\u001b[0mscm_a\u001b[0m\u001b[0;34m,\u001b[0m \u001b[0mscm_a\u001b[0m\u001b[0;34m,\u001b[0m \u001b[0;36m1\u001b[0m\u001b[0;34m,\u001b[0m \u001b[0;34m[\u001b[0m\u001b[0;36m1\u001b[0m\u001b[0;34m,\u001b[0m \u001b[0;36m100\u001b[0m\u001b[0;34m,\u001b[0m \u001b[0;36m200\u001b[0m\u001b[0;34m,\u001b[0m \u001b[0;36m500\u001b[0m\u001b[0;34m]\u001b[0m\u001b[0;34m,\u001b[0m \u001b[0mrepetitions\u001b[0m\u001b[0;34m=\u001b[0m\u001b[0;36m3\u001b[0m\u001b[0;34m)\u001b[0m\u001b[0;34m\u001b[0m\u001b[0;34m\u001b[0m\u001b[0m\n\u001b[0m",
      "\u001b[0;32m<ipython-input-8-907387171b00>\u001b[0m in \u001b[0;36mCD_sample_efficiency\u001b[0;34m(scm_a, scm_b, X, K, repetitions)\u001b[0m\n\u001b[1;32m     23\u001b[0m     \u001b[0;32mfor\u001b[0m \u001b[0mk\u001b[0m \u001b[0;32min\u001b[0m \u001b[0mK\u001b[0m\u001b[0;34m:\u001b[0m\u001b[0;34m\u001b[0m\u001b[0;34m\u001b[0m\u001b[0m\n\u001b[1;32m     24\u001b[0m         \u001b[0;32mfor\u001b[0m \u001b[0m_\u001b[0m \u001b[0;32min\u001b[0m \u001b[0mrange\u001b[0m\u001b[0;34m(\u001b[0m\u001b[0mrepetitions\u001b[0m\u001b[0;34m)\u001b[0m\u001b[0;34m:\u001b[0m\u001b[0;34m\u001b[0m\u001b[0;34m\u001b[0m\u001b[0m\n\u001b[0;32m---> 25\u001b[0;31m             \u001b[0md\u001b[0m \u001b[0;34m=\u001b[0m \u001b[0mCDist\u001b[0m\u001b[0;34m(\u001b[0m\u001b[0mscm_a\u001b[0m\u001b[0;34m,\u001b[0m \u001b[0mscm_b\u001b[0m\u001b[0;34m,\u001b[0m \u001b[0mnb_samples_x\u001b[0m\u001b[0;34m=\u001b[0m\u001b[0mX\u001b[0m\u001b[0;34m,\u001b[0m \u001b[0mnb_samples_k\u001b[0m\u001b[0;34m=\u001b[0m\u001b[0mk\u001b[0m\u001b[0;34m,\u001b[0m \u001b[0mdiscrete\u001b[0m\u001b[0;34m=\u001b[0m\u001b[0;32mFalse\u001b[0m\u001b[0;34m)\u001b[0m\u001b[0;34m\u001b[0m\u001b[0;34m\u001b[0m\u001b[0m\n\u001b[0m\u001b[1;32m     26\u001b[0m             \u001b[0mdata_points\u001b[0m\u001b[0;34m.\u001b[0m\u001b[0mappend\u001b[0m\u001b[0;34m(\u001b[0m\u001b[0;34m[\u001b[0m\u001b[0mk\u001b[0m\u001b[0;34m*\u001b[0m\u001b[0mX\u001b[0m\u001b[0;34m,\u001b[0m \u001b[0md\u001b[0m\u001b[0;34m]\u001b[0m\u001b[0;34m)\u001b[0m\u001b[0;34m\u001b[0m\u001b[0;34m\u001b[0m\u001b[0m\n\u001b[1;32m     27\u001b[0m     \u001b[0mmax_d\u001b[0m \u001b[0;34m=\u001b[0m \u001b[0mmax\u001b[0m\u001b[0;34m(\u001b[0m\u001b[0;34m[\u001b[0m\u001b[0md_\u001b[0m \u001b[0;32mfor\u001b[0m \u001b[0m_\u001b[0m\u001b[0;34m,\u001b[0m \u001b[0md_\u001b[0m \u001b[0;32min\u001b[0m \u001b[0mdata_points\u001b[0m\u001b[0;34m]\u001b[0m\u001b[0;34m)\u001b[0m\u001b[0;34m\u001b[0m\u001b[0;34m\u001b[0m\u001b[0m\n",
      "\u001b[0;32m~/Documents/CausalModel/CMD.py\u001b[0m in \u001b[0;36mCDist\u001b[0;34m(scm_a, scm_b, nb_samples_x, nb_samples_k, discrete)\u001b[0m\n\u001b[1;32m    241\u001b[0m         \u001b[0;31m#print(\"Creating noise\")\u001b[0m\u001b[0;34m\u001b[0m\u001b[0;34m\u001b[0m\u001b[0;34m\u001b[0m\u001b[0m\n\u001b[1;32m    242\u001b[0m         \u001b[0ma_samples\u001b[0m \u001b[0;34m=\u001b[0m \u001b[0mcf_a\u001b[0m\u001b[0;34m.\u001b[0m\u001b[0msample\u001b[0m\u001b[0;34m(\u001b[0m\u001b[0mx\u001b[0m\u001b[0;34m,\u001b[0m \u001b[0mM\u001b[0m\u001b[0;34m=\u001b[0m\u001b[0mnb_samples_k\u001b[0m\u001b[0;34m,\u001b[0m \u001b[0mMadapt\u001b[0m\u001b[0;34m=\u001b[0m\u001b[0;36m200\u001b[0m\u001b[0;34m)\u001b[0m\u001b[0;34m\u001b[0m\u001b[0;34m\u001b[0m\u001b[0m\n\u001b[0;32m--> 243\u001b[0;31m         \u001b[0mb_samples\u001b[0m \u001b[0;34m=\u001b[0m \u001b[0mcf_b\u001b[0m\u001b[0;34m.\u001b[0m\u001b[0msample\u001b[0m\u001b[0;34m(\u001b[0m\u001b[0mx\u001b[0m\u001b[0;34m,\u001b[0m \u001b[0mM\u001b[0m\u001b[0;34m=\u001b[0m\u001b[0mnb_samples_k\u001b[0m\u001b[0;34m,\u001b[0m \u001b[0mMadapt\u001b[0m\u001b[0;34m=\u001b[0m\u001b[0;36m200\u001b[0m\u001b[0;34m)\u001b[0m\u001b[0;34m\u001b[0m\u001b[0;34m\u001b[0m\u001b[0m\n\u001b[0m\u001b[1;32m    244\u001b[0m \u001b[0;34m\u001b[0m\u001b[0m\n\u001b[1;32m    245\u001b[0m         \u001b[0mcounterfactual_scm_a\u001b[0m\u001b[0;34m.\u001b[0m\u001b[0mnoises_distribution\u001b[0m \u001b[0;34m=\u001b[0m \u001b[0mCounterfactualNoise\u001b[0m\u001b[0;34m(\u001b[0m\u001b[0ma_samples\u001b[0m\u001b[0;34m,\u001b[0m \u001b[0mx\u001b[0m\u001b[0;34m,\u001b[0m \u001b[0mnb_samples_k\u001b[0m\u001b[0;34m)\u001b[0m\u001b[0;34m\u001b[0m\u001b[0;34m\u001b[0m\u001b[0m\n",
      "\u001b[0;32m/usr/local/lib/python3.7/site-packages/nuts-1.0-py3.7.egg/nuts/emcee_nuts.py\u001b[0m in \u001b[0;36msample\u001b[0;34m(self, pos0, M, Madapt, delta, **kwargs)\u001b[0m\n\u001b[1;32m     83\u001b[0m     \u001b[0;32mdef\u001b[0m \u001b[0msample\u001b[0m\u001b[0;34m(\u001b[0m\u001b[0mself\u001b[0m\u001b[0;34m,\u001b[0m \u001b[0mpos0\u001b[0m\u001b[0;34m,\u001b[0m \u001b[0mM\u001b[0m\u001b[0;34m,\u001b[0m \u001b[0mMadapt\u001b[0m\u001b[0;34m,\u001b[0m \u001b[0mdelta\u001b[0m\u001b[0;34m=\u001b[0m\u001b[0;36m0.6\u001b[0m\u001b[0;34m,\u001b[0m \u001b[0;34m**\u001b[0m\u001b[0mkwargs\u001b[0m\u001b[0;34m)\u001b[0m\u001b[0;34m:\u001b[0m\u001b[0;34m\u001b[0m\u001b[0;34m\u001b[0m\u001b[0m\n\u001b[1;32m     84\u001b[0m         \u001b[0;34m\"\"\" Runs NUTS6 \"\"\"\u001b[0m\u001b[0;34m\u001b[0m\u001b[0;34m\u001b[0m\u001b[0m\n\u001b[0;32m---> 85\u001b[0;31m         \u001b[0msamples\u001b[0m\u001b[0;34m,\u001b[0m \u001b[0mlnprob\u001b[0m\u001b[0;34m,\u001b[0m \u001b[0mepsilon\u001b[0m \u001b[0;34m=\u001b[0m \u001b[0mnuts6\u001b[0m\u001b[0;34m(\u001b[0m\u001b[0mself\u001b[0m\u001b[0;34m.\u001b[0m\u001b[0m_sample_fn\u001b[0m\u001b[0;34m,\u001b[0m \u001b[0mM\u001b[0m\u001b[0;34m,\u001b[0m \u001b[0mMadapt\u001b[0m\u001b[0;34m,\u001b[0m \u001b[0mpos0\u001b[0m\u001b[0;34m,\u001b[0m \u001b[0mdelta\u001b[0m\u001b[0;34m)\u001b[0m\u001b[0;34m\u001b[0m\u001b[0;34m\u001b[0m\u001b[0m\n\u001b[0m\u001b[1;32m     86\u001b[0m         \u001b[0mself\u001b[0m\u001b[0;34m.\u001b[0m\u001b[0m_chain\u001b[0m \u001b[0;34m=\u001b[0m \u001b[0msamples\u001b[0m\u001b[0;34m\u001b[0m\u001b[0;34m\u001b[0m\u001b[0m\n\u001b[1;32m     87\u001b[0m         \u001b[0mself\u001b[0m\u001b[0;34m.\u001b[0m\u001b[0m_lnprob\u001b[0m \u001b[0;34m=\u001b[0m \u001b[0mlnprob\u001b[0m\u001b[0;34m\u001b[0m\u001b[0;34m\u001b[0m\u001b[0m\n",
      "\u001b[0;32m/usr/local/lib/python3.7/site-packages/nuts-1.0-py3.7.egg/nuts/nuts.py\u001b[0m in \u001b[0;36mnuts6\u001b[0;34m(f, M, Madapt, theta0, delta)\u001b[0m\n\u001b[1;32m    304\u001b[0m             \u001b[0;31m# Double the size of the tree.\u001b[0m\u001b[0;34m\u001b[0m\u001b[0;34m\u001b[0m\u001b[0;34m\u001b[0m\u001b[0m\n\u001b[1;32m    305\u001b[0m             \u001b[0;32mif\u001b[0m \u001b[0;34m(\u001b[0m\u001b[0mv\u001b[0m \u001b[0;34m==\u001b[0m \u001b[0;34m-\u001b[0m\u001b[0;36m1\u001b[0m\u001b[0;34m)\u001b[0m\u001b[0;34m:\u001b[0m\u001b[0;34m\u001b[0m\u001b[0;34m\u001b[0m\u001b[0m\n\u001b[0;32m--> 306\u001b[0;31m                 \u001b[0mthetaminus\u001b[0m\u001b[0;34m,\u001b[0m \u001b[0mrminus\u001b[0m\u001b[0;34m,\u001b[0m \u001b[0mgradminus\u001b[0m\u001b[0;34m,\u001b[0m \u001b[0m_\u001b[0m\u001b[0;34m,\u001b[0m \u001b[0m_\u001b[0m\u001b[0;34m,\u001b[0m \u001b[0m_\u001b[0m\u001b[0;34m,\u001b[0m \u001b[0mthetaprime\u001b[0m\u001b[0;34m,\u001b[0m \u001b[0mgradprime\u001b[0m\u001b[0;34m,\u001b[0m \u001b[0mlogpprime\u001b[0m\u001b[0;34m,\u001b[0m \u001b[0mnprime\u001b[0m\u001b[0;34m,\u001b[0m \u001b[0msprime\u001b[0m\u001b[0;34m,\u001b[0m \u001b[0malpha\u001b[0m\u001b[0;34m,\u001b[0m \u001b[0mnalpha\u001b[0m \u001b[0;34m=\u001b[0m \u001b[0mbuild_tree\u001b[0m\u001b[0;34m(\u001b[0m\u001b[0mthetaminus\u001b[0m\u001b[0;34m,\u001b[0m \u001b[0mrminus\u001b[0m\u001b[0;34m,\u001b[0m \u001b[0mgradminus\u001b[0m\u001b[0;34m,\u001b[0m \u001b[0mlogu\u001b[0m\u001b[0;34m,\u001b[0m \u001b[0mv\u001b[0m\u001b[0;34m,\u001b[0m \u001b[0mj\u001b[0m\u001b[0;34m,\u001b[0m \u001b[0mepsilon\u001b[0m\u001b[0;34m,\u001b[0m \u001b[0mf\u001b[0m\u001b[0;34m,\u001b[0m \u001b[0mjoint\u001b[0m\u001b[0;34m)\u001b[0m\u001b[0;34m\u001b[0m\u001b[0;34m\u001b[0m\u001b[0m\n\u001b[0m\u001b[1;32m    307\u001b[0m             \u001b[0;32melse\u001b[0m\u001b[0;34m:\u001b[0m\u001b[0;34m\u001b[0m\u001b[0;34m\u001b[0m\u001b[0m\n\u001b[1;32m    308\u001b[0m                 \u001b[0m_\u001b[0m\u001b[0;34m,\u001b[0m \u001b[0m_\u001b[0m\u001b[0;34m,\u001b[0m \u001b[0m_\u001b[0m\u001b[0;34m,\u001b[0m \u001b[0mthetaplus\u001b[0m\u001b[0;34m,\u001b[0m \u001b[0mrplus\u001b[0m\u001b[0;34m,\u001b[0m \u001b[0mgradplus\u001b[0m\u001b[0;34m,\u001b[0m \u001b[0mthetaprime\u001b[0m\u001b[0;34m,\u001b[0m \u001b[0mgradprime\u001b[0m\u001b[0;34m,\u001b[0m \u001b[0mlogpprime\u001b[0m\u001b[0;34m,\u001b[0m \u001b[0mnprime\u001b[0m\u001b[0;34m,\u001b[0m \u001b[0msprime\u001b[0m\u001b[0;34m,\u001b[0m \u001b[0malpha\u001b[0m\u001b[0;34m,\u001b[0m \u001b[0mnalpha\u001b[0m \u001b[0;34m=\u001b[0m \u001b[0mbuild_tree\u001b[0m\u001b[0;34m(\u001b[0m\u001b[0mthetaplus\u001b[0m\u001b[0;34m,\u001b[0m \u001b[0mrplus\u001b[0m\u001b[0;34m,\u001b[0m \u001b[0mgradplus\u001b[0m\u001b[0;34m,\u001b[0m \u001b[0mlogu\u001b[0m\u001b[0;34m,\u001b[0m \u001b[0mv\u001b[0m\u001b[0;34m,\u001b[0m \u001b[0mj\u001b[0m\u001b[0;34m,\u001b[0m \u001b[0mepsilon\u001b[0m\u001b[0;34m,\u001b[0m \u001b[0mf\u001b[0m\u001b[0;34m,\u001b[0m \u001b[0mjoint\u001b[0m\u001b[0;34m)\u001b[0m\u001b[0;34m\u001b[0m\u001b[0;34m\u001b[0m\u001b[0m\n",
      "\u001b[0;32m/usr/local/lib/python3.7/site-packages/nuts-1.0-py3.7.egg/nuts/nuts.py\u001b[0m in \u001b[0;36mbuild_tree\u001b[0;34m(theta, r, grad, logu, v, j, epsilon, f, joint0)\u001b[0m\n\u001b[1;32m    180\u001b[0m     \u001b[0;32melse\u001b[0m\u001b[0;34m:\u001b[0m\u001b[0;34m\u001b[0m\u001b[0;34m\u001b[0m\u001b[0m\n\u001b[1;32m    181\u001b[0m         \u001b[0;31m# Recursion: Implicitly build the height j-1 left and right subtrees.\u001b[0m\u001b[0;34m\u001b[0m\u001b[0;34m\u001b[0m\u001b[0;34m\u001b[0m\u001b[0m\n\u001b[0;32m--> 182\u001b[0;31m         \u001b[0mthetaminus\u001b[0m\u001b[0;34m,\u001b[0m \u001b[0mrminus\u001b[0m\u001b[0;34m,\u001b[0m \u001b[0mgradminus\u001b[0m\u001b[0;34m,\u001b[0m \u001b[0mthetaplus\u001b[0m\u001b[0;34m,\u001b[0m \u001b[0mrplus\u001b[0m\u001b[0;34m,\u001b[0m \u001b[0mgradplus\u001b[0m\u001b[0;34m,\u001b[0m \u001b[0mthetaprime\u001b[0m\u001b[0;34m,\u001b[0m \u001b[0mgradprime\u001b[0m\u001b[0;34m,\u001b[0m \u001b[0mlogpprime\u001b[0m\u001b[0;34m,\u001b[0m \u001b[0mnprime\u001b[0m\u001b[0;34m,\u001b[0m \u001b[0msprime\u001b[0m\u001b[0;34m,\u001b[0m \u001b[0malphaprime\u001b[0m\u001b[0;34m,\u001b[0m \u001b[0mnalphaprime\u001b[0m \u001b[0;34m=\u001b[0m \u001b[0mbuild_tree\u001b[0m\u001b[0;34m(\u001b[0m\u001b[0mtheta\u001b[0m\u001b[0;34m,\u001b[0m \u001b[0mr\u001b[0m\u001b[0;34m,\u001b[0m \u001b[0mgrad\u001b[0m\u001b[0;34m,\u001b[0m \u001b[0mlogu\u001b[0m\u001b[0;34m,\u001b[0m \u001b[0mv\u001b[0m\u001b[0;34m,\u001b[0m \u001b[0mj\u001b[0m \u001b[0;34m-\u001b[0m \u001b[0;36m1\u001b[0m\u001b[0;34m,\u001b[0m \u001b[0mepsilon\u001b[0m\u001b[0;34m,\u001b[0m \u001b[0mf\u001b[0m\u001b[0;34m,\u001b[0m \u001b[0mjoint0\u001b[0m\u001b[0;34m)\u001b[0m\u001b[0;34m\u001b[0m\u001b[0;34m\u001b[0m\u001b[0m\n\u001b[0m\u001b[1;32m    183\u001b[0m         \u001b[0;31m# No need to keep going if the stopping criteria were met in the first subtree.\u001b[0m\u001b[0;34m\u001b[0m\u001b[0;34m\u001b[0m\u001b[0;34m\u001b[0m\u001b[0m\n\u001b[1;32m    184\u001b[0m         \u001b[0;32mif\u001b[0m \u001b[0;34m(\u001b[0m\u001b[0msprime\u001b[0m \u001b[0;34m==\u001b[0m \u001b[0;36m1\u001b[0m\u001b[0;34m)\u001b[0m\u001b[0;34m:\u001b[0m\u001b[0;34m\u001b[0m\u001b[0;34m\u001b[0m\u001b[0m\n",
      "\u001b[0;32m/usr/local/lib/python3.7/site-packages/nuts-1.0-py3.7.egg/nuts/nuts.py\u001b[0m in \u001b[0;36mbuild_tree\u001b[0;34m(theta, r, grad, logu, v, j, epsilon, f, joint0)\u001b[0m\n\u001b[1;32m    180\u001b[0m     \u001b[0;32melse\u001b[0m\u001b[0;34m:\u001b[0m\u001b[0;34m\u001b[0m\u001b[0;34m\u001b[0m\u001b[0m\n\u001b[1;32m    181\u001b[0m         \u001b[0;31m# Recursion: Implicitly build the height j-1 left and right subtrees.\u001b[0m\u001b[0;34m\u001b[0m\u001b[0;34m\u001b[0m\u001b[0;34m\u001b[0m\u001b[0m\n\u001b[0;32m--> 182\u001b[0;31m         \u001b[0mthetaminus\u001b[0m\u001b[0;34m,\u001b[0m \u001b[0mrminus\u001b[0m\u001b[0;34m,\u001b[0m \u001b[0mgradminus\u001b[0m\u001b[0;34m,\u001b[0m \u001b[0mthetaplus\u001b[0m\u001b[0;34m,\u001b[0m \u001b[0mrplus\u001b[0m\u001b[0;34m,\u001b[0m \u001b[0mgradplus\u001b[0m\u001b[0;34m,\u001b[0m \u001b[0mthetaprime\u001b[0m\u001b[0;34m,\u001b[0m \u001b[0mgradprime\u001b[0m\u001b[0;34m,\u001b[0m \u001b[0mlogpprime\u001b[0m\u001b[0;34m,\u001b[0m \u001b[0mnprime\u001b[0m\u001b[0;34m,\u001b[0m \u001b[0msprime\u001b[0m\u001b[0;34m,\u001b[0m \u001b[0malphaprime\u001b[0m\u001b[0;34m,\u001b[0m \u001b[0mnalphaprime\u001b[0m \u001b[0;34m=\u001b[0m \u001b[0mbuild_tree\u001b[0m\u001b[0;34m(\u001b[0m\u001b[0mtheta\u001b[0m\u001b[0;34m,\u001b[0m \u001b[0mr\u001b[0m\u001b[0;34m,\u001b[0m \u001b[0mgrad\u001b[0m\u001b[0;34m,\u001b[0m \u001b[0mlogu\u001b[0m\u001b[0;34m,\u001b[0m \u001b[0mv\u001b[0m\u001b[0;34m,\u001b[0m \u001b[0mj\u001b[0m \u001b[0;34m-\u001b[0m \u001b[0;36m1\u001b[0m\u001b[0;34m,\u001b[0m \u001b[0mepsilon\u001b[0m\u001b[0;34m,\u001b[0m \u001b[0mf\u001b[0m\u001b[0;34m,\u001b[0m \u001b[0mjoint0\u001b[0m\u001b[0;34m)\u001b[0m\u001b[0;34m\u001b[0m\u001b[0;34m\u001b[0m\u001b[0m\n\u001b[0m\u001b[1;32m    183\u001b[0m         \u001b[0;31m# No need to keep going if the stopping criteria were met in the first subtree.\u001b[0m\u001b[0;34m\u001b[0m\u001b[0;34m\u001b[0m\u001b[0;34m\u001b[0m\u001b[0m\n\u001b[1;32m    184\u001b[0m         \u001b[0;32mif\u001b[0m \u001b[0;34m(\u001b[0m\u001b[0msprime\u001b[0m \u001b[0;34m==\u001b[0m \u001b[0;36m1\u001b[0m\u001b[0;34m)\u001b[0m\u001b[0;34m:\u001b[0m\u001b[0;34m\u001b[0m\u001b[0;34m\u001b[0m\u001b[0m\n",
      "\u001b[0;32m/usr/local/lib/python3.7/site-packages/nuts-1.0-py3.7.egg/nuts/nuts.py\u001b[0m in \u001b[0;36mbuild_tree\u001b[0;34m(theta, r, grad, logu, v, j, epsilon, f, joint0)\u001b[0m\n\u001b[1;32m    180\u001b[0m     \u001b[0;32melse\u001b[0m\u001b[0;34m:\u001b[0m\u001b[0;34m\u001b[0m\u001b[0;34m\u001b[0m\u001b[0m\n\u001b[1;32m    181\u001b[0m         \u001b[0;31m# Recursion: Implicitly build the height j-1 left and right subtrees.\u001b[0m\u001b[0;34m\u001b[0m\u001b[0;34m\u001b[0m\u001b[0;34m\u001b[0m\u001b[0m\n\u001b[0;32m--> 182\u001b[0;31m         \u001b[0mthetaminus\u001b[0m\u001b[0;34m,\u001b[0m \u001b[0mrminus\u001b[0m\u001b[0;34m,\u001b[0m \u001b[0mgradminus\u001b[0m\u001b[0;34m,\u001b[0m \u001b[0mthetaplus\u001b[0m\u001b[0;34m,\u001b[0m \u001b[0mrplus\u001b[0m\u001b[0;34m,\u001b[0m \u001b[0mgradplus\u001b[0m\u001b[0;34m,\u001b[0m \u001b[0mthetaprime\u001b[0m\u001b[0;34m,\u001b[0m \u001b[0mgradprime\u001b[0m\u001b[0;34m,\u001b[0m \u001b[0mlogpprime\u001b[0m\u001b[0;34m,\u001b[0m \u001b[0mnprime\u001b[0m\u001b[0;34m,\u001b[0m \u001b[0msprime\u001b[0m\u001b[0;34m,\u001b[0m \u001b[0malphaprime\u001b[0m\u001b[0;34m,\u001b[0m \u001b[0mnalphaprime\u001b[0m \u001b[0;34m=\u001b[0m \u001b[0mbuild_tree\u001b[0m\u001b[0;34m(\u001b[0m\u001b[0mtheta\u001b[0m\u001b[0;34m,\u001b[0m \u001b[0mr\u001b[0m\u001b[0;34m,\u001b[0m \u001b[0mgrad\u001b[0m\u001b[0;34m,\u001b[0m \u001b[0mlogu\u001b[0m\u001b[0;34m,\u001b[0m \u001b[0mv\u001b[0m\u001b[0;34m,\u001b[0m \u001b[0mj\u001b[0m \u001b[0;34m-\u001b[0m \u001b[0;36m1\u001b[0m\u001b[0;34m,\u001b[0m \u001b[0mepsilon\u001b[0m\u001b[0;34m,\u001b[0m \u001b[0mf\u001b[0m\u001b[0;34m,\u001b[0m \u001b[0mjoint0\u001b[0m\u001b[0;34m)\u001b[0m\u001b[0;34m\u001b[0m\u001b[0;34m\u001b[0m\u001b[0m\n\u001b[0m\u001b[1;32m    183\u001b[0m         \u001b[0;31m# No need to keep going if the stopping criteria were met in the first subtree.\u001b[0m\u001b[0;34m\u001b[0m\u001b[0;34m\u001b[0m\u001b[0;34m\u001b[0m\u001b[0m\n\u001b[1;32m    184\u001b[0m         \u001b[0;32mif\u001b[0m \u001b[0;34m(\u001b[0m\u001b[0msprime\u001b[0m \u001b[0;34m==\u001b[0m \u001b[0;36m1\u001b[0m\u001b[0;34m)\u001b[0m\u001b[0;34m:\u001b[0m\u001b[0;34m\u001b[0m\u001b[0;34m\u001b[0m\u001b[0m\n",
      "\u001b[0;32m/usr/local/lib/python3.7/site-packages/nuts-1.0-py3.7.egg/nuts/nuts.py\u001b[0m in \u001b[0;36mbuild_tree\u001b[0;34m(theta, r, grad, logu, v, j, epsilon, f, joint0)\u001b[0m\n\u001b[1;32m    160\u001b[0m     \u001b[0;32mif\u001b[0m \u001b[0;34m(\u001b[0m\u001b[0mj\u001b[0m \u001b[0;34m==\u001b[0m \u001b[0;36m0\u001b[0m\u001b[0;34m)\u001b[0m\u001b[0;34m:\u001b[0m\u001b[0;34m\u001b[0m\u001b[0;34m\u001b[0m\u001b[0m\n\u001b[1;32m    161\u001b[0m         \u001b[0;31m# Base case: Take a single leapfrog step in the direction v.\u001b[0m\u001b[0;34m\u001b[0m\u001b[0;34m\u001b[0m\u001b[0;34m\u001b[0m\u001b[0m\n\u001b[0;32m--> 162\u001b[0;31m         \u001b[0mthetaprime\u001b[0m\u001b[0;34m,\u001b[0m \u001b[0mrprime\u001b[0m\u001b[0;34m,\u001b[0m \u001b[0mgradprime\u001b[0m\u001b[0;34m,\u001b[0m \u001b[0mlogpprime\u001b[0m \u001b[0;34m=\u001b[0m \u001b[0mleapfrog\u001b[0m\u001b[0;34m(\u001b[0m\u001b[0mtheta\u001b[0m\u001b[0;34m,\u001b[0m \u001b[0mr\u001b[0m\u001b[0;34m,\u001b[0m \u001b[0mgrad\u001b[0m\u001b[0;34m,\u001b[0m \u001b[0mv\u001b[0m \u001b[0;34m*\u001b[0m \u001b[0mepsilon\u001b[0m\u001b[0;34m,\u001b[0m \u001b[0mf\u001b[0m\u001b[0;34m)\u001b[0m\u001b[0;34m\u001b[0m\u001b[0;34m\u001b[0m\u001b[0m\n\u001b[0m\u001b[1;32m    163\u001b[0m         \u001b[0mjoint\u001b[0m \u001b[0;34m=\u001b[0m \u001b[0mlogpprime\u001b[0m \u001b[0;34m-\u001b[0m \u001b[0;36m0.5\u001b[0m \u001b[0;34m*\u001b[0m \u001b[0mnp\u001b[0m\u001b[0;34m.\u001b[0m\u001b[0mdot\u001b[0m\u001b[0;34m(\u001b[0m\u001b[0mrprime\u001b[0m\u001b[0;34m,\u001b[0m \u001b[0mrprime\u001b[0m\u001b[0;34m.\u001b[0m\u001b[0mT\u001b[0m\u001b[0;34m)\u001b[0m\u001b[0;34m\u001b[0m\u001b[0;34m\u001b[0m\u001b[0m\n\u001b[1;32m    164\u001b[0m         \u001b[0;31m# Is the new point in the slice?\u001b[0m\u001b[0;34m\u001b[0m\u001b[0;34m\u001b[0m\u001b[0;34m\u001b[0m\u001b[0m\n",
      "\u001b[0;32m/usr/local/lib/python3.7/site-packages/nuts-1.0-py3.7.egg/nuts/nuts.py\u001b[0m in \u001b[0;36mleapfrog\u001b[0;34m(theta, r, grad, epsilon, f)\u001b[0m\n\u001b[1;32m     96\u001b[0m     \u001b[0mthetaprime\u001b[0m \u001b[0;34m=\u001b[0m \u001b[0mtheta\u001b[0m \u001b[0;34m+\u001b[0m \u001b[0mepsilon\u001b[0m \u001b[0;34m*\u001b[0m \u001b[0mrprime\u001b[0m\u001b[0;34m\u001b[0m\u001b[0;34m\u001b[0m\u001b[0m\n\u001b[1;32m     97\u001b[0m     \u001b[0;31m#compute new gradient\u001b[0m\u001b[0;34m\u001b[0m\u001b[0;34m\u001b[0m\u001b[0;34m\u001b[0m\u001b[0m\n\u001b[0;32m---> 98\u001b[0;31m     \u001b[0mlogpprime\u001b[0m\u001b[0;34m,\u001b[0m \u001b[0mgradprime\u001b[0m \u001b[0;34m=\u001b[0m \u001b[0mf\u001b[0m\u001b[0;34m(\u001b[0m\u001b[0mthetaprime\u001b[0m\u001b[0;34m)\u001b[0m\u001b[0;34m\u001b[0m\u001b[0;34m\u001b[0m\u001b[0m\n\u001b[0m\u001b[1;32m     99\u001b[0m     \u001b[0;31m# make half step in r again\u001b[0m\u001b[0;34m\u001b[0m\u001b[0;34m\u001b[0m\u001b[0;34m\u001b[0m\u001b[0m\n\u001b[1;32m    100\u001b[0m     \u001b[0mrprime\u001b[0m \u001b[0;34m=\u001b[0m \u001b[0mrprime\u001b[0m \u001b[0;34m+\u001b[0m \u001b[0;36m0.5\u001b[0m \u001b[0;34m*\u001b[0m \u001b[0mepsilon\u001b[0m \u001b[0;34m*\u001b[0m \u001b[0mgradprime\u001b[0m\u001b[0;34m\u001b[0m\u001b[0;34m\u001b[0m\u001b[0m\n",
      "\u001b[0;32m/usr/local/lib/python3.7/site-packages/nuts-1.0-py3.7.egg/nuts/emcee_nuts.py\u001b[0m in \u001b[0;36m_sample_fn\u001b[0;34m(self, p, dx, order)\u001b[0m\n\u001b[1;32m     78\u001b[0m         \u001b[0;34m\"\"\" proxy function for nuts6 \"\"\"\u001b[0m\u001b[0;34m\u001b[0m\u001b[0;34m\u001b[0m\u001b[0m\n\u001b[1;32m     79\u001b[0m         \u001b[0mlnprob\u001b[0m \u001b[0;34m=\u001b[0m \u001b[0mself\u001b[0m\u001b[0;34m.\u001b[0m\u001b[0mlnprobfn\u001b[0m\u001b[0;34m(\u001b[0m\u001b[0mp\u001b[0m\u001b[0;34m)\u001b[0m\u001b[0;34m\u001b[0m\u001b[0;34m\u001b[0m\u001b[0m\n\u001b[0;32m---> 80\u001b[0;31m         \u001b[0mgradlnp\u001b[0m \u001b[0;34m=\u001b[0m \u001b[0mself\u001b[0m\u001b[0;34m.\u001b[0m\u001b[0mgradfn\u001b[0m\u001b[0;34m(\u001b[0m\u001b[0mp\u001b[0m\u001b[0;34m)\u001b[0m\u001b[0;34m\u001b[0m\u001b[0;34m\u001b[0m\u001b[0m\n\u001b[0m\u001b[1;32m     81\u001b[0m         \u001b[0;32mreturn\u001b[0m\u001b[0;34m(\u001b[0m\u001b[0mlnprob\u001b[0m\u001b[0;34m,\u001b[0m \u001b[0mgradlnp\u001b[0m\u001b[0;34m)\u001b[0m\u001b[0;34m\u001b[0m\u001b[0;34m\u001b[0m\u001b[0m\n\u001b[1;32m     82\u001b[0m \u001b[0;34m\u001b[0m\u001b[0m\n",
      "\u001b[0;32m/usr/local/lib/python3.7/site-packages/nuts-1.0-py3.7.egg/nuts/helpers.py\u001b[0m in \u001b[0;36m__call__\u001b[0;34m(self, x)\u001b[0m\n\u001b[1;32m     90\u001b[0m     \u001b[0;32mdef\u001b[0m \u001b[0m__call__\u001b[0m\u001b[0;34m(\u001b[0m\u001b[0mself\u001b[0m\u001b[0;34m,\u001b[0m \u001b[0mx\u001b[0m\u001b[0;34m)\u001b[0m\u001b[0;34m:\u001b[0m\u001b[0;34m\u001b[0m\u001b[0;34m\u001b[0m\u001b[0m\n\u001b[1;32m     91\u001b[0m         \u001b[0;32mtry\u001b[0m\u001b[0;34m:\u001b[0m\u001b[0;34m\u001b[0m\u001b[0;34m\u001b[0m\u001b[0m\n\u001b[0;32m---> 92\u001b[0;31m             \u001b[0;32mreturn\u001b[0m \u001b[0mself\u001b[0m\u001b[0;34m.\u001b[0m\u001b[0mf\u001b[0m\u001b[0;34m(\u001b[0m\u001b[0mx\u001b[0m\u001b[0;34m,\u001b[0m \u001b[0;34m*\u001b[0m\u001b[0mself\u001b[0m\u001b[0;34m.\u001b[0m\u001b[0margs\u001b[0m\u001b[0;34m,\u001b[0m \u001b[0;34m**\u001b[0m\u001b[0mself\u001b[0m\u001b[0;34m.\u001b[0m\u001b[0mkwargs\u001b[0m\u001b[0;34m)\u001b[0m\u001b[0;34m\u001b[0m\u001b[0;34m\u001b[0m\u001b[0m\n\u001b[0m\u001b[1;32m     93\u001b[0m         \u001b[0;32mexcept\u001b[0m\u001b[0;34m:\u001b[0m\u001b[0;34m\u001b[0m\u001b[0;34m\u001b[0m\u001b[0m\n\u001b[1;32m     94\u001b[0m             \u001b[0;32mimport\u001b[0m \u001b[0mtraceback\u001b[0m\u001b[0;34m\u001b[0m\u001b[0;34m\u001b[0m\u001b[0m\n",
      "\u001b[0;32m/usr/local/lib/python3.7/site-packages/nuts-1.0-py3.7.egg/nuts/helpers.py\u001b[0m in \u001b[0;36mnumerical_grad\u001b[0;34m(theta, f, dx, order)\u001b[0m\n\u001b[1;32m     68\u001b[0m             \u001b[0mdt\u001b[0m \u001b[0;34m=\u001b[0m \u001b[0mnp\u001b[0m\u001b[0;34m.\u001b[0m\u001b[0mzeros\u001b[0m\u001b[0;34m(\u001b[0m\u001b[0mndim\u001b[0m\u001b[0;34m,\u001b[0m \u001b[0mdtype\u001b[0m\u001b[0;34m=\u001b[0m\u001b[0mfloat\u001b[0m\u001b[0;34m)\u001b[0m\u001b[0;34m\u001b[0m\u001b[0;34m\u001b[0m\u001b[0m\n\u001b[1;32m     69\u001b[0m             \u001b[0mdt\u001b[0m\u001b[0;34m[\u001b[0m\u001b[0mk\u001b[0m\u001b[0;34m]\u001b[0m \u001b[0;34m=\u001b[0m \u001b[0mdx\u001b[0m\u001b[0;34m\u001b[0m\u001b[0;34m\u001b[0m\u001b[0m\n\u001b[0;32m---> 70\u001b[0;31m             \u001b[0mdf\u001b[0m\u001b[0;34m[\u001b[0m\u001b[0mk\u001b[0m\u001b[0;34m]\u001b[0m \u001b[0;34m=\u001b[0m \u001b[0;34m(\u001b[0m\u001b[0mf\u001b[0m\u001b[0;34m(\u001b[0m\u001b[0mtheta\u001b[0m \u001b[0;34m+\u001b[0m \u001b[0mdt\u001b[0m\u001b[0;34m)\u001b[0m \u001b[0;34m-\u001b[0m \u001b[0mf\u001b[0m\u001b[0;34m(\u001b[0m\u001b[0mtheta\u001b[0m \u001b[0;34m-\u001b[0m \u001b[0mdt\u001b[0m\u001b[0;34m)\u001b[0m\u001b[0;34m)\u001b[0m \u001b[0;34m*\u001b[0m \u001b[0mcst\u001b[0m\u001b[0;34m\u001b[0m\u001b[0;34m\u001b[0m\u001b[0m\n\u001b[0m\u001b[1;32m     71\u001b[0m     \u001b[0;32melif\u001b[0m \u001b[0morder\u001b[0m \u001b[0;34m==\u001b[0m \u001b[0;36m2\u001b[0m\u001b[0;34m:\u001b[0m\u001b[0;34m\u001b[0m\u001b[0;34m\u001b[0m\u001b[0m\n\u001b[1;32m     72\u001b[0m         \u001b[0mcst\u001b[0m \u001b[0;34m=\u001b[0m \u001b[0;36m1.\u001b[0m \u001b[0;34m/\u001b[0m \u001b[0;34m(\u001b[0m\u001b[0;36m12.\u001b[0m \u001b[0;34m*\u001b[0m \u001b[0mdx\u001b[0m\u001b[0;34m)\u001b[0m\u001b[0;34m\u001b[0m\u001b[0;34m\u001b[0m\u001b[0m\n",
      "\u001b[0;32m/usr/local/lib/python3.7/site-packages/nuts-1.0-py3.7.egg/nuts/helpers.py\u001b[0m in \u001b[0;36m__call__\u001b[0;34m(self, x)\u001b[0m\n\u001b[1;32m     90\u001b[0m     \u001b[0;32mdef\u001b[0m \u001b[0m__call__\u001b[0m\u001b[0;34m(\u001b[0m\u001b[0mself\u001b[0m\u001b[0;34m,\u001b[0m \u001b[0mx\u001b[0m\u001b[0;34m)\u001b[0m\u001b[0;34m:\u001b[0m\u001b[0;34m\u001b[0m\u001b[0;34m\u001b[0m\u001b[0m\n\u001b[1;32m     91\u001b[0m         \u001b[0;32mtry\u001b[0m\u001b[0;34m:\u001b[0m\u001b[0;34m\u001b[0m\u001b[0;34m\u001b[0m\u001b[0m\n\u001b[0;32m---> 92\u001b[0;31m             \u001b[0;32mreturn\u001b[0m \u001b[0mself\u001b[0m\u001b[0;34m.\u001b[0m\u001b[0mf\u001b[0m\u001b[0;34m(\u001b[0m\u001b[0mx\u001b[0m\u001b[0;34m,\u001b[0m \u001b[0;34m*\u001b[0m\u001b[0mself\u001b[0m\u001b[0;34m.\u001b[0m\u001b[0margs\u001b[0m\u001b[0;34m,\u001b[0m \u001b[0;34m**\u001b[0m\u001b[0mself\u001b[0m\u001b[0;34m.\u001b[0m\u001b[0mkwargs\u001b[0m\u001b[0;34m)\u001b[0m\u001b[0;34m\u001b[0m\u001b[0;34m\u001b[0m\u001b[0m\n\u001b[0m\u001b[1;32m     93\u001b[0m         \u001b[0;32mexcept\u001b[0m\u001b[0;34m:\u001b[0m\u001b[0;34m\u001b[0m\u001b[0;34m\u001b[0m\u001b[0m\n\u001b[1;32m     94\u001b[0m             \u001b[0;32mimport\u001b[0m \u001b[0mtraceback\u001b[0m\u001b[0;34m\u001b[0m\u001b[0;34m\u001b[0m\u001b[0m\n",
      "\u001b[0;32m~/Documents/CausalModel/SCM.py\u001b[0m in \u001b[0;36mlog_probability\u001b[0;34m(self, x)\u001b[0m\n\u001b[1;32m     88\u001b[0m \u001b[0;34m\u001b[0m\u001b[0m\n\u001b[1;32m     89\u001b[0m             \u001b[0mcauses_values\u001b[0m \u001b[0;34m=\u001b[0m \u001b[0;34m[\u001b[0m\u001b[0mx\u001b[0m\u001b[0;34m[\u001b[0m\u001b[0mi\u001b[0m\u001b[0;34m]\u001b[0m \u001b[0;32mfor\u001b[0m \u001b[0mi\u001b[0m \u001b[0;32min\u001b[0m \u001b[0mcauses\u001b[0m\u001b[0;34m]\u001b[0m\u001b[0;34m\u001b[0m\u001b[0;34m\u001b[0m\u001b[0m\n\u001b[0;32m---> 90\u001b[0;31m             \u001b[0mlog_l\u001b[0m \u001b[0;34m+=\u001b[0m \u001b[0mself\u001b[0m\u001b[0;34m.\u001b[0m\u001b[0mmechanisms\u001b[0m\u001b[0;34m[\u001b[0m\u001b[0mn\u001b[0m\u001b[0;34m]\u001b[0m\u001b[0;34m.\u001b[0m\u001b[0mlog_probability\u001b[0m\u001b[0;34m(\u001b[0m\u001b[0mx\u001b[0m\u001b[0;34m[\u001b[0m\u001b[0mn\u001b[0m\u001b[0;34m]\u001b[0m\u001b[0;34m,\u001b[0m \u001b[0mcauses_values\u001b[0m\u001b[0;34m)\u001b[0m\u001b[0;34m\u001b[0m\u001b[0;34m\u001b[0m\u001b[0m\n\u001b[0m\u001b[1;32m     91\u001b[0m \u001b[0;34m\u001b[0m\u001b[0m\n\u001b[1;32m     92\u001b[0m         \u001b[0;32mreturn\u001b[0m \u001b[0mlog_l\u001b[0m\u001b[0;34m\u001b[0m\u001b[0;34m\u001b[0m\u001b[0m\n",
      "\u001b[0;32m~/Documents/CausalModel/Mechanisms.py\u001b[0m in \u001b[0;36mlog_probability\u001b[0;34m(self, y, causes)\u001b[0m\n\u001b[1;32m     29\u001b[0m     \u001b[0;32mdef\u001b[0m \u001b[0mlog_probability\u001b[0m\u001b[0;34m(\u001b[0m\u001b[0mself\u001b[0m\u001b[0;34m,\u001b[0m \u001b[0my\u001b[0m\u001b[0;34m,\u001b[0m \u001b[0mcauses\u001b[0m\u001b[0;34m)\u001b[0m\u001b[0;34m:\u001b[0m\u001b[0;34m\u001b[0m\u001b[0;34m\u001b[0m\u001b[0m\n\u001b[1;32m     30\u001b[0m         \u001b[0mtop_n\u001b[0m \u001b[0;34m=\u001b[0m \u001b[0;36m3\u001b[0m\u001b[0;34m\u001b[0m\u001b[0;34m\u001b[0m\u001b[0m\n\u001b[0;32m---> 31\u001b[0;31m         \u001b[0mdistances\u001b[0m \u001b[0;34m=\u001b[0m \u001b[0;34m[\u001b[0m\u001b[0;34m(\u001b[0m\u001b[0mi\u001b[0m\u001b[0;34m,\u001b[0m \u001b[0mscipy\u001b[0m\u001b[0;34m.\u001b[0m\u001b[0mspatial\u001b[0m\u001b[0;34m.\u001b[0m\u001b[0mdistance\u001b[0m\u001b[0;34m.\u001b[0m\u001b[0meuclidean\u001b[0m\u001b[0;34m(\u001b[0m\u001b[0mcauses\u001b[0m\u001b[0;34m,\u001b[0m \u001b[0mc\u001b[0m\u001b[0;34m[\u001b[0m\u001b[0;36m0\u001b[0m\u001b[0;34m]\u001b[0m\u001b[0;34m)\u001b[0m\u001b[0;34m)\u001b[0m \u001b[0;32mfor\u001b[0m \u001b[0mi\u001b[0m\u001b[0;34m,\u001b[0m \u001b[0mc\u001b[0m \u001b[0;32min\u001b[0m \u001b[0menumerate\u001b[0m\u001b[0;34m(\u001b[0m\u001b[0mself\u001b[0m\u001b[0;34m.\u001b[0m\u001b[0mlog_probabilities\u001b[0m\u001b[0;34m)\u001b[0m\u001b[0;34m]\u001b[0m\u001b[0;34m\u001b[0m\u001b[0;34m\u001b[0m\u001b[0m\n\u001b[0m\u001b[1;32m     32\u001b[0m         \u001b[0mclosest_l_prob\u001b[0m \u001b[0;34m=\u001b[0m \u001b[0msorted\u001b[0m\u001b[0;34m(\u001b[0m\u001b[0mdistances\u001b[0m\u001b[0;34m,\u001b[0m \u001b[0mkey\u001b[0m\u001b[0;34m=\u001b[0m\u001b[0;32mlambda\u001b[0m \u001b[0mt\u001b[0m\u001b[0;34m:\u001b[0m \u001b[0mt\u001b[0m\u001b[0;34m[\u001b[0m\u001b[0;36m1\u001b[0m\u001b[0;34m]\u001b[0m\u001b[0;34m,\u001b[0m \u001b[0mreverse\u001b[0m\u001b[0;34m=\u001b[0m\u001b[0;32mTrue\u001b[0m\u001b[0;34m)\u001b[0m\u001b[0;34m[\u001b[0m\u001b[0;34m:\u001b[0m\u001b[0mtop_n\u001b[0m\u001b[0;34m]\u001b[0m\u001b[0;34m\u001b[0m\u001b[0;34m\u001b[0m\u001b[0m\n\u001b[1;32m     33\u001b[0m         \u001b[0mres\u001b[0m \u001b[0;34m=\u001b[0m \u001b[0;36m0.\u001b[0m\u001b[0;34m\u001b[0m\u001b[0;34m\u001b[0m\u001b[0m\n",
      "\u001b[0;32m~/Documents/CausalModel/Mechanisms.py\u001b[0m in \u001b[0;36m<listcomp>\u001b[0;34m(.0)\u001b[0m\n\u001b[1;32m     29\u001b[0m     \u001b[0;32mdef\u001b[0m \u001b[0mlog_probability\u001b[0m\u001b[0;34m(\u001b[0m\u001b[0mself\u001b[0m\u001b[0;34m,\u001b[0m \u001b[0my\u001b[0m\u001b[0;34m,\u001b[0m \u001b[0mcauses\u001b[0m\u001b[0;34m)\u001b[0m\u001b[0;34m:\u001b[0m\u001b[0;34m\u001b[0m\u001b[0;34m\u001b[0m\u001b[0m\n\u001b[1;32m     30\u001b[0m         \u001b[0mtop_n\u001b[0m \u001b[0;34m=\u001b[0m \u001b[0;36m3\u001b[0m\u001b[0;34m\u001b[0m\u001b[0;34m\u001b[0m\u001b[0m\n\u001b[0;32m---> 31\u001b[0;31m         \u001b[0mdistances\u001b[0m \u001b[0;34m=\u001b[0m \u001b[0;34m[\u001b[0m\u001b[0;34m(\u001b[0m\u001b[0mi\u001b[0m\u001b[0;34m,\u001b[0m \u001b[0mscipy\u001b[0m\u001b[0;34m.\u001b[0m\u001b[0mspatial\u001b[0m\u001b[0;34m.\u001b[0m\u001b[0mdistance\u001b[0m\u001b[0;34m.\u001b[0m\u001b[0meuclidean\u001b[0m\u001b[0;34m(\u001b[0m\u001b[0mcauses\u001b[0m\u001b[0;34m,\u001b[0m \u001b[0mc\u001b[0m\u001b[0;34m[\u001b[0m\u001b[0;36m0\u001b[0m\u001b[0;34m]\u001b[0m\u001b[0;34m)\u001b[0m\u001b[0;34m)\u001b[0m \u001b[0;32mfor\u001b[0m \u001b[0mi\u001b[0m\u001b[0;34m,\u001b[0m \u001b[0mc\u001b[0m \u001b[0;32min\u001b[0m \u001b[0menumerate\u001b[0m\u001b[0;34m(\u001b[0m\u001b[0mself\u001b[0m\u001b[0;34m.\u001b[0m\u001b[0mlog_probabilities\u001b[0m\u001b[0;34m)\u001b[0m\u001b[0;34m]\u001b[0m\u001b[0;34m\u001b[0m\u001b[0;34m\u001b[0m\u001b[0m\n\u001b[0m\u001b[1;32m     32\u001b[0m         \u001b[0mclosest_l_prob\u001b[0m \u001b[0;34m=\u001b[0m \u001b[0msorted\u001b[0m\u001b[0;34m(\u001b[0m\u001b[0mdistances\u001b[0m\u001b[0;34m,\u001b[0m \u001b[0mkey\u001b[0m\u001b[0;34m=\u001b[0m\u001b[0;32mlambda\u001b[0m \u001b[0mt\u001b[0m\u001b[0;34m:\u001b[0m \u001b[0mt\u001b[0m\u001b[0;34m[\u001b[0m\u001b[0;36m1\u001b[0m\u001b[0;34m]\u001b[0m\u001b[0;34m,\u001b[0m \u001b[0mreverse\u001b[0m\u001b[0;34m=\u001b[0m\u001b[0;32mTrue\u001b[0m\u001b[0;34m)\u001b[0m\u001b[0;34m[\u001b[0m\u001b[0;34m:\u001b[0m\u001b[0mtop_n\u001b[0m\u001b[0;34m]\u001b[0m\u001b[0;34m\u001b[0m\u001b[0;34m\u001b[0m\u001b[0m\n\u001b[1;32m     33\u001b[0m         \u001b[0mres\u001b[0m \u001b[0;34m=\u001b[0m \u001b[0;36m0.\u001b[0m\u001b[0;34m\u001b[0m\u001b[0;34m\u001b[0m\u001b[0m\n",
      "\u001b[0;32m/usr/local/lib/python3.7/site-packages/scipy/spatial/distance.py\u001b[0m in \u001b[0;36meuclidean\u001b[0;34m(u, v, w)\u001b[0m\n\u001b[1;32m    618\u001b[0m \u001b[0;34m\u001b[0m\u001b[0m\n\u001b[1;32m    619\u001b[0m     \"\"\"\n\u001b[0;32m--> 620\u001b[0;31m     \u001b[0;32mreturn\u001b[0m \u001b[0mminkowski\u001b[0m\u001b[0;34m(\u001b[0m\u001b[0mu\u001b[0m\u001b[0;34m,\u001b[0m \u001b[0mv\u001b[0m\u001b[0;34m,\u001b[0m \u001b[0mp\u001b[0m\u001b[0;34m=\u001b[0m\u001b[0;36m2\u001b[0m\u001b[0;34m,\u001b[0m \u001b[0mw\u001b[0m\u001b[0;34m=\u001b[0m\u001b[0mw\u001b[0m\u001b[0;34m)\u001b[0m\u001b[0;34m\u001b[0m\u001b[0;34m\u001b[0m\u001b[0m\n\u001b[0m\u001b[1;32m    621\u001b[0m \u001b[0;34m\u001b[0m\u001b[0m\n\u001b[1;32m    622\u001b[0m \u001b[0;34m\u001b[0m\u001b[0m\n",
      "\u001b[0;32m/usr/local/lib/python3.7/site-packages/scipy/spatial/distance.py\u001b[0m in \u001b[0;36mminkowski\u001b[0;34m(u, v, p, w)\u001b[0m\n\u001b[1;32m    506\u001b[0m \u001b[0;34m\u001b[0m\u001b[0m\n\u001b[1;32m    507\u001b[0m     \"\"\"\n\u001b[0;32m--> 508\u001b[0;31m     \u001b[0mu\u001b[0m \u001b[0;34m=\u001b[0m \u001b[0m_validate_vector\u001b[0m\u001b[0;34m(\u001b[0m\u001b[0mu\u001b[0m\u001b[0;34m)\u001b[0m\u001b[0;34m\u001b[0m\u001b[0;34m\u001b[0m\u001b[0m\n\u001b[0m\u001b[1;32m    509\u001b[0m     \u001b[0mv\u001b[0m \u001b[0;34m=\u001b[0m \u001b[0m_validate_vector\u001b[0m\u001b[0;34m(\u001b[0m\u001b[0mv\u001b[0m\u001b[0;34m)\u001b[0m\u001b[0;34m\u001b[0m\u001b[0;34m\u001b[0m\u001b[0m\n\u001b[1;32m    510\u001b[0m     \u001b[0;32mif\u001b[0m \u001b[0mp\u001b[0m \u001b[0;34m<\u001b[0m \u001b[0;36m1\u001b[0m\u001b[0;34m:\u001b[0m\u001b[0;34m\u001b[0m\u001b[0;34m\u001b[0m\u001b[0m\n",
      "\u001b[0;32m/usr/local/lib/python3.7/site-packages/scipy/spatial/distance.py\u001b[0m in \u001b[0;36m_validate_vector\u001b[0;34m(u, dtype)\u001b[0m\n\u001b[1;32m    334\u001b[0m     \u001b[0mu\u001b[0m \u001b[0;34m=\u001b[0m \u001b[0mnp\u001b[0m\u001b[0;34m.\u001b[0m\u001b[0masarray\u001b[0m\u001b[0;34m(\u001b[0m\u001b[0mu\u001b[0m\u001b[0;34m,\u001b[0m \u001b[0mdtype\u001b[0m\u001b[0;34m=\u001b[0m\u001b[0mdtype\u001b[0m\u001b[0;34m,\u001b[0m \u001b[0morder\u001b[0m\u001b[0;34m=\u001b[0m\u001b[0;34m'c'\u001b[0m\u001b[0;34m)\u001b[0m\u001b[0;34m.\u001b[0m\u001b[0msqueeze\u001b[0m\u001b[0;34m(\u001b[0m\u001b[0;34m)\u001b[0m\u001b[0;34m\u001b[0m\u001b[0;34m\u001b[0m\u001b[0m\n\u001b[1;32m    335\u001b[0m     \u001b[0;31m# Ensure values such as u=1 and u=[1] still return 1-D arrays.\u001b[0m\u001b[0;34m\u001b[0m\u001b[0;34m\u001b[0m\u001b[0;34m\u001b[0m\u001b[0m\n\u001b[0;32m--> 336\u001b[0;31m     \u001b[0mu\u001b[0m \u001b[0;34m=\u001b[0m \u001b[0mnp\u001b[0m\u001b[0;34m.\u001b[0m\u001b[0matleast_1d\u001b[0m\u001b[0;34m(\u001b[0m\u001b[0mu\u001b[0m\u001b[0;34m)\u001b[0m\u001b[0;34m\u001b[0m\u001b[0;34m\u001b[0m\u001b[0m\n\u001b[0m\u001b[1;32m    337\u001b[0m     \u001b[0;32mif\u001b[0m \u001b[0mu\u001b[0m\u001b[0;34m.\u001b[0m\u001b[0mndim\u001b[0m \u001b[0;34m>\u001b[0m \u001b[0;36m1\u001b[0m\u001b[0;34m:\u001b[0m\u001b[0;34m\u001b[0m\u001b[0;34m\u001b[0m\u001b[0m\n\u001b[1;32m    338\u001b[0m         \u001b[0;32mraise\u001b[0m \u001b[0mValueError\u001b[0m\u001b[0;34m(\u001b[0m\u001b[0;34m\"Input vector should be 1-D.\"\u001b[0m\u001b[0;34m)\u001b[0m\u001b[0;34m\u001b[0m\u001b[0;34m\u001b[0m\u001b[0m\n",
      "\u001b[0;32m/usr/local/lib/python3.7/site-packages/numpy/core/shape_base.py\u001b[0m in \u001b[0;36matleast_1d\u001b[0;34m(*arys)\u001b[0m\n\u001b[1;32m     23\u001b[0m \u001b[0;34m\u001b[0m\u001b[0m\n\u001b[1;32m     24\u001b[0m \u001b[0;34m\u001b[0m\u001b[0m\n\u001b[0;32m---> 25\u001b[0;31m \u001b[0;34m@\u001b[0m\u001b[0marray_function_dispatch\u001b[0m\u001b[0;34m(\u001b[0m\u001b[0m_atleast_1d_dispatcher\u001b[0m\u001b[0;34m)\u001b[0m\u001b[0;34m\u001b[0m\u001b[0;34m\u001b[0m\u001b[0m\n\u001b[0m\u001b[1;32m     26\u001b[0m \u001b[0;32mdef\u001b[0m \u001b[0matleast_1d\u001b[0m\u001b[0;34m(\u001b[0m\u001b[0;34m*\u001b[0m\u001b[0marys\u001b[0m\u001b[0;34m)\u001b[0m\u001b[0;34m:\u001b[0m\u001b[0;34m\u001b[0m\u001b[0;34m\u001b[0m\u001b[0m\n\u001b[1;32m     27\u001b[0m     \"\"\"\n",
      "\u001b[0;31mKeyboardInterrupt\u001b[0m: "
     ]
    }
   ],
   "source": [
    "CD_convergence = CD_sample_efficiency(scm_a, scm_a, 1, [1, 100, 200, 500], repetitions=3)"
   ]
  },
  {
   "cell_type": "markdown",
   "metadata": {},
   "source": [
    "### Results"
   ]
  },
  {
   "cell_type": "code",
   "execution_count": null,
   "metadata": {},
   "outputs": [],
   "source": [
    "sns.set_context(\"notebook\")\n",
    "\n",
    "ax = sns.lineplot(x='nb_samples', y='ODist', ci=\"sd\", data=OD_convergence, label='OD', marker=\"o\", color=\"#63ACBE\")\n",
    "sns.lineplot(x='nb_samples', y='IDist', ci=\"sd\", ax=ax, data=ID_convergence, label='ID', marker=\"o\", color=\"#EE442F\")\n",
    "sns.lineplot(x='nb_samples', y='CDist', ci=\"sd\", data=CD_convergence, ax=ax, label='CD', marker=\"o\", color=\"#601A4A\")\n",
    "plt.xlabel('Number of samples (k)', fontsize=17)\n",
    "plt.ylabel(' Normalized Error', fontsize=17)\n",
    "\n",
    "ax.legend(fontsize='x-large')\n",
    "plt.savefig(\"results/sample_efficiency.pdf\", format=\"pdf\")"
   ]
  },
  {
   "cell_type": "markdown",
   "metadata": {
    "heading_collapsed": true
   },
   "source": [
    "### k,l,m Sample Efficiency"
   ]
  },
  {
   "cell_type": "code",
   "execution_count": 84,
   "metadata": {
    "hidden": true
   },
   "outputs": [],
   "source": [
    "def k_sample_efficiency(scm_a, scm_b, K, repetitions):\n",
    "    data_points = []\n",
    "    for k in K:\n",
    "        for _ in range(repetitions):\n",
    "            d = ODist(scm_a, scm_b, nb_samples=k, discrete=False)\n",
    "            data_points.append([k, d])\n",
    "    max_d = max([d_ for _, d_ in data_points])\n",
    "    updated_data_points = [[float(k / max(K)), float(d / max_d)] for k, d in data_points]\n",
    "    return DataFrame.from_records(updated_data_points, columns=['nb_samples', 'ODist'])\n",
    "    \n",
    "def l_sample_efficiency(scm_a, scm_b, L, repetitions):\n",
    "    data_points = []\n",
    "    for l in L:\n",
    "        for _ in range(repetitions):\n",
    "            d = IDist(scm_a, scm_b, nb_samples=500, l_samples=l, discrete=False)\n",
    "            data_points.append([l, d])\n",
    "    max_d = max([d_ for _, d_ in data_points])\n",
    "    updated_data_points = [[float(l / max(L)), float(d / max_d)] for l, d in data_points]\n",
    "    return DataFrame.from_records(updated_data_points, columns=['nb_samples', 'IDist'])\n",
    "\n",
    "def m_sample_efficiency(scm_a, scm_b, M, repetitions):\n",
    "    data_points = []\n",
    "    for m in M:\n",
    "        for _ in range(repetitions):\n",
    "            d = CDist(scm_a, scm_b, nb_samples_x=m, discrete=False)\n",
    "            data_points.append([m, d])\n",
    "    max_d = max([d_ for _, d_ in data_points])\n",
    "    updated_data_points = [[float(m / max(M)), float(d / max_d)] for m, d in data_points]\n",
    "    return DataFrame.from_records(updated_data_points, columns=['nb_samples', 'CDist'])"
   ]
  },
  {
   "cell_type": "code",
   "execution_count": 77,
   "metadata": {
    "hidden": true
   },
   "outputs": [],
   "source": [
    "k_convergence = k_sample_efficiency(scm_a, scm_a, [1, 100, 200, 500], repetitions=10)"
   ]
  },
  {
   "cell_type": "code",
   "execution_count": 78,
   "metadata": {
    "hidden": true
   },
   "outputs": [],
   "source": [
    "l_convergence = l_sample_efficiency(scm_a, scm_a, [1, 5, 10, 20], repetitions=10)"
   ]
  },
  {
   "cell_type": "code",
   "execution_count": 85,
   "metadata": {
    "hidden": true
   },
   "outputs": [
    {
     "name": "stdout",
     "output_type": "stream",
     "text": [
      "find_reasonable_epsilon= 0.25\n",
      "find_reasonable_epsilon= 0.25\n",
      "find_reasonable_epsilon= 0.25\n",
      "find_reasonable_epsilon= 0.25\n",
      "find_reasonable_epsilon= 0.25\n",
      "find_reasonable_epsilon= 0.125\n",
      "find_reasonable_epsilon= 0.25\n",
      "find_reasonable_epsilon= 0.25\n",
      "find_reasonable_epsilon= 0.25\n",
      "find_reasonable_epsilon= 0.25\n",
      "find_reasonable_epsilon= 0.25\n",
      "find_reasonable_epsilon= 0.25\n",
      "find_reasonable_epsilon= 0.25\n",
      "find_reasonable_epsilon= 0.25\n",
      "find_reasonable_epsilon= 0.25\n",
      "find_reasonable_epsilon= 0.125\n",
      "find_reasonable_epsilon= 0.25\n",
      "find_reasonable_epsilon= 0.25\n",
      "find_reasonable_epsilon= 0.25\n",
      "find_reasonable_epsilon= 0.25\n",
      "find_reasonable_epsilon= 0.25\n",
      "find_reasonable_epsilon= 0.25\n",
      "find_reasonable_epsilon= 0.125\n",
      "find_reasonable_epsilon= 0.25\n",
      "find_reasonable_epsilon= 0.25\n",
      "find_reasonable_epsilon= 0.25\n",
      "find_reasonable_epsilon= 0.125\n",
      "find_reasonable_epsilon= 0.25\n",
      "find_reasonable_epsilon= 0.25\n",
      "find_reasonable_epsilon= 0.25\n",
      "find_reasonable_epsilon= 0.25\n",
      "find_reasonable_epsilon= 0.125\n",
      "find_reasonable_epsilon= 0.125\n",
      "find_reasonable_epsilon= 0.25\n",
      "find_reasonable_epsilon= 0.25\n",
      "find_reasonable_epsilon= 0.25\n",
      "find_reasonable_epsilon= 0.25\n",
      "find_reasonable_epsilon= 0.25\n",
      "find_reasonable_epsilon= 0.25\n",
      "find_reasonable_epsilon= 0.25\n",
      "find_reasonable_epsilon= 0.25\n",
      "find_reasonable_epsilon= 0.25\n",
      "find_reasonable_epsilon= 0.125\n",
      "find_reasonable_epsilon= 0.25\n",
      "find_reasonable_epsilon= 0.25\n",
      "find_reasonable_epsilon= 0.25\n",
      "find_reasonable_epsilon= 0.125\n",
      "find_reasonable_epsilon= 0.25\n",
      "find_reasonable_epsilon= 0.25\n",
      "find_reasonable_epsilon= 0.25\n",
      "find_reasonable_epsilon= 0.25\n",
      "find_reasonable_epsilon= 0.25\n",
      "find_reasonable_epsilon= 0.25\n",
      "find_reasonable_epsilon= 0.25\n",
      "find_reasonable_epsilon= 0.25\n",
      "find_reasonable_epsilon= 0.25\n",
      "find_reasonable_epsilon= 0.25\n",
      "find_reasonable_epsilon= 0.25\n",
      "find_reasonable_epsilon= 0.25\n",
      "find_reasonable_epsilon= 0.25\n",
      "find_reasonable_epsilon= 0.25\n",
      "find_reasonable_epsilon= 0.25\n",
      "find_reasonable_epsilon= 0.125\n",
      "find_reasonable_epsilon= 0.125\n",
      "find_reasonable_epsilon= 0.25\n",
      "find_reasonable_epsilon= 0.25\n",
      "find_reasonable_epsilon= 0.25\n",
      "find_reasonable_epsilon= 0.25\n",
      "find_reasonable_epsilon= 0.125\n",
      "find_reasonable_epsilon= 0.25\n",
      "find_reasonable_epsilon= 0.25\n",
      "find_reasonable_epsilon= 0.25\n",
      "find_reasonable_epsilon= 0.125\n",
      "find_reasonable_epsilon= 0.125\n",
      "find_reasonable_epsilon= 0.25\n",
      "find_reasonable_epsilon= 0.25\n",
      "find_reasonable_epsilon= 0.125\n",
      "find_reasonable_epsilon= 0.25\n",
      "find_reasonable_epsilon= 0.125\n",
      "find_reasonable_epsilon= 0.125\n",
      "find_reasonable_epsilon= 0.25\n",
      "find_reasonable_epsilon= 0.125\n",
      "find_reasonable_epsilon= 0.125\n",
      "find_reasonable_epsilon= 0.25\n",
      "find_reasonable_epsilon= 0.25\n",
      "find_reasonable_epsilon= 0.25\n",
      "find_reasonable_epsilon= 0.125\n",
      "find_reasonable_epsilon= 0.25\n",
      "find_reasonable_epsilon= 0.25\n",
      "find_reasonable_epsilon= 0.25\n",
      "find_reasonable_epsilon= 0.25\n",
      "find_reasonable_epsilon= 0.25\n",
      "find_reasonable_epsilon= 0.25\n",
      "find_reasonable_epsilon= 0.125\n",
      "find_reasonable_epsilon= 0.25\n",
      "find_reasonable_epsilon= 0.25\n",
      "find_reasonable_epsilon= 0.125\n",
      "find_reasonable_epsilon= 0.125\n",
      "find_reasonable_epsilon= 0.25\n",
      "find_reasonable_epsilon= 0.25\n",
      "find_reasonable_epsilon= 0.25\n",
      "find_reasonable_epsilon= 0.25\n",
      "find_reasonable_epsilon= 0.25\n",
      "find_reasonable_epsilon= 0.25\n",
      "find_reasonable_epsilon= 0.25\n",
      "find_reasonable_epsilon= 0.25\n",
      "find_reasonable_epsilon= 0.25\n",
      "find_reasonable_epsilon= 0.125\n",
      "find_reasonable_epsilon= 0.25\n",
      "find_reasonable_epsilon= 0.25\n",
      "find_reasonable_epsilon= 0.25\n",
      "find_reasonable_epsilon= 0.25\n",
      "find_reasonable_epsilon= 0.25\n",
      "find_reasonable_epsilon= 0.25\n",
      "find_reasonable_epsilon= 0.25\n",
      "find_reasonable_epsilon= 0.125\n",
      "find_reasonable_epsilon= 0.25\n",
      "find_reasonable_epsilon= 0.25\n",
      "find_reasonable_epsilon= 0.25\n",
      "find_reasonable_epsilon= 0.25\n",
      "find_reasonable_epsilon= 0.25\n",
      "find_reasonable_epsilon= 0.25\n",
      "find_reasonable_epsilon= 0.25\n",
      "find_reasonable_epsilon= 0.25\n",
      "find_reasonable_epsilon= 0.25\n",
      "find_reasonable_epsilon= 0.25\n",
      "find_reasonable_epsilon= 0.25\n",
      "find_reasonable_epsilon= 0.25\n",
      "find_reasonable_epsilon= 0.25\n",
      "find_reasonable_epsilon= 0.25\n",
      "find_reasonable_epsilon= 0.25\n",
      "find_reasonable_epsilon= 0.125\n",
      "find_reasonable_epsilon= 0.25\n",
      "find_reasonable_epsilon= 0.25\n",
      "find_reasonable_epsilon= 0.25\n",
      "find_reasonable_epsilon= 0.25\n",
      "find_reasonable_epsilon= 0.125\n",
      "find_reasonable_epsilon= 0.25\n",
      "find_reasonable_epsilon= 0.25\n",
      "find_reasonable_epsilon= 0.25\n",
      "find_reasonable_epsilon= 0.25\n",
      "find_reasonable_epsilon= 0.25\n",
      "find_reasonable_epsilon= 0.25\n",
      "find_reasonable_epsilon= 0.25\n",
      "find_reasonable_epsilon= 0.25\n",
      "find_reasonable_epsilon= 0.25\n",
      "find_reasonable_epsilon= 0.25\n",
      "find_reasonable_epsilon= 0.25\n",
      "find_reasonable_epsilon= 0.25\n",
      "find_reasonable_epsilon= 0.25\n",
      "find_reasonable_epsilon= 0.25\n",
      "find_reasonable_epsilon= 0.125\n",
      "find_reasonable_epsilon= 0.25\n",
      "find_reasonable_epsilon= 0.25\n",
      "find_reasonable_epsilon= 0.25\n",
      "find_reasonable_epsilon= 0.25\n",
      "find_reasonable_epsilon= 0.25\n",
      "find_reasonable_epsilon= 0.25\n",
      "find_reasonable_epsilon= 0.25\n",
      "find_reasonable_epsilon= 0.25\n",
      "find_reasonable_epsilon= 0.25\n",
      "find_reasonable_epsilon= 0.125\n",
      "find_reasonable_epsilon= 0.25\n",
      "find_reasonable_epsilon= 0.125\n",
      "find_reasonable_epsilon= 0.25\n",
      "find_reasonable_epsilon= 0.25\n",
      "find_reasonable_epsilon= 0.25\n",
      "find_reasonable_epsilon= 0.125\n",
      "find_reasonable_epsilon= 0.125\n",
      "find_reasonable_epsilon= 0.25\n",
      "find_reasonable_epsilon= 0.25\n",
      "find_reasonable_epsilon= 0.25\n",
      "find_reasonable_epsilon= 0.25\n",
      "find_reasonable_epsilon= 0.25\n",
      "find_reasonable_epsilon= 0.25\n",
      "find_reasonable_epsilon= 0.25\n",
      "find_reasonable_epsilon= 0.25\n",
      "find_reasonable_epsilon= 0.25\n",
      "find_reasonable_epsilon= 0.25\n",
      "find_reasonable_epsilon= 0.125\n",
      "find_reasonable_epsilon= 0.25\n",
      "find_reasonable_epsilon= 0.25\n",
      "find_reasonable_epsilon= 0.25\n",
      "find_reasonable_epsilon= 0.25\n",
      "find_reasonable_epsilon= 0.25\n",
      "find_reasonable_epsilon= 0.25\n",
      "find_reasonable_epsilon= 0.25\n",
      "find_reasonable_epsilon= 0.25\n",
      "find_reasonable_epsilon= 0.25\n",
      "find_reasonable_epsilon= 0.25\n",
      "find_reasonable_epsilon= 0.25\n",
      "find_reasonable_epsilon= 0.25\n",
      "find_reasonable_epsilon= 0.125\n",
      "find_reasonable_epsilon= 0.125\n",
      "find_reasonable_epsilon= 0.25\n",
      "find_reasonable_epsilon= 0.125\n",
      "find_reasonable_epsilon= 0.25\n",
      "find_reasonable_epsilon= 0.25\n",
      "find_reasonable_epsilon= 0.25\n",
      "find_reasonable_epsilon= 0.25\n",
      "find_reasonable_epsilon= 0.25\n",
      "find_reasonable_epsilon= 0.125\n",
      "find_reasonable_epsilon= 0.25\n",
      "find_reasonable_epsilon= 0.25\n",
      "find_reasonable_epsilon= 0.125\n",
      "find_reasonable_epsilon= 0.25\n",
      "find_reasonable_epsilon= 0.25\n",
      "find_reasonable_epsilon= 0.25\n",
      "find_reasonable_epsilon= 0.125\n",
      "find_reasonable_epsilon= 0.25\n",
      "find_reasonable_epsilon= 0.25\n",
      "find_reasonable_epsilon= 0.25\n",
      "find_reasonable_epsilon= 0.125\n",
      "find_reasonable_epsilon= 0.125\n",
      "find_reasonable_epsilon= 0.125\n",
      "find_reasonable_epsilon= 0.25\n",
      "find_reasonable_epsilon= 0.25\n",
      "find_reasonable_epsilon= 0.25\n",
      "find_reasonable_epsilon= 0.25\n",
      "find_reasonable_epsilon= 0.25\n",
      "find_reasonable_epsilon= 0.25\n",
      "find_reasonable_epsilon= 0.25\n",
      "find_reasonable_epsilon= 0.25\n",
      "find_reasonable_epsilon= 0.25\n",
      "find_reasonable_epsilon= 0.125\n",
      "find_reasonable_epsilon= 0.25\n",
      "find_reasonable_epsilon= 0.25\n",
      "find_reasonable_epsilon= 0.25\n",
      "find_reasonable_epsilon= 0.25\n",
      "find_reasonable_epsilon= 0.25\n",
      "find_reasonable_epsilon= 0.25\n",
      "find_reasonable_epsilon= 0.25\n",
      "find_reasonable_epsilon= 0.125\n",
      "find_reasonable_epsilon= 0.25\n",
      "find_reasonable_epsilon= 0.25\n",
      "find_reasonable_epsilon= 0.25\n",
      "find_reasonable_epsilon= 0.25\n",
      "find_reasonable_epsilon= 0.25\n",
      "find_reasonable_epsilon= 0.125\n",
      "find_reasonable_epsilon= 0.25\n",
      "find_reasonable_epsilon= 0.25\n",
      "find_reasonable_epsilon= 0.125\n",
      "find_reasonable_epsilon= 0.25\n",
      "find_reasonable_epsilon= 0.25\n",
      "find_reasonable_epsilon= 0.125\n",
      "find_reasonable_epsilon= 0.125\n",
      "find_reasonable_epsilon= 0.25\n",
      "find_reasonable_epsilon= 0.25\n",
      "find_reasonable_epsilon= 0.25\n",
      "find_reasonable_epsilon= 0.25\n",
      "find_reasonable_epsilon= 0.25\n",
      "find_reasonable_epsilon= 0.25\n",
      "find_reasonable_epsilon= 0.25\n",
      "find_reasonable_epsilon= 0.125\n",
      "find_reasonable_epsilon= 0.25\n",
      "find_reasonable_epsilon= 0.125\n",
      "find_reasonable_epsilon= 0.25\n",
      "find_reasonable_epsilon= 0.25\n",
      "find_reasonable_epsilon= 0.25\n",
      "find_reasonable_epsilon= 0.25\n",
      "find_reasonable_epsilon= 0.125\n",
      "find_reasonable_epsilon= 0.25\n",
      "find_reasonable_epsilon= 0.25\n",
      "find_reasonable_epsilon= 0.25\n",
      "find_reasonable_epsilon= 0.25\n",
      "find_reasonable_epsilon= 0.25\n",
      "find_reasonable_epsilon= 0.25\n",
      "find_reasonable_epsilon= 0.25\n",
      "find_reasonable_epsilon= 0.25\n",
      "find_reasonable_epsilon= 0.25\n",
      "find_reasonable_epsilon= 0.125\n",
      "find_reasonable_epsilon= 0.25\n"
     ]
    },
    {
     "name": "stdout",
     "output_type": "stream",
     "text": [
      "find_reasonable_epsilon= 0.25\n",
      "find_reasonable_epsilon= 0.125\n",
      "find_reasonable_epsilon= 0.125\n",
      "find_reasonable_epsilon= 0.25\n",
      "find_reasonable_epsilon= 0.25\n",
      "find_reasonable_epsilon= 0.25\n",
      "find_reasonable_epsilon= 0.25\n",
      "find_reasonable_epsilon= 0.25\n",
      "find_reasonable_epsilon= 0.25\n",
      "find_reasonable_epsilon= 0.125\n",
      "find_reasonable_epsilon= 0.25\n",
      "find_reasonable_epsilon= 0.25\n",
      "find_reasonable_epsilon= 0.25\n",
      "find_reasonable_epsilon= 0.125\n",
      "find_reasonable_epsilon= 0.25\n",
      "find_reasonable_epsilon= 0.25\n",
      "find_reasonable_epsilon= 0.25\n",
      "find_reasonable_epsilon= 0.25\n",
      "find_reasonable_epsilon= 0.25\n",
      "find_reasonable_epsilon= 0.25\n",
      "find_reasonable_epsilon= 0.25\n",
      "find_reasonable_epsilon= 0.0625\n",
      "find_reasonable_epsilon= 0.25\n",
      "find_reasonable_epsilon= 0.25\n",
      "find_reasonable_epsilon= 0.25\n",
      "find_reasonable_epsilon= 0.125\n",
      "find_reasonable_epsilon= 0.25\n",
      "find_reasonable_epsilon= 0.25\n"
     ]
    }
   ],
   "source": [
    "m_convergence = m_sample_efficiency(scm_a, scm_a, [1, 2, 4, 8], repetitions=10)"
   ]
  },
  {
   "cell_type": "code",
   "execution_count": 86,
   "metadata": {
    "hidden": true
   },
   "outputs": [
    {
     "data": {
      "text/plain": [
       "<matplotlib.legend.Legend at 0x129829550>"
      ]
     },
     "execution_count": 86,
     "metadata": {},
     "output_type": "execute_result"
    },
    {
     "data": {
      "image/png": "[encoded data removed]",
      "text/plain": [
       "<Figure size 432x288 with 1 Axes>"
      ]
     },
     "metadata": {
      "needs_background": "light"
     },
     "output_type": "display_data"
    }
   ],
   "source": [
    "sns.set_context(\"notebook\")\n",
    "\n",
    "ax = sns.lineplot(x='nb_samples', y='ODist', ci=\"sd\", data=k_convergence, label='k', marker=\"o\", color=\"#63ACBE\")\n",
    "sns.lineplot(x='nb_samples', y='IDist', ci=\"sd\", ax=ax, data=l_convergence, label='l', marker=\"o\", color=\"#EE442F\")\n",
    "sns.lineplot(x='nb_samples', y='CDist', ci=\"sd\", data=m_convergence, ax=ax, label='m', marker=\"o\", color=\"#601A4A\")\n",
    "plt.xlabel('Number of samples (k)', fontsize=17)\n",
    "plt.ylabel(' Normalized Error', fontsize=17)\n",
    "\n",
    "ax.legend(fontsize='x-large')"
   ]
  },
  {
   "cell_type": "markdown",
   "metadata": {},
   "source": [
    "# Sensitivity Analysis"
   ]
  },
  {
   "cell_type": "markdown",
   "metadata": {},
   "source": [
    "### Helpers"
   ]
  },
  {
   "cell_type": "code",
   "execution_count": 14,
   "metadata": {},
   "outputs": [],
   "source": [
    "def perturbation(scm, epsilon):\n",
    "    new_model = copy.deepcopy(scm)\n",
    "    for m in new_model.mechanisms: \n",
    "        m.perturbate(epsilon)\n",
    "    return new_model"
   ]
  },
  {
   "cell_type": "code",
   "execution_count": 15,
   "metadata": {},
   "outputs": [],
   "source": [
    "def OD_sensitivity_analysis(scm, perturbations, K, repetitions):\n",
    "    data_points = []\n",
    "    for epsilon in perturbations:\n",
    "        perturbated_scm = perturbation(scm, epsilon)\n",
    "        for _ in range(repetitions):\n",
    "            d = ODist(scm, perturbated_scm, nb_samples=K, discrete=False)\n",
    "            data_points.append([epsilon, d])\n",
    "    max_d = max([d_ for _, d_ in data_points])\n",
    "    updated_data_points = [[eps, float(d / max_d)] for eps, d in data_points]\n",
    "    return DataFrame.from_records(updated_data_points, columns=['epsilon', 'ODist'])\n",
    "\n",
    "def ID_sensitivity_analysis(scm, perturbations, K, repetitions):\n",
    "    data_points = []\n",
    "    for epsilon in perturbations:\n",
    "        perturbated_scm = perturbation(scm, epsilon)\n",
    "        for _ in range(repetitions):\n",
    "            d = IDist(scm, perturbated_scm, nb_samples=K, discrete=False)\n",
    "            data_points.append([epsilon, d])\n",
    "    max_d = max([d_ for _, d_ in data_points])\n",
    "    updated_data_points = [[eps, float(d / max_d)] for eps, d in data_points]\n",
    "    return DataFrame.from_records(updated_data_points, columns=['epsilon', 'IDist'])\n",
    "\n",
    "def CD_sensitivity_analysis(scm, perturbations, X, K, repetitions):\n",
    "    data_points = []\n",
    "    for epsilon in perturbations:\n",
    "        print(epsilon)\n",
    "        perturbated_scm = perturbation(scm, epsilon)\n",
    "        for _ in range(repetitions):\n",
    "            d = CDist(scm, perturbated_scm, nb_samples_x=X, nb_samples_k=K)\n",
    "            data_points.append([epsilon, d])\n",
    "    max_d = max([d_ for _, d_ in data_points])\n",
    "    updated_data_points = [[eps, float(d / max_d)] for eps, d in data_points]\n",
    "    return DataFrame.from_records(updated_data_points, columns=['epsilon', 'CDist'])"
   ]
  },
  {
   "cell_type": "code",
   "execution_count": 16,
   "metadata": {},
   "outputs": [],
   "source": [
    "default_structure = {\n",
    "    'nb_nodes': 6,\n",
    "    'density': 0.3,  # 0.4 / (n ** 1.25 / 10)\n",
    "    'cycles': False,\n",
    "    'fraction_observed': 1\n",
    "}"
   ]
  },
  {
   "cell_type": "code",
   "execution_count": 17,
   "metadata": {},
   "outputs": [],
   "source": [
    "scm = sample_models.generate_linear_gaussian(default_structure, nb_models=1)"
   ]
  },
  {
   "cell_type": "code",
   "execution_count": 18,
   "metadata": {},
   "outputs": [],
   "source": [
    "OD_sensitivity = OD_sensitivity_analysis(scm, [0.01, 0.1, 0.5, 1], 1000, 10)"
   ]
  },
  {
   "cell_type": "code",
   "execution_count": 19,
   "metadata": {},
   "outputs": [],
   "source": [
    "ID_sensitivity = ID_sensitivity_analysis(scm, [0.01, 0.1, 0.5, 1], 500, 10)"
   ]
  },
  {
   "cell_type": "code",
   "execution_count": 20,
   "metadata": {},
   "outputs": [
    {
     "name": "stdout",
     "output_type": "stream",
     "text": [
      "find_reasonable_epsilon= 0.25\n",
      "find_reasonable_epsilon= 0.25\n",
      "find_reasonable_epsilon= 0.25\n",
      "find_reasonable_epsilon= 0.25\n",
      "find_reasonable_epsilon= 0.25\n",
      "find_reasonable_epsilon= 0.25\n",
      "find_reasonable_epsilon= 0.25\n",
      "find_reasonable_epsilon= 0.25\n",
      "find_reasonable_epsilon= 0.25\n",
      "find_reasonable_epsilon= 0.25\n",
      "find_reasonable_epsilon= 0.25\n",
      "find_reasonable_epsilon= 0.25\n",
      "find_reasonable_epsilon= 0.25\n",
      "find_reasonable_epsilon= 0.25\n",
      "find_reasonable_epsilon= 0.125\n",
      "find_reasonable_epsilon= 0.125\n",
      "find_reasonable_epsilon= 0.25\n",
      "find_reasonable_epsilon= 0.25\n",
      "find_reasonable_epsilon= 0.125\n",
      "find_reasonable_epsilon= 0.25\n",
      "find_reasonable_epsilon= 0.25\n",
      "find_reasonable_epsilon= 0.25\n",
      "find_reasonable_epsilon= 0.125\n",
      "find_reasonable_epsilon= 0.25\n",
      "find_reasonable_epsilon= 0.125\n",
      "find_reasonable_epsilon= 0.25\n",
      "find_reasonable_epsilon= 0.25\n",
      "find_reasonable_epsilon= 0.25\n",
      "find_reasonable_epsilon= 0.25\n",
      "find_reasonable_epsilon= 0.25\n",
      "find_reasonable_epsilon= 0.25\n",
      "find_reasonable_epsilon= 0.25\n",
      "find_reasonable_epsilon= 0.25\n",
      "find_reasonable_epsilon= 0.25\n",
      "find_reasonable_epsilon= 0.25\n",
      "find_reasonable_epsilon= 0.25\n",
      "find_reasonable_epsilon= 0.25\n",
      "find_reasonable_epsilon= 0.125\n",
      "find_reasonable_epsilon= 0.25\n",
      "find_reasonable_epsilon= 0.125\n",
      "find_reasonable_epsilon= 0.25\n",
      "find_reasonable_epsilon= 0.25\n",
      "find_reasonable_epsilon= 0.25\n",
      "find_reasonable_epsilon= 0.25\n"
     ]
    },
    {
     "name": "stderr",
     "output_type": "stream",
     "text": [
      "invalid value encountered in double_scalars\n"
     ]
    },
    {
     "name": "stdout",
     "output_type": "stream",
     "text": [
      "find_reasonable_epsilon= 0.25\n",
      "find_reasonable_epsilon= 0.25\n",
      "find_reasonable_epsilon= 0.125\n",
      "find_reasonable_epsilon= 0.25\n",
      "find_reasonable_epsilon= 0.25\n",
      "find_reasonable_epsilon= 0.25\n",
      "find_reasonable_epsilon= 0.25\n",
      "find_reasonable_epsilon= 0.25\n",
      "find_reasonable_epsilon= 0.25\n",
      "find_reasonable_epsilon= 0.25\n",
      "find_reasonable_epsilon= 0.25\n",
      "find_reasonable_epsilon= 0.25\n",
      "find_reasonable_epsilon= 0.03125\n",
      "find_reasonable_epsilon= 0.25\n",
      "find_reasonable_epsilon= 0.25\n",
      "find_reasonable_epsilon= 0.125\n",
      "find_reasonable_epsilon= 0.25\n",
      "find_reasonable_epsilon= 0.25\n",
      "find_reasonable_epsilon= 0.25\n",
      "find_reasonable_epsilon= 0.25\n",
      "find_reasonable_epsilon= 0.25\n",
      "find_reasonable_epsilon= 0.25\n",
      "find_reasonable_epsilon= 0.25\n",
      "find_reasonable_epsilon= 0.25\n",
      "find_reasonable_epsilon= 0.125\n",
      "find_reasonable_epsilon= 2.0\n",
      "find_reasonable_epsilon= 0.25\n",
      "find_reasonable_epsilon= 0.25\n",
      "find_reasonable_epsilon= 0.25\n",
      "find_reasonable_epsilon= 0.25\n",
      "find_reasonable_epsilon= 0.25\n",
      "find_reasonable_epsilon= 0.25\n",
      "find_reasonable_epsilon= 0.25\n",
      "find_reasonable_epsilon= 0.25\n",
      "find_reasonable_epsilon= 0.25\n",
      "find_reasonable_epsilon= 0.25\n",
      "find_reasonable_epsilon= 0.25\n",
      "find_reasonable_epsilon= 0.25\n",
      "find_reasonable_epsilon= 0.25\n",
      "find_reasonable_epsilon= 0.25\n",
      "find_reasonable_epsilon= 0.25\n",
      "find_reasonable_epsilon= 0.25\n",
      "find_reasonable_epsilon= 0.25\n",
      "find_reasonable_epsilon= 0.25\n",
      "find_reasonable_epsilon= 0.125\n",
      "find_reasonable_epsilon= 0.25\n",
      "find_reasonable_epsilon= 0.25\n",
      "find_reasonable_epsilon= 0.25\n",
      "find_reasonable_epsilon= 0.25\n",
      "find_reasonable_epsilon= 0.25\n",
      "find_reasonable_epsilon= 0.25\n",
      "find_reasonable_epsilon= 0.25\n",
      "find_reasonable_epsilon= 0.125\n",
      "find_reasonable_epsilon= 0.25\n",
      "find_reasonable_epsilon= 0.25\n",
      "find_reasonable_epsilon= 0.25\n",
      "find_reasonable_epsilon= 0.25\n",
      "find_reasonable_epsilon= 0.25\n",
      "find_reasonable_epsilon= 0.25\n",
      "find_reasonable_epsilon= 0.125\n",
      "find_reasonable_epsilon= 0.25\n",
      "find_reasonable_epsilon= 0.25\n",
      "find_reasonable_epsilon= 0.25\n",
      "find_reasonable_epsilon= 0.25\n",
      "find_reasonable_epsilon= 0.25\n",
      "find_reasonable_epsilon= 0.25\n",
      "find_reasonable_epsilon= 0.25\n",
      "find_reasonable_epsilon= 0.25\n",
      "find_reasonable_epsilon= 0.25\n",
      "find_reasonable_epsilon= 0.25\n",
      "find_reasonable_epsilon= 0.25\n",
      "find_reasonable_epsilon= 0.25\n",
      "find_reasonable_epsilon= 0.25\n",
      "find_reasonable_epsilon= 0.015625\n",
      "find_reasonable_epsilon= 0.25\n",
      "find_reasonable_epsilon= 0.25\n",
      "find_reasonable_epsilon= 0.25\n",
      "find_reasonable_epsilon= 0.25\n",
      "find_reasonable_epsilon= 0.25\n",
      "find_reasonable_epsilon= 0.125\n",
      "find_reasonable_epsilon= 0.125\n",
      "find_reasonable_epsilon= 0.125\n",
      "find_reasonable_epsilon= 0.25\n",
      "find_reasonable_epsilon= 0.25\n",
      "find_reasonable_epsilon= 0.125\n",
      "find_reasonable_epsilon= 0.25\n",
      "find_reasonable_epsilon= 0.25\n",
      "find_reasonable_epsilon= 0.25\n",
      "find_reasonable_epsilon= 0.25\n",
      "find_reasonable_epsilon= 0.25\n",
      "find_reasonable_epsilon= 0.25\n",
      "find_reasonable_epsilon= 0.25\n",
      "find_reasonable_epsilon= 0.125\n",
      "find_reasonable_epsilon= 0.25\n",
      "find_reasonable_epsilon= 0.25\n",
      "find_reasonable_epsilon= 0.25\n",
      "find_reasonable_epsilon= 0.25\n",
      "find_reasonable_epsilon= 0.25\n",
      "find_reasonable_epsilon= 0.25\n",
      "find_reasonable_epsilon= 0.25\n",
      "find_reasonable_epsilon= 0.25\n",
      "find_reasonable_epsilon= 0.25\n",
      "find_reasonable_epsilon= 0.25\n",
      "find_reasonable_epsilon= 0.25\n",
      "find_reasonable_epsilon= 0.25\n",
      "find_reasonable_epsilon= 0.03125\n",
      "find_reasonable_epsilon= 0.25\n",
      "find_reasonable_epsilon= 0.25\n",
      "find_reasonable_epsilon= 0.25\n",
      "find_reasonable_epsilon= 0.25\n",
      "find_reasonable_epsilon= 0.25\n",
      "find_reasonable_epsilon= 0.25\n",
      "find_reasonable_epsilon= 0.25\n",
      "find_reasonable_epsilon= 0.0625\n",
      "find_reasonable_epsilon= 0.25\n",
      "find_reasonable_epsilon= 0.25\n",
      "find_reasonable_epsilon= 0.125\n",
      "find_reasonable_epsilon= 0.25\n",
      "find_reasonable_epsilon= 0.25\n",
      "find_reasonable_epsilon= 0.25\n",
      "find_reasonable_epsilon= 0.25\n",
      "find_reasonable_epsilon= 0.125\n",
      "find_reasonable_epsilon= 0.03125\n",
      "find_reasonable_epsilon= 0.125\n",
      "find_reasonable_epsilon= 0.125\n",
      "find_reasonable_epsilon= 0.25\n",
      "find_reasonable_epsilon= 0.25\n",
      "find_reasonable_epsilon= 0.25\n",
      "find_reasonable_epsilon= 0.25\n",
      "find_reasonable_epsilon= 0.25\n",
      "find_reasonable_epsilon= 0.25\n",
      "find_reasonable_epsilon= 0.125\n",
      "find_reasonable_epsilon= 0.25\n",
      "find_reasonable_epsilon= 0.25\n",
      "find_reasonable_epsilon= 0.25\n",
      "find_reasonable_epsilon= 0.25\n",
      "find_reasonable_epsilon= 0.25\n",
      "find_reasonable_epsilon= 0.25\n",
      "find_reasonable_epsilon= 0.25\n",
      "find_reasonable_epsilon= 0.125\n",
      "find_reasonable_epsilon= 0.25\n",
      "find_reasonable_epsilon= 0.125\n",
      "find_reasonable_epsilon= 0.25\n",
      "find_reasonable_epsilon= 0.25\n",
      "find_reasonable_epsilon= 0.25\n",
      "find_reasonable_epsilon= 0.25\n",
      "find_reasonable_epsilon= 0.25\n",
      "find_reasonable_epsilon= 0.25\n",
      "find_reasonable_epsilon= 0.125\n",
      "find_reasonable_epsilon= 0.25\n",
      "find_reasonable_epsilon= 0.125\n",
      "find_reasonable_epsilon= 0.25\n",
      "find_reasonable_epsilon= 0.125\n",
      "find_reasonable_epsilon= 0.125\n",
      "find_reasonable_epsilon= 0.25\n",
      "find_reasonable_epsilon= 0.25\n",
      "find_reasonable_epsilon= 0.125\n",
      "find_reasonable_epsilon= 0.25\n",
      "find_reasonable_epsilon= 0.25\n",
      "find_reasonable_epsilon= 0.25\n",
      "find_reasonable_epsilon= 0.25\n",
      "find_reasonable_epsilon= 0.25\n",
      "find_reasonable_epsilon= 0.25\n",
      "find_reasonable_epsilon= 0.25\n",
      "find_reasonable_epsilon= 0.25\n",
      "find_reasonable_epsilon= 0.25\n",
      "find_reasonable_epsilon= 0.25\n",
      "find_reasonable_epsilon= 0.25\n",
      "find_reasonable_epsilon= 0.125\n",
      "find_reasonable_epsilon= 0.25\n",
      "find_reasonable_epsilon= 0.25\n",
      "find_reasonable_epsilon= 0.25\n",
      "find_reasonable_epsilon= 0.25\n",
      "find_reasonable_epsilon= 0.25\n",
      "find_reasonable_epsilon= 0.25\n",
      "find_reasonable_epsilon= 0.25\n",
      "find_reasonable_epsilon= 0.25\n",
      "find_reasonable_epsilon= 0.125\n",
      "find_reasonable_epsilon= 0.25\n",
      "find_reasonable_epsilon= 0.25\n",
      "find_reasonable_epsilon= 0.25\n",
      "find_reasonable_epsilon= 0.25\n",
      "find_reasonable_epsilon= 0.25\n",
      "find_reasonable_epsilon= 0.25\n",
      "find_reasonable_epsilon= 0.25\n",
      "find_reasonable_epsilon= 0.25\n",
      "find_reasonable_epsilon= 0.25\n",
      "find_reasonable_epsilon= 0.25\n",
      "find_reasonable_epsilon= 0.125\n",
      "find_reasonable_epsilon= 0.25\n",
      "find_reasonable_epsilon= 0.25\n",
      "find_reasonable_epsilon= 0.25\n",
      "find_reasonable_epsilon= 0.25\n",
      "find_reasonable_epsilon= 0.25\n",
      "find_reasonable_epsilon= 0.25\n",
      "find_reasonable_epsilon= 0.25\n",
      "find_reasonable_epsilon= 0.125\n",
      "find_reasonable_epsilon= 0.25\n",
      "find_reasonable_epsilon= 0.125\n",
      "find_reasonable_epsilon= 0.25\n",
      "find_reasonable_epsilon= 0.25\n",
      "find_reasonable_epsilon= 0.25\n",
      "find_reasonable_epsilon= 0.125\n",
      "find_reasonable_epsilon= 0.25\n",
      "find_reasonable_epsilon= 0.25\n",
      "find_reasonable_epsilon= 0.25\n",
      "find_reasonable_epsilon= 0.125\n",
      "find_reasonable_epsilon= 0.25\n",
      "find_reasonable_epsilon= 0.25\n",
      "find_reasonable_epsilon= 0.25\n",
      "find_reasonable_epsilon= 0.25\n",
      "find_reasonable_epsilon= 0.25\n",
      "find_reasonable_epsilon= 0.25\n",
      "find_reasonable_epsilon= 0.25\n",
      "find_reasonable_epsilon= 0.125\n",
      "find_reasonable_epsilon= 0.125\n",
      "find_reasonable_epsilon= 0.25\n",
      "find_reasonable_epsilon= 0.25\n",
      "find_reasonable_epsilon= 0.125\n",
      "find_reasonable_epsilon= 0.25\n",
      "find_reasonable_epsilon= 0.25\n",
      "find_reasonable_epsilon= 0.015625\n",
      "find_reasonable_epsilon= 0.25\n",
      "find_reasonable_epsilon= 0.25\n",
      "find_reasonable_epsilon= 0.25\n",
      "find_reasonable_epsilon= 0.125\n",
      "find_reasonable_epsilon= 0.25\n",
      "find_reasonable_epsilon= 0.25\n",
      "find_reasonable_epsilon= 0.25\n",
      "find_reasonable_epsilon= 0.25\n",
      "find_reasonable_epsilon= 0.25\n",
      "find_reasonable_epsilon= 0.25\n",
      "find_reasonable_epsilon= 0.0625\n",
      "find_reasonable_epsilon= 0.25\n",
      "find_reasonable_epsilon= 0.125\n",
      "find_reasonable_epsilon= 0.25\n",
      "find_reasonable_epsilon= 0.25\n",
      "find_reasonable_epsilon= 0.25\n",
      "find_reasonable_epsilon= 0.125\n",
      "find_reasonable_epsilon= 0.125\n",
      "find_reasonable_epsilon= 0.25\n",
      "find_reasonable_epsilon= 0.125\n",
      "find_reasonable_epsilon= 0.25\n",
      "find_reasonable_epsilon= 0.25\n",
      "find_reasonable_epsilon= 0.125\n",
      "find_reasonable_epsilon= 0.25\n",
      "find_reasonable_epsilon= 0.25\n",
      "find_reasonable_epsilon= 0.25\n",
      "find_reasonable_epsilon= 0.25\n",
      "find_reasonable_epsilon= 0.25\n",
      "find_reasonable_epsilon= 0.25\n",
      "find_reasonable_epsilon= 0.125\n",
      "find_reasonable_epsilon= 0.25\n",
      "find_reasonable_epsilon= 0.25\n",
      "find_reasonable_epsilon= 0.25\n",
      "find_reasonable_epsilon= 0.25\n",
      "find_reasonable_epsilon= 0.25\n",
      "find_reasonable_epsilon= 0.25\n",
      "find_reasonable_epsilon= 0.25\n",
      "find_reasonable_epsilon= 0.25\n",
      "find_reasonable_epsilon= 0.125\n",
      "find_reasonable_epsilon= 0.125\n",
      "find_reasonable_epsilon= 0.25\n",
      "find_reasonable_epsilon= 0.25\n",
      "find_reasonable_epsilon= 0.25\n",
      "find_reasonable_epsilon= 0.125\n",
      "find_reasonable_epsilon= 0.25\n",
      "find_reasonable_epsilon= 0.25\n",
      "find_reasonable_epsilon= 0.25\n",
      "find_reasonable_epsilon= 0.25\n",
      "find_reasonable_epsilon= 0.25\n"
     ]
    },
    {
     "name": "stdout",
     "output_type": "stream",
     "text": [
      "find_reasonable_epsilon= 0.25\n",
      "find_reasonable_epsilon= 0.25\n",
      "find_reasonable_epsilon= 0.125\n",
      "find_reasonable_epsilon= 0.25\n",
      "find_reasonable_epsilon= 0.25\n",
      "find_reasonable_epsilon= 0.25\n",
      "find_reasonable_epsilon= 0.25\n"
     ]
    },
    {
     "ename": "KeyboardInterrupt",
     "evalue": "",
     "output_type": "error",
     "traceback": [
      "\u001b[0;31m---------------------------------------------------------------------------\u001b[0m",
      "\u001b[0;31mKeyboardInterrupt\u001b[0m                         Traceback (most recent call last)",
      "\u001b[0;32m<ipython-input-20-b468f053daf5>\u001b[0m in \u001b[0;36m<module>\u001b[0;34m\u001b[0m\n\u001b[0;32m----> 1\u001b[0;31m \u001b[0mCD_sensitivity\u001b[0m \u001b[0;34m=\u001b[0m \u001b[0mCD_sensitivity_analysis\u001b[0m\u001b[0;34m(\u001b[0m\u001b[0mscm\u001b[0m\u001b[0;34m,\u001b[0m \u001b[0;34m[\u001b[0m\u001b[0;36m0.01\u001b[0m\u001b[0;34m,\u001b[0m \u001b[0;36m0.1\u001b[0m\u001b[0;34m,\u001b[0m \u001b[0;36m1\u001b[0m\u001b[0;34m]\u001b[0m\u001b[0;34m,\u001b[0m \u001b[0mX\u001b[0m\u001b[0;34m=\u001b[0m\u001b[0;36m500\u001b[0m\u001b[0;34m,\u001b[0m \u001b[0mK\u001b[0m\u001b[0;34m=\u001b[0m\u001b[0;36m1\u001b[0m\u001b[0;34m,\u001b[0m \u001b[0mrepetitions\u001b[0m\u001b[0;34m=\u001b[0m\u001b[0;36m3\u001b[0m\u001b[0;34m)\u001b[0m\u001b[0;34m\u001b[0m\u001b[0;34m\u001b[0m\u001b[0m\n\u001b[0m",
      "\u001b[0;32m<ipython-input-15-c666ce40e7cc>\u001b[0m in \u001b[0;36mCD_sensitivity_analysis\u001b[0;34m(scm, perturbations, X, K, repetitions)\u001b[0m\n\u001b[1;32m     26\u001b[0m         \u001b[0mperturbated_scm\u001b[0m \u001b[0;34m=\u001b[0m \u001b[0mperturbation\u001b[0m\u001b[0;34m(\u001b[0m\u001b[0mscm\u001b[0m\u001b[0;34m,\u001b[0m \u001b[0mepsilon\u001b[0m\u001b[0;34m)\u001b[0m\u001b[0;34m\u001b[0m\u001b[0;34m\u001b[0m\u001b[0m\n\u001b[1;32m     27\u001b[0m         \u001b[0;32mfor\u001b[0m \u001b[0m_\u001b[0m \u001b[0;32min\u001b[0m \u001b[0mrange\u001b[0m\u001b[0;34m(\u001b[0m\u001b[0mrepetitions\u001b[0m\u001b[0;34m)\u001b[0m\u001b[0;34m:\u001b[0m\u001b[0;34m\u001b[0m\u001b[0;34m\u001b[0m\u001b[0m\n\u001b[0;32m---> 28\u001b[0;31m             \u001b[0md\u001b[0m \u001b[0;34m=\u001b[0m \u001b[0mCDist\u001b[0m\u001b[0;34m(\u001b[0m\u001b[0mscm\u001b[0m\u001b[0;34m,\u001b[0m \u001b[0mperturbated_scm\u001b[0m\u001b[0;34m,\u001b[0m \u001b[0mnb_samples_x\u001b[0m\u001b[0;34m=\u001b[0m\u001b[0mX\u001b[0m\u001b[0;34m,\u001b[0m \u001b[0mnb_samples_k\u001b[0m\u001b[0;34m=\u001b[0m\u001b[0mK\u001b[0m\u001b[0;34m)\u001b[0m\u001b[0;34m\u001b[0m\u001b[0;34m\u001b[0m\u001b[0m\n\u001b[0m\u001b[1;32m     29\u001b[0m             \u001b[0mdata_points\u001b[0m\u001b[0;34m.\u001b[0m\u001b[0mappend\u001b[0m\u001b[0;34m(\u001b[0m\u001b[0;34m[\u001b[0m\u001b[0mepsilon\u001b[0m\u001b[0;34m,\u001b[0m \u001b[0md\u001b[0m\u001b[0;34m]\u001b[0m\u001b[0;34m)\u001b[0m\u001b[0;34m\u001b[0m\u001b[0;34m\u001b[0m\u001b[0m\n\u001b[1;32m     30\u001b[0m     \u001b[0mmax_d\u001b[0m \u001b[0;34m=\u001b[0m \u001b[0mmax\u001b[0m\u001b[0;34m(\u001b[0m\u001b[0;34m[\u001b[0m\u001b[0md_\u001b[0m \u001b[0;32mfor\u001b[0m \u001b[0m_\u001b[0m\u001b[0;34m,\u001b[0m \u001b[0md_\u001b[0m \u001b[0;32min\u001b[0m \u001b[0mdata_points\u001b[0m\u001b[0;34m]\u001b[0m\u001b[0;34m)\u001b[0m\u001b[0;34m\u001b[0m\u001b[0;34m\u001b[0m\u001b[0m\n",
      "\u001b[0;32m~/Documents/CausalModel/CMD.py\u001b[0m in \u001b[0;36mCDist\u001b[0;34m(scm_a, scm_b, nb_samples_x, nb_samples_k, discrete)\u001b[0m\n\u001b[1;32m    241\u001b[0m         \u001b[0;31m#print(\"Creating noise\")\u001b[0m\u001b[0;34m\u001b[0m\u001b[0;34m\u001b[0m\u001b[0;34m\u001b[0m\u001b[0m\n\u001b[1;32m    242\u001b[0m         \u001b[0ma_samples\u001b[0m \u001b[0;34m=\u001b[0m \u001b[0mcf_a\u001b[0m\u001b[0;34m.\u001b[0m\u001b[0msample\u001b[0m\u001b[0;34m(\u001b[0m\u001b[0mx\u001b[0m\u001b[0;34m,\u001b[0m \u001b[0mM\u001b[0m\u001b[0;34m=\u001b[0m\u001b[0mnb_samples_k\u001b[0m\u001b[0;34m,\u001b[0m \u001b[0mMadapt\u001b[0m\u001b[0;34m=\u001b[0m\u001b[0;36m200\u001b[0m\u001b[0;34m)\u001b[0m\u001b[0;34m\u001b[0m\u001b[0;34m\u001b[0m\u001b[0m\n\u001b[0;32m--> 243\u001b[0;31m         \u001b[0mb_samples\u001b[0m \u001b[0;34m=\u001b[0m \u001b[0mcf_b\u001b[0m\u001b[0;34m.\u001b[0m\u001b[0msample\u001b[0m\u001b[0;34m(\u001b[0m\u001b[0mx\u001b[0m\u001b[0;34m,\u001b[0m \u001b[0mM\u001b[0m\u001b[0;34m=\u001b[0m\u001b[0mnb_samples_k\u001b[0m\u001b[0;34m,\u001b[0m \u001b[0mMadapt\u001b[0m\u001b[0;34m=\u001b[0m\u001b[0;36m200\u001b[0m\u001b[0;34m)\u001b[0m\u001b[0;34m\u001b[0m\u001b[0;34m\u001b[0m\u001b[0m\n\u001b[0m\u001b[1;32m    244\u001b[0m \u001b[0;34m\u001b[0m\u001b[0m\n\u001b[1;32m    245\u001b[0m         \u001b[0mcounterfactual_scm_a\u001b[0m\u001b[0;34m.\u001b[0m\u001b[0mnoises_distribution\u001b[0m \u001b[0;34m=\u001b[0m \u001b[0mCounterfactualNoise\u001b[0m\u001b[0;34m(\u001b[0m\u001b[0ma_samples\u001b[0m\u001b[0;34m,\u001b[0m \u001b[0mx\u001b[0m\u001b[0;34m,\u001b[0m \u001b[0mnb_samples_k\u001b[0m\u001b[0;34m)\u001b[0m\u001b[0;34m\u001b[0m\u001b[0;34m\u001b[0m\u001b[0m\n",
      "\u001b[0;32m/usr/local/lib/python3.7/site-packages/nuts-1.0-py3.7.egg/nuts/emcee_nuts.py\u001b[0m in \u001b[0;36msample\u001b[0;34m(self, pos0, M, Madapt, delta, **kwargs)\u001b[0m\n\u001b[1;32m     83\u001b[0m     \u001b[0;32mdef\u001b[0m \u001b[0msample\u001b[0m\u001b[0;34m(\u001b[0m\u001b[0mself\u001b[0m\u001b[0;34m,\u001b[0m \u001b[0mpos0\u001b[0m\u001b[0;34m,\u001b[0m \u001b[0mM\u001b[0m\u001b[0;34m,\u001b[0m \u001b[0mMadapt\u001b[0m\u001b[0;34m,\u001b[0m \u001b[0mdelta\u001b[0m\u001b[0;34m=\u001b[0m\u001b[0;36m0.6\u001b[0m\u001b[0;34m,\u001b[0m \u001b[0;34m**\u001b[0m\u001b[0mkwargs\u001b[0m\u001b[0;34m)\u001b[0m\u001b[0;34m:\u001b[0m\u001b[0;34m\u001b[0m\u001b[0;34m\u001b[0m\u001b[0m\n\u001b[1;32m     84\u001b[0m         \u001b[0;34m\"\"\" Runs NUTS6 \"\"\"\u001b[0m\u001b[0;34m\u001b[0m\u001b[0;34m\u001b[0m\u001b[0m\n\u001b[0;32m---> 85\u001b[0;31m         \u001b[0msamples\u001b[0m\u001b[0;34m,\u001b[0m \u001b[0mlnprob\u001b[0m\u001b[0;34m,\u001b[0m \u001b[0mepsilon\u001b[0m \u001b[0;34m=\u001b[0m \u001b[0mnuts6\u001b[0m\u001b[0;34m(\u001b[0m\u001b[0mself\u001b[0m\u001b[0;34m.\u001b[0m\u001b[0m_sample_fn\u001b[0m\u001b[0;34m,\u001b[0m \u001b[0mM\u001b[0m\u001b[0;34m,\u001b[0m \u001b[0mMadapt\u001b[0m\u001b[0;34m,\u001b[0m \u001b[0mpos0\u001b[0m\u001b[0;34m,\u001b[0m \u001b[0mdelta\u001b[0m\u001b[0;34m)\u001b[0m\u001b[0;34m\u001b[0m\u001b[0;34m\u001b[0m\u001b[0m\n\u001b[0m\u001b[1;32m     86\u001b[0m         \u001b[0mself\u001b[0m\u001b[0;34m.\u001b[0m\u001b[0m_chain\u001b[0m \u001b[0;34m=\u001b[0m \u001b[0msamples\u001b[0m\u001b[0;34m\u001b[0m\u001b[0;34m\u001b[0m\u001b[0m\n\u001b[1;32m     87\u001b[0m         \u001b[0mself\u001b[0m\u001b[0;34m.\u001b[0m\u001b[0m_lnprob\u001b[0m \u001b[0;34m=\u001b[0m \u001b[0mlnprob\u001b[0m\u001b[0;34m\u001b[0m\u001b[0;34m\u001b[0m\u001b[0m\n",
      "\u001b[0;32m/usr/local/lib/python3.7/site-packages/nuts-1.0-py3.7.egg/nuts/nuts.py\u001b[0m in \u001b[0;36mnuts6\u001b[0;34m(f, M, Madapt, theta0, delta)\u001b[0m\n\u001b[1;32m    304\u001b[0m             \u001b[0;31m# Double the size of the tree.\u001b[0m\u001b[0;34m\u001b[0m\u001b[0;34m\u001b[0m\u001b[0;34m\u001b[0m\u001b[0m\n\u001b[1;32m    305\u001b[0m             \u001b[0;32mif\u001b[0m \u001b[0;34m(\u001b[0m\u001b[0mv\u001b[0m \u001b[0;34m==\u001b[0m \u001b[0;34m-\u001b[0m\u001b[0;36m1\u001b[0m\u001b[0;34m)\u001b[0m\u001b[0;34m:\u001b[0m\u001b[0;34m\u001b[0m\u001b[0;34m\u001b[0m\u001b[0m\n\u001b[0;32m--> 306\u001b[0;31m                 \u001b[0mthetaminus\u001b[0m\u001b[0;34m,\u001b[0m \u001b[0mrminus\u001b[0m\u001b[0;34m,\u001b[0m \u001b[0mgradminus\u001b[0m\u001b[0;34m,\u001b[0m \u001b[0m_\u001b[0m\u001b[0;34m,\u001b[0m \u001b[0m_\u001b[0m\u001b[0;34m,\u001b[0m \u001b[0m_\u001b[0m\u001b[0;34m,\u001b[0m \u001b[0mthetaprime\u001b[0m\u001b[0;34m,\u001b[0m \u001b[0mgradprime\u001b[0m\u001b[0;34m,\u001b[0m \u001b[0mlogpprime\u001b[0m\u001b[0;34m,\u001b[0m \u001b[0mnprime\u001b[0m\u001b[0;34m,\u001b[0m \u001b[0msprime\u001b[0m\u001b[0;34m,\u001b[0m \u001b[0malpha\u001b[0m\u001b[0;34m,\u001b[0m \u001b[0mnalpha\u001b[0m \u001b[0;34m=\u001b[0m \u001b[0mbuild_tree\u001b[0m\u001b[0;34m(\u001b[0m\u001b[0mthetaminus\u001b[0m\u001b[0;34m,\u001b[0m \u001b[0mrminus\u001b[0m\u001b[0;34m,\u001b[0m \u001b[0mgradminus\u001b[0m\u001b[0;34m,\u001b[0m \u001b[0mlogu\u001b[0m\u001b[0;34m,\u001b[0m \u001b[0mv\u001b[0m\u001b[0;34m,\u001b[0m \u001b[0mj\u001b[0m\u001b[0;34m,\u001b[0m \u001b[0mepsilon\u001b[0m\u001b[0;34m,\u001b[0m \u001b[0mf\u001b[0m\u001b[0;34m,\u001b[0m \u001b[0mjoint\u001b[0m\u001b[0;34m)\u001b[0m\u001b[0;34m\u001b[0m\u001b[0;34m\u001b[0m\u001b[0m\n\u001b[0m\u001b[1;32m    307\u001b[0m             \u001b[0;32melse\u001b[0m\u001b[0;34m:\u001b[0m\u001b[0;34m\u001b[0m\u001b[0;34m\u001b[0m\u001b[0m\n\u001b[1;32m    308\u001b[0m                 \u001b[0m_\u001b[0m\u001b[0;34m,\u001b[0m \u001b[0m_\u001b[0m\u001b[0;34m,\u001b[0m \u001b[0m_\u001b[0m\u001b[0;34m,\u001b[0m \u001b[0mthetaplus\u001b[0m\u001b[0;34m,\u001b[0m \u001b[0mrplus\u001b[0m\u001b[0;34m,\u001b[0m \u001b[0mgradplus\u001b[0m\u001b[0;34m,\u001b[0m \u001b[0mthetaprime\u001b[0m\u001b[0;34m,\u001b[0m \u001b[0mgradprime\u001b[0m\u001b[0;34m,\u001b[0m \u001b[0mlogpprime\u001b[0m\u001b[0;34m,\u001b[0m \u001b[0mnprime\u001b[0m\u001b[0;34m,\u001b[0m \u001b[0msprime\u001b[0m\u001b[0;34m,\u001b[0m \u001b[0malpha\u001b[0m\u001b[0;34m,\u001b[0m \u001b[0mnalpha\u001b[0m \u001b[0;34m=\u001b[0m \u001b[0mbuild_tree\u001b[0m\u001b[0;34m(\u001b[0m\u001b[0mthetaplus\u001b[0m\u001b[0;34m,\u001b[0m \u001b[0mrplus\u001b[0m\u001b[0;34m,\u001b[0m \u001b[0mgradplus\u001b[0m\u001b[0;34m,\u001b[0m \u001b[0mlogu\u001b[0m\u001b[0;34m,\u001b[0m \u001b[0mv\u001b[0m\u001b[0;34m,\u001b[0m \u001b[0mj\u001b[0m\u001b[0;34m,\u001b[0m \u001b[0mepsilon\u001b[0m\u001b[0;34m,\u001b[0m \u001b[0mf\u001b[0m\u001b[0;34m,\u001b[0m \u001b[0mjoint\u001b[0m\u001b[0;34m)\u001b[0m\u001b[0;34m\u001b[0m\u001b[0;34m\u001b[0m\u001b[0m\n",
      "\u001b[0;32m/usr/local/lib/python3.7/site-packages/nuts-1.0-py3.7.egg/nuts/nuts.py\u001b[0m in \u001b[0;36mbuild_tree\u001b[0;34m(theta, r, grad, logu, v, j, epsilon, f, joint0)\u001b[0m\n\u001b[1;32m    184\u001b[0m         \u001b[0;32mif\u001b[0m \u001b[0;34m(\u001b[0m\u001b[0msprime\u001b[0m \u001b[0;34m==\u001b[0m \u001b[0;36m1\u001b[0m\u001b[0;34m)\u001b[0m\u001b[0;34m:\u001b[0m\u001b[0;34m\u001b[0m\u001b[0;34m\u001b[0m\u001b[0m\n\u001b[1;32m    185\u001b[0m             \u001b[0;32mif\u001b[0m \u001b[0;34m(\u001b[0m\u001b[0mv\u001b[0m \u001b[0;34m==\u001b[0m \u001b[0;34m-\u001b[0m\u001b[0;36m1\u001b[0m\u001b[0;34m)\u001b[0m\u001b[0;34m:\u001b[0m\u001b[0;34m\u001b[0m\u001b[0;34m\u001b[0m\u001b[0m\n\u001b[0;32m--> 186\u001b[0;31m                 \u001b[0mthetaminus\u001b[0m\u001b[0;34m,\u001b[0m \u001b[0mrminus\u001b[0m\u001b[0;34m,\u001b[0m \u001b[0mgradminus\u001b[0m\u001b[0;34m,\u001b[0m \u001b[0m_\u001b[0m\u001b[0;34m,\u001b[0m \u001b[0m_\u001b[0m\u001b[0;34m,\u001b[0m \u001b[0m_\u001b[0m\u001b[0;34m,\u001b[0m \u001b[0mthetaprime2\u001b[0m\u001b[0;34m,\u001b[0m \u001b[0mgradprime2\u001b[0m\u001b[0;34m,\u001b[0m \u001b[0mlogpprime2\u001b[0m\u001b[0;34m,\u001b[0m \u001b[0mnprime2\u001b[0m\u001b[0;34m,\u001b[0m \u001b[0msprime2\u001b[0m\u001b[0;34m,\u001b[0m \u001b[0malphaprime2\u001b[0m\u001b[0;34m,\u001b[0m \u001b[0mnalphaprime2\u001b[0m \u001b[0;34m=\u001b[0m \u001b[0mbuild_tree\u001b[0m\u001b[0;34m(\u001b[0m\u001b[0mthetaminus\u001b[0m\u001b[0;34m,\u001b[0m \u001b[0mrminus\u001b[0m\u001b[0;34m,\u001b[0m \u001b[0mgradminus\u001b[0m\u001b[0;34m,\u001b[0m \u001b[0mlogu\u001b[0m\u001b[0;34m,\u001b[0m \u001b[0mv\u001b[0m\u001b[0;34m,\u001b[0m \u001b[0mj\u001b[0m \u001b[0;34m-\u001b[0m \u001b[0;36m1\u001b[0m\u001b[0;34m,\u001b[0m \u001b[0mepsilon\u001b[0m\u001b[0;34m,\u001b[0m \u001b[0mf\u001b[0m\u001b[0;34m,\u001b[0m \u001b[0mjoint0\u001b[0m\u001b[0;34m)\u001b[0m\u001b[0;34m\u001b[0m\u001b[0;34m\u001b[0m\u001b[0m\n\u001b[0m\u001b[1;32m    187\u001b[0m             \u001b[0;32melse\u001b[0m\u001b[0;34m:\u001b[0m\u001b[0;34m\u001b[0m\u001b[0;34m\u001b[0m\u001b[0m\n\u001b[1;32m    188\u001b[0m                 \u001b[0m_\u001b[0m\u001b[0;34m,\u001b[0m \u001b[0m_\u001b[0m\u001b[0;34m,\u001b[0m \u001b[0m_\u001b[0m\u001b[0;34m,\u001b[0m \u001b[0mthetaplus\u001b[0m\u001b[0;34m,\u001b[0m \u001b[0mrplus\u001b[0m\u001b[0;34m,\u001b[0m \u001b[0mgradplus\u001b[0m\u001b[0;34m,\u001b[0m \u001b[0mthetaprime2\u001b[0m\u001b[0;34m,\u001b[0m \u001b[0mgradprime2\u001b[0m\u001b[0;34m,\u001b[0m \u001b[0mlogpprime2\u001b[0m\u001b[0;34m,\u001b[0m \u001b[0mnprime2\u001b[0m\u001b[0;34m,\u001b[0m \u001b[0msprime2\u001b[0m\u001b[0;34m,\u001b[0m \u001b[0malphaprime2\u001b[0m\u001b[0;34m,\u001b[0m \u001b[0mnalphaprime2\u001b[0m \u001b[0;34m=\u001b[0m \u001b[0mbuild_tree\u001b[0m\u001b[0;34m(\u001b[0m\u001b[0mthetaplus\u001b[0m\u001b[0;34m,\u001b[0m \u001b[0mrplus\u001b[0m\u001b[0;34m,\u001b[0m \u001b[0mgradplus\u001b[0m\u001b[0;34m,\u001b[0m \u001b[0mlogu\u001b[0m\u001b[0;34m,\u001b[0m \u001b[0mv\u001b[0m\u001b[0;34m,\u001b[0m \u001b[0mj\u001b[0m \u001b[0;34m-\u001b[0m \u001b[0;36m1\u001b[0m\u001b[0;34m,\u001b[0m \u001b[0mepsilon\u001b[0m\u001b[0;34m,\u001b[0m \u001b[0mf\u001b[0m\u001b[0;34m,\u001b[0m \u001b[0mjoint0\u001b[0m\u001b[0;34m)\u001b[0m\u001b[0;34m\u001b[0m\u001b[0;34m\u001b[0m\u001b[0m\n",
      "\u001b[0;32m/usr/local/lib/python3.7/site-packages/nuts-1.0-py3.7.egg/nuts/nuts.py\u001b[0m in \u001b[0;36mbuild_tree\u001b[0;34m(theta, r, grad, logu, v, j, epsilon, f, joint0)\u001b[0m\n\u001b[1;32m    180\u001b[0m     \u001b[0;32melse\u001b[0m\u001b[0;34m:\u001b[0m\u001b[0;34m\u001b[0m\u001b[0;34m\u001b[0m\u001b[0m\n\u001b[1;32m    181\u001b[0m         \u001b[0;31m# Recursion: Implicitly build the height j-1 left and right subtrees.\u001b[0m\u001b[0;34m\u001b[0m\u001b[0;34m\u001b[0m\u001b[0;34m\u001b[0m\u001b[0m\n\u001b[0;32m--> 182\u001b[0;31m         \u001b[0mthetaminus\u001b[0m\u001b[0;34m,\u001b[0m \u001b[0mrminus\u001b[0m\u001b[0;34m,\u001b[0m \u001b[0mgradminus\u001b[0m\u001b[0;34m,\u001b[0m \u001b[0mthetaplus\u001b[0m\u001b[0;34m,\u001b[0m \u001b[0mrplus\u001b[0m\u001b[0;34m,\u001b[0m \u001b[0mgradplus\u001b[0m\u001b[0;34m,\u001b[0m \u001b[0mthetaprime\u001b[0m\u001b[0;34m,\u001b[0m \u001b[0mgradprime\u001b[0m\u001b[0;34m,\u001b[0m \u001b[0mlogpprime\u001b[0m\u001b[0;34m,\u001b[0m \u001b[0mnprime\u001b[0m\u001b[0;34m,\u001b[0m \u001b[0msprime\u001b[0m\u001b[0;34m,\u001b[0m \u001b[0malphaprime\u001b[0m\u001b[0;34m,\u001b[0m \u001b[0mnalphaprime\u001b[0m \u001b[0;34m=\u001b[0m \u001b[0mbuild_tree\u001b[0m\u001b[0;34m(\u001b[0m\u001b[0mtheta\u001b[0m\u001b[0;34m,\u001b[0m \u001b[0mr\u001b[0m\u001b[0;34m,\u001b[0m \u001b[0mgrad\u001b[0m\u001b[0;34m,\u001b[0m \u001b[0mlogu\u001b[0m\u001b[0;34m,\u001b[0m \u001b[0mv\u001b[0m\u001b[0;34m,\u001b[0m \u001b[0mj\u001b[0m \u001b[0;34m-\u001b[0m \u001b[0;36m1\u001b[0m\u001b[0;34m,\u001b[0m \u001b[0mepsilon\u001b[0m\u001b[0;34m,\u001b[0m \u001b[0mf\u001b[0m\u001b[0;34m,\u001b[0m \u001b[0mjoint0\u001b[0m\u001b[0;34m)\u001b[0m\u001b[0;34m\u001b[0m\u001b[0;34m\u001b[0m\u001b[0m\n\u001b[0m\u001b[1;32m    183\u001b[0m         \u001b[0;31m# No need to keep going if the stopping criteria were met in the first subtree.\u001b[0m\u001b[0;34m\u001b[0m\u001b[0;34m\u001b[0m\u001b[0;34m\u001b[0m\u001b[0m\n\u001b[1;32m    184\u001b[0m         \u001b[0;32mif\u001b[0m \u001b[0;34m(\u001b[0m\u001b[0msprime\u001b[0m \u001b[0;34m==\u001b[0m \u001b[0;36m1\u001b[0m\u001b[0;34m)\u001b[0m\u001b[0;34m:\u001b[0m\u001b[0;34m\u001b[0m\u001b[0;34m\u001b[0m\u001b[0m\n",
      "\u001b[0;32m/usr/local/lib/python3.7/site-packages/nuts-1.0-py3.7.egg/nuts/nuts.py\u001b[0m in \u001b[0;36mbuild_tree\u001b[0;34m(theta, r, grad, logu, v, j, epsilon, f, joint0)\u001b[0m\n\u001b[1;32m    180\u001b[0m     \u001b[0;32melse\u001b[0m\u001b[0;34m:\u001b[0m\u001b[0;34m\u001b[0m\u001b[0;34m\u001b[0m\u001b[0m\n\u001b[1;32m    181\u001b[0m         \u001b[0;31m# Recursion: Implicitly build the height j-1 left and right subtrees.\u001b[0m\u001b[0;34m\u001b[0m\u001b[0;34m\u001b[0m\u001b[0;34m\u001b[0m\u001b[0m\n\u001b[0;32m--> 182\u001b[0;31m         \u001b[0mthetaminus\u001b[0m\u001b[0;34m,\u001b[0m \u001b[0mrminus\u001b[0m\u001b[0;34m,\u001b[0m \u001b[0mgradminus\u001b[0m\u001b[0;34m,\u001b[0m \u001b[0mthetaplus\u001b[0m\u001b[0;34m,\u001b[0m \u001b[0mrplus\u001b[0m\u001b[0;34m,\u001b[0m \u001b[0mgradplus\u001b[0m\u001b[0;34m,\u001b[0m \u001b[0mthetaprime\u001b[0m\u001b[0;34m,\u001b[0m \u001b[0mgradprime\u001b[0m\u001b[0;34m,\u001b[0m \u001b[0mlogpprime\u001b[0m\u001b[0;34m,\u001b[0m \u001b[0mnprime\u001b[0m\u001b[0;34m,\u001b[0m \u001b[0msprime\u001b[0m\u001b[0;34m,\u001b[0m \u001b[0malphaprime\u001b[0m\u001b[0;34m,\u001b[0m \u001b[0mnalphaprime\u001b[0m \u001b[0;34m=\u001b[0m \u001b[0mbuild_tree\u001b[0m\u001b[0;34m(\u001b[0m\u001b[0mtheta\u001b[0m\u001b[0;34m,\u001b[0m \u001b[0mr\u001b[0m\u001b[0;34m,\u001b[0m \u001b[0mgrad\u001b[0m\u001b[0;34m,\u001b[0m \u001b[0mlogu\u001b[0m\u001b[0;34m,\u001b[0m \u001b[0mv\u001b[0m\u001b[0;34m,\u001b[0m \u001b[0mj\u001b[0m \u001b[0;34m-\u001b[0m \u001b[0;36m1\u001b[0m\u001b[0;34m,\u001b[0m \u001b[0mepsilon\u001b[0m\u001b[0;34m,\u001b[0m \u001b[0mf\u001b[0m\u001b[0;34m,\u001b[0m \u001b[0mjoint0\u001b[0m\u001b[0;34m)\u001b[0m\u001b[0;34m\u001b[0m\u001b[0;34m\u001b[0m\u001b[0m\n\u001b[0m\u001b[1;32m    183\u001b[0m         \u001b[0;31m# No need to keep going if the stopping criteria were met in the first subtree.\u001b[0m\u001b[0;34m\u001b[0m\u001b[0;34m\u001b[0m\u001b[0;34m\u001b[0m\u001b[0m\n\u001b[1;32m    184\u001b[0m         \u001b[0;32mif\u001b[0m \u001b[0;34m(\u001b[0m\u001b[0msprime\u001b[0m \u001b[0;34m==\u001b[0m \u001b[0;36m1\u001b[0m\u001b[0;34m)\u001b[0m\u001b[0;34m:\u001b[0m\u001b[0;34m\u001b[0m\u001b[0;34m\u001b[0m\u001b[0m\n",
      "\u001b[0;32m/usr/local/lib/python3.7/site-packages/nuts-1.0-py3.7.egg/nuts/nuts.py\u001b[0m in \u001b[0;36mbuild_tree\u001b[0;34m(theta, r, grad, logu, v, j, epsilon, f, joint0)\u001b[0m\n\u001b[1;32m    184\u001b[0m         \u001b[0;32mif\u001b[0m \u001b[0;34m(\u001b[0m\u001b[0msprime\u001b[0m \u001b[0;34m==\u001b[0m \u001b[0;36m1\u001b[0m\u001b[0;34m)\u001b[0m\u001b[0;34m:\u001b[0m\u001b[0;34m\u001b[0m\u001b[0;34m\u001b[0m\u001b[0m\n\u001b[1;32m    185\u001b[0m             \u001b[0;32mif\u001b[0m \u001b[0;34m(\u001b[0m\u001b[0mv\u001b[0m \u001b[0;34m==\u001b[0m \u001b[0;34m-\u001b[0m\u001b[0;36m1\u001b[0m\u001b[0;34m)\u001b[0m\u001b[0;34m:\u001b[0m\u001b[0;34m\u001b[0m\u001b[0;34m\u001b[0m\u001b[0m\n\u001b[0;32m--> 186\u001b[0;31m                 \u001b[0mthetaminus\u001b[0m\u001b[0;34m,\u001b[0m \u001b[0mrminus\u001b[0m\u001b[0;34m,\u001b[0m \u001b[0mgradminus\u001b[0m\u001b[0;34m,\u001b[0m \u001b[0m_\u001b[0m\u001b[0;34m,\u001b[0m \u001b[0m_\u001b[0m\u001b[0;34m,\u001b[0m \u001b[0m_\u001b[0m\u001b[0;34m,\u001b[0m \u001b[0mthetaprime2\u001b[0m\u001b[0;34m,\u001b[0m \u001b[0mgradprime2\u001b[0m\u001b[0;34m,\u001b[0m \u001b[0mlogpprime2\u001b[0m\u001b[0;34m,\u001b[0m \u001b[0mnprime2\u001b[0m\u001b[0;34m,\u001b[0m \u001b[0msprime2\u001b[0m\u001b[0;34m,\u001b[0m \u001b[0malphaprime2\u001b[0m\u001b[0;34m,\u001b[0m \u001b[0mnalphaprime2\u001b[0m \u001b[0;34m=\u001b[0m \u001b[0mbuild_tree\u001b[0m\u001b[0;34m(\u001b[0m\u001b[0mthetaminus\u001b[0m\u001b[0;34m,\u001b[0m \u001b[0mrminus\u001b[0m\u001b[0;34m,\u001b[0m \u001b[0mgradminus\u001b[0m\u001b[0;34m,\u001b[0m \u001b[0mlogu\u001b[0m\u001b[0;34m,\u001b[0m \u001b[0mv\u001b[0m\u001b[0;34m,\u001b[0m \u001b[0mj\u001b[0m \u001b[0;34m-\u001b[0m \u001b[0;36m1\u001b[0m\u001b[0;34m,\u001b[0m \u001b[0mepsilon\u001b[0m\u001b[0;34m,\u001b[0m \u001b[0mf\u001b[0m\u001b[0;34m,\u001b[0m \u001b[0mjoint0\u001b[0m\u001b[0;34m)\u001b[0m\u001b[0;34m\u001b[0m\u001b[0;34m\u001b[0m\u001b[0m\n\u001b[0m\u001b[1;32m    187\u001b[0m             \u001b[0;32melse\u001b[0m\u001b[0;34m:\u001b[0m\u001b[0;34m\u001b[0m\u001b[0;34m\u001b[0m\u001b[0m\n\u001b[1;32m    188\u001b[0m                 \u001b[0m_\u001b[0m\u001b[0;34m,\u001b[0m \u001b[0m_\u001b[0m\u001b[0;34m,\u001b[0m \u001b[0m_\u001b[0m\u001b[0;34m,\u001b[0m \u001b[0mthetaplus\u001b[0m\u001b[0;34m,\u001b[0m \u001b[0mrplus\u001b[0m\u001b[0;34m,\u001b[0m \u001b[0mgradplus\u001b[0m\u001b[0;34m,\u001b[0m \u001b[0mthetaprime2\u001b[0m\u001b[0;34m,\u001b[0m \u001b[0mgradprime2\u001b[0m\u001b[0;34m,\u001b[0m \u001b[0mlogpprime2\u001b[0m\u001b[0;34m,\u001b[0m \u001b[0mnprime2\u001b[0m\u001b[0;34m,\u001b[0m \u001b[0msprime2\u001b[0m\u001b[0;34m,\u001b[0m \u001b[0malphaprime2\u001b[0m\u001b[0;34m,\u001b[0m \u001b[0mnalphaprime2\u001b[0m \u001b[0;34m=\u001b[0m \u001b[0mbuild_tree\u001b[0m\u001b[0;34m(\u001b[0m\u001b[0mthetaplus\u001b[0m\u001b[0;34m,\u001b[0m \u001b[0mrplus\u001b[0m\u001b[0;34m,\u001b[0m \u001b[0mgradplus\u001b[0m\u001b[0;34m,\u001b[0m \u001b[0mlogu\u001b[0m\u001b[0;34m,\u001b[0m \u001b[0mv\u001b[0m\u001b[0;34m,\u001b[0m \u001b[0mj\u001b[0m \u001b[0;34m-\u001b[0m \u001b[0;36m1\u001b[0m\u001b[0;34m,\u001b[0m \u001b[0mepsilon\u001b[0m\u001b[0;34m,\u001b[0m \u001b[0mf\u001b[0m\u001b[0;34m,\u001b[0m \u001b[0mjoint0\u001b[0m\u001b[0;34m)\u001b[0m\u001b[0;34m\u001b[0m\u001b[0;34m\u001b[0m\u001b[0m\n",
      "\u001b[0;32m/usr/local/lib/python3.7/site-packages/nuts-1.0-py3.7.egg/nuts/nuts.py\u001b[0m in \u001b[0;36mbuild_tree\u001b[0;34m(theta, r, grad, logu, v, j, epsilon, f, joint0)\u001b[0m\n\u001b[1;32m    184\u001b[0m         \u001b[0;32mif\u001b[0m \u001b[0;34m(\u001b[0m\u001b[0msprime\u001b[0m \u001b[0;34m==\u001b[0m \u001b[0;36m1\u001b[0m\u001b[0;34m)\u001b[0m\u001b[0;34m:\u001b[0m\u001b[0;34m\u001b[0m\u001b[0;34m\u001b[0m\u001b[0m\n\u001b[1;32m    185\u001b[0m             \u001b[0;32mif\u001b[0m \u001b[0;34m(\u001b[0m\u001b[0mv\u001b[0m \u001b[0;34m==\u001b[0m \u001b[0;34m-\u001b[0m\u001b[0;36m1\u001b[0m\u001b[0;34m)\u001b[0m\u001b[0;34m:\u001b[0m\u001b[0;34m\u001b[0m\u001b[0;34m\u001b[0m\u001b[0m\n\u001b[0;32m--> 186\u001b[0;31m                 \u001b[0mthetaminus\u001b[0m\u001b[0;34m,\u001b[0m \u001b[0mrminus\u001b[0m\u001b[0;34m,\u001b[0m \u001b[0mgradminus\u001b[0m\u001b[0;34m,\u001b[0m \u001b[0m_\u001b[0m\u001b[0;34m,\u001b[0m \u001b[0m_\u001b[0m\u001b[0;34m,\u001b[0m \u001b[0m_\u001b[0m\u001b[0;34m,\u001b[0m \u001b[0mthetaprime2\u001b[0m\u001b[0;34m,\u001b[0m \u001b[0mgradprime2\u001b[0m\u001b[0;34m,\u001b[0m \u001b[0mlogpprime2\u001b[0m\u001b[0;34m,\u001b[0m \u001b[0mnprime2\u001b[0m\u001b[0;34m,\u001b[0m \u001b[0msprime2\u001b[0m\u001b[0;34m,\u001b[0m \u001b[0malphaprime2\u001b[0m\u001b[0;34m,\u001b[0m \u001b[0mnalphaprime2\u001b[0m \u001b[0;34m=\u001b[0m \u001b[0mbuild_tree\u001b[0m\u001b[0;34m(\u001b[0m\u001b[0mthetaminus\u001b[0m\u001b[0;34m,\u001b[0m \u001b[0mrminus\u001b[0m\u001b[0;34m,\u001b[0m \u001b[0mgradminus\u001b[0m\u001b[0;34m,\u001b[0m \u001b[0mlogu\u001b[0m\u001b[0;34m,\u001b[0m \u001b[0mv\u001b[0m\u001b[0;34m,\u001b[0m \u001b[0mj\u001b[0m \u001b[0;34m-\u001b[0m \u001b[0;36m1\u001b[0m\u001b[0;34m,\u001b[0m \u001b[0mepsilon\u001b[0m\u001b[0;34m,\u001b[0m \u001b[0mf\u001b[0m\u001b[0;34m,\u001b[0m \u001b[0mjoint0\u001b[0m\u001b[0;34m)\u001b[0m\u001b[0;34m\u001b[0m\u001b[0;34m\u001b[0m\u001b[0m\n\u001b[0m\u001b[1;32m    187\u001b[0m             \u001b[0;32melse\u001b[0m\u001b[0;34m:\u001b[0m\u001b[0;34m\u001b[0m\u001b[0;34m\u001b[0m\u001b[0m\n\u001b[1;32m    188\u001b[0m                 \u001b[0m_\u001b[0m\u001b[0;34m,\u001b[0m \u001b[0m_\u001b[0m\u001b[0;34m,\u001b[0m \u001b[0m_\u001b[0m\u001b[0;34m,\u001b[0m \u001b[0mthetaplus\u001b[0m\u001b[0;34m,\u001b[0m \u001b[0mrplus\u001b[0m\u001b[0;34m,\u001b[0m \u001b[0mgradplus\u001b[0m\u001b[0;34m,\u001b[0m \u001b[0mthetaprime2\u001b[0m\u001b[0;34m,\u001b[0m \u001b[0mgradprime2\u001b[0m\u001b[0;34m,\u001b[0m \u001b[0mlogpprime2\u001b[0m\u001b[0;34m,\u001b[0m \u001b[0mnprime2\u001b[0m\u001b[0;34m,\u001b[0m \u001b[0msprime2\u001b[0m\u001b[0;34m,\u001b[0m \u001b[0malphaprime2\u001b[0m\u001b[0;34m,\u001b[0m \u001b[0mnalphaprime2\u001b[0m \u001b[0;34m=\u001b[0m \u001b[0mbuild_tree\u001b[0m\u001b[0;34m(\u001b[0m\u001b[0mthetaplus\u001b[0m\u001b[0;34m,\u001b[0m \u001b[0mrplus\u001b[0m\u001b[0;34m,\u001b[0m \u001b[0mgradplus\u001b[0m\u001b[0;34m,\u001b[0m \u001b[0mlogu\u001b[0m\u001b[0;34m,\u001b[0m \u001b[0mv\u001b[0m\u001b[0;34m,\u001b[0m \u001b[0mj\u001b[0m \u001b[0;34m-\u001b[0m \u001b[0;36m1\u001b[0m\u001b[0;34m,\u001b[0m \u001b[0mepsilon\u001b[0m\u001b[0;34m,\u001b[0m \u001b[0mf\u001b[0m\u001b[0;34m,\u001b[0m \u001b[0mjoint0\u001b[0m\u001b[0;34m)\u001b[0m\u001b[0;34m\u001b[0m\u001b[0;34m\u001b[0m\u001b[0m\n",
      "\u001b[0;32m/usr/local/lib/python3.7/site-packages/nuts-1.0-py3.7.egg/nuts/nuts.py\u001b[0m in \u001b[0;36mbuild_tree\u001b[0;34m(theta, r, grad, logu, v, j, epsilon, f, joint0)\u001b[0m\n\u001b[1;32m    180\u001b[0m     \u001b[0;32melse\u001b[0m\u001b[0;34m:\u001b[0m\u001b[0;34m\u001b[0m\u001b[0;34m\u001b[0m\u001b[0m\n\u001b[1;32m    181\u001b[0m         \u001b[0;31m# Recursion: Implicitly build the height j-1 left and right subtrees.\u001b[0m\u001b[0;34m\u001b[0m\u001b[0;34m\u001b[0m\u001b[0;34m\u001b[0m\u001b[0m\n\u001b[0;32m--> 182\u001b[0;31m         \u001b[0mthetaminus\u001b[0m\u001b[0;34m,\u001b[0m \u001b[0mrminus\u001b[0m\u001b[0;34m,\u001b[0m \u001b[0mgradminus\u001b[0m\u001b[0;34m,\u001b[0m \u001b[0mthetaplus\u001b[0m\u001b[0;34m,\u001b[0m \u001b[0mrplus\u001b[0m\u001b[0;34m,\u001b[0m \u001b[0mgradplus\u001b[0m\u001b[0;34m,\u001b[0m \u001b[0mthetaprime\u001b[0m\u001b[0;34m,\u001b[0m \u001b[0mgradprime\u001b[0m\u001b[0;34m,\u001b[0m \u001b[0mlogpprime\u001b[0m\u001b[0;34m,\u001b[0m \u001b[0mnprime\u001b[0m\u001b[0;34m,\u001b[0m \u001b[0msprime\u001b[0m\u001b[0;34m,\u001b[0m \u001b[0malphaprime\u001b[0m\u001b[0;34m,\u001b[0m \u001b[0mnalphaprime\u001b[0m \u001b[0;34m=\u001b[0m \u001b[0mbuild_tree\u001b[0m\u001b[0;34m(\u001b[0m\u001b[0mtheta\u001b[0m\u001b[0;34m,\u001b[0m \u001b[0mr\u001b[0m\u001b[0;34m,\u001b[0m \u001b[0mgrad\u001b[0m\u001b[0;34m,\u001b[0m \u001b[0mlogu\u001b[0m\u001b[0;34m,\u001b[0m \u001b[0mv\u001b[0m\u001b[0;34m,\u001b[0m \u001b[0mj\u001b[0m \u001b[0;34m-\u001b[0m \u001b[0;36m1\u001b[0m\u001b[0;34m,\u001b[0m \u001b[0mepsilon\u001b[0m\u001b[0;34m,\u001b[0m \u001b[0mf\u001b[0m\u001b[0;34m,\u001b[0m \u001b[0mjoint0\u001b[0m\u001b[0;34m)\u001b[0m\u001b[0;34m\u001b[0m\u001b[0;34m\u001b[0m\u001b[0m\n\u001b[0m\u001b[1;32m    183\u001b[0m         \u001b[0;31m# No need to keep going if the stopping criteria were met in the first subtree.\u001b[0m\u001b[0;34m\u001b[0m\u001b[0;34m\u001b[0m\u001b[0;34m\u001b[0m\u001b[0m\n\u001b[1;32m    184\u001b[0m         \u001b[0;32mif\u001b[0m \u001b[0;34m(\u001b[0m\u001b[0msprime\u001b[0m \u001b[0;34m==\u001b[0m \u001b[0;36m1\u001b[0m\u001b[0;34m)\u001b[0m\u001b[0;34m:\u001b[0m\u001b[0;34m\u001b[0m\u001b[0;34m\u001b[0m\u001b[0m\n",
      "\u001b[0;32m/usr/local/lib/python3.7/site-packages/nuts-1.0-py3.7.egg/nuts/nuts.py\u001b[0m in \u001b[0;36mbuild_tree\u001b[0;34m(theta, r, grad, logu, v, j, epsilon, f, joint0)\u001b[0m\n\u001b[1;32m    161\u001b[0m         \u001b[0;31m# Base case: Take a single leapfrog step in the direction v.\u001b[0m\u001b[0;34m\u001b[0m\u001b[0;34m\u001b[0m\u001b[0;34m\u001b[0m\u001b[0m\n\u001b[1;32m    162\u001b[0m         \u001b[0mthetaprime\u001b[0m\u001b[0;34m,\u001b[0m \u001b[0mrprime\u001b[0m\u001b[0;34m,\u001b[0m \u001b[0mgradprime\u001b[0m\u001b[0;34m,\u001b[0m \u001b[0mlogpprime\u001b[0m \u001b[0;34m=\u001b[0m \u001b[0mleapfrog\u001b[0m\u001b[0;34m(\u001b[0m\u001b[0mtheta\u001b[0m\u001b[0;34m,\u001b[0m \u001b[0mr\u001b[0m\u001b[0;34m,\u001b[0m \u001b[0mgrad\u001b[0m\u001b[0;34m,\u001b[0m \u001b[0mv\u001b[0m \u001b[0;34m*\u001b[0m \u001b[0mepsilon\u001b[0m\u001b[0;34m,\u001b[0m \u001b[0mf\u001b[0m\u001b[0;34m)\u001b[0m\u001b[0;34m\u001b[0m\u001b[0;34m\u001b[0m\u001b[0m\n\u001b[0;32m--> 163\u001b[0;31m         \u001b[0mjoint\u001b[0m \u001b[0;34m=\u001b[0m \u001b[0mlogpprime\u001b[0m \u001b[0;34m-\u001b[0m \u001b[0;36m0.5\u001b[0m \u001b[0;34m*\u001b[0m \u001b[0mnp\u001b[0m\u001b[0;34m.\u001b[0m\u001b[0mdot\u001b[0m\u001b[0;34m(\u001b[0m\u001b[0mrprime\u001b[0m\u001b[0;34m,\u001b[0m \u001b[0mrprime\u001b[0m\u001b[0;34m.\u001b[0m\u001b[0mT\u001b[0m\u001b[0;34m)\u001b[0m\u001b[0;34m\u001b[0m\u001b[0;34m\u001b[0m\u001b[0m\n\u001b[0m\u001b[1;32m    164\u001b[0m         \u001b[0;31m# Is the new point in the slice?\u001b[0m\u001b[0;34m\u001b[0m\u001b[0;34m\u001b[0m\u001b[0;34m\u001b[0m\u001b[0m\n\u001b[1;32m    165\u001b[0m         \u001b[0mnprime\u001b[0m \u001b[0;34m=\u001b[0m \u001b[0mint\u001b[0m\u001b[0;34m(\u001b[0m\u001b[0mlogu\u001b[0m \u001b[0;34m<\u001b[0m \u001b[0mjoint\u001b[0m\u001b[0;34m)\u001b[0m\u001b[0;34m\u001b[0m\u001b[0;34m\u001b[0m\u001b[0m\n",
      "\u001b[0;31mKeyboardInterrupt\u001b[0m: "
     ]
    }
   ],
   "source": [
    "CD_sensitivity = CD_sensitivity_analysis(scm, [0.01, 0.1, 1], X=500, K=1, repetitions=3)"
   ]
  },
  {
   "cell_type": "code",
   "execution_count": null,
   "metadata": {},
   "outputs": [],
   "source": [
    "sns.set_context(\"notebook\")\n",
    "\n",
    "ax = sns.lineplot(x='epsilon', y='ODist', ci=\"sd\", data=OD_sensitivity, label='OD', marker=\"o\", color=\"#63ACBE\")\n",
    "sns.lineplot(x='epsilon', y='IDist', ci=\"sd\", ax=ax, data=ID_sensitivity, label='ID', marker=\"o\", color=\"#EE442F\")\n",
    "sns.lineplot(x='epsilon', y='CDist', ci=\"sd\", data=CD_sensitivity, ax=ax, label='CD', marker=\"o\", color=\"#601A4A\")\n",
    "plt.xlabel('epsilon', fontsize=17)\n",
    "plt.ylabel(' Normalized Error', fontsize=17)\n",
    "\n",
    "ax.legend(fontsize='x-large')\n",
    "plt.savefig(\"results/perturbations.pdf\", format=\"pdf\")"
   ]
  },
  {
   "cell_type": "markdown",
   "metadata": {},
   "source": [
    "# Specific Perturbations"
   ]
  },
  {
   "cell_type": "markdown",
   "metadata": {},
   "source": [
    "#### ID with OD constant"
   ]
  },
  {
   "cell_type": "code",
   "execution_count": 157,
   "metadata": {},
   "outputs": [],
   "source": [
    "from CausalModel.Mechanisms import LinearAdditive\n",
    "from CausalModel.SCM import SCM"
   ]
  },
  {
   "cell_type": "code",
   "execution_count": 158,
   "metadata": {},
   "outputs": [],
   "source": [
    "def build_graph(flipped):\n",
    "    G = nx.DiGraph()\n",
    "    G.add_node(0, observed=True)\n",
    "    G.add_node(1, observed=True)\n",
    "    if flipped:\n",
    "        G.add_edge(1,0)\n",
    "    else:\n",
    "        G.add_edge(0,1)\n",
    "#    nx.draw_networkx(G)\n",
    "    return G\n",
    "\n",
    "def build_mechanisms(beta, flipped):\n",
    "    A_mechanism = LinearAdditive(nb_causes=0)\n",
    "    B_mechanism = LinearAdditive(nb_causes=1, generate_random=False)\n",
    "    B_mechanism.coeffs = [beta]\n",
    "    if flipped:\n",
    "        return [B_mechanism, A_mechanism]\n",
    "    return [A_mechanism, B_mechanism]\n",
    "\n",
    "def build_noises(mu_a, sigma_a, mu_b, sigma_b):\n",
    "    return IndependentComponentsDistribution([\n",
    "        NormalDistribution(mu_a, sigma_a),\n",
    "        NormalDistribution(mu_b, sigma_b)\n",
    "    ])\n",
    "\n",
    "def build_SCM(beta, mu_a, sigma_a, mu_b, sigma_b, flipped=False):\n",
    "    G = build_graph(flipped)\n",
    "    mechanisms = build_mechanisms(beta, flipped)\n",
    "    noises = build_noises(mu_a, sigma_a, mu_b, sigma_b)\n",
    "    return SCM(G, mechanisms, noises)"
   ]
  },
  {
   "cell_type": "code",
   "execution_count": 159,
   "metadata": {},
   "outputs": [],
   "source": [
    "def ID_specific_comparison(repetitions):\n",
    "    a_b = build_SCM(1, 0, 1, 0, 1)\n",
    "    b_a = build_SCM(1./(np.sqrt(4)), 0, np.sqrt(0.5), 0, np.sqrt(2), flipped=True)\n",
    "    \n",
    "    data_points = []\n",
    "    for _ in range(repetitions):\n",
    "        data_points.append([0, IDist(a_b, a_b, nb_samples=100, l_samples=5, discrete=False)])\n",
    "        data_points.append([1, IDist(a_b, b_a, nb_samples=100, l_samples=5, discrete=False)])        \n",
    "    \n",
    "    max_d = max([d_ for _, d_ in data_points])\n",
    "    updated_data_points = [[eps, float(d / max_d)] for eps, d in data_points]\n",
    "    return DataFrame.from_records(updated_data_points, columns=['epsilon', 'IDist'])"
   ]
  },
  {
   "cell_type": "code",
   "execution_count": 160,
   "metadata": {},
   "outputs": [],
   "source": [
    "id_spec = ID_specific_comparison(10)"
   ]
  },
  {
   "cell_type": "markdown",
   "metadata": {},
   "source": [
    "#### CD with ID constant"
   ]
  },
  {
   "cell_type": "code",
   "execution_count": 161,
   "metadata": {},
   "outputs": [],
   "source": [
    "from pomegranate.distributions import GammaDistribution\n",
    "from sklearn.gaussian_process import GaussianProcessRegressor\n",
    "import CausalModel.Mechanisms as Mechanisms"
   ]
  },
  {
   "cell_type": "code",
   "execution_count": 162,
   "metadata": {},
   "outputs": [],
   "source": [
    "def CD_specific_comparison(repetitions):\n",
    "    nb_training = 1000\n",
    "    scm_cd = build_SCM(1, 0, 1, 0, 1)\n",
    "    \n",
    "    training_samples = scm_cd.sample(nb_training)\n",
    "    new_graph = copy.deepcopy(scm_cd.causal_graph)\n",
    "    new_noise = IndependentComponentsDistribution([\n",
    "        NormalDistribution(0, 1),\n",
    "        GammaDistribution(alpha=2, beta=2)\n",
    "    ])\n",
    "    new_mechanisms = copy.deepcopy(scm_cd.mechanisms)\n",
    "    \n",
    "\n",
    "    noise_sample = new_noise.sample(nb_training)\n",
    "    second_var_noise = noise_sample[:,1]\n",
    "    cause_values = training_samples[training_samples.columns[0]]\n",
    "\n",
    "    X = np.column_stack((cause_values.tolist(), second_var_noise)) \n",
    "    Y = np.array(training_samples[training_samples.columns[1]].tolist())\n",
    "    gpr = GaussianProcessRegressor()\n",
    "    gpr.fit(X, Y)\n",
    "\n",
    "    new_mechanisms[1] = Mechanisms.GaussianProcess(nb_causes=1, parameters={'nb_points': 10, 'variance': 1})\n",
    "    new_mechanisms[1].gpr = gpr\n",
    "    new_SCM = SCM(new_graph, new_mechanisms, new_noise)\n",
    "    \n",
    "    data_points = []\n",
    "    for _ in range(repetitions):\n",
    "        data_points.append([0, CDist(scm_cd, scm_cd, nb_samples_k=100, nb_samples_x=2, discrete=False)])\n",
    "        data_points.append([1, CDist(scm_cd, new_SCM, nb_samples_k=100, nb_samples_x=2, discrete=False)])        \n",
    "    \n",
    "    max_d = max([d_ for _, d_ in data_points])\n",
    "    updated_data_points = [[eps, float(d / max_d)] for eps, d in data_points]\n",
    "    return DataFrame.from_records(updated_data_points, columns=['epsilon', 'CDist'])"
   ]
  },
  {
   "cell_type": "code",
   "execution_count": null,
   "metadata": {},
   "outputs": [
    {
     "name": "stdout",
     "output_type": "stream",
     "text": [
      "find_reasonable_epsilon= 4.0\n",
      "find_reasonable_epsilon= 2.0\n"
     ]
    },
    {
     "name": "stderr",
     "output_type": "stream",
     "text": [
      "invalid value encountered in double_scalars\n"
     ]
    },
    {
     "name": "stdout",
     "output_type": "stream",
     "text": [
      "find_reasonable_epsilon= 2.0\n",
      "find_reasonable_epsilon= 2.0\n"
     ]
    }
   ],
   "source": [
    "cd_specific = CD_specific_comparison(10)"
   ]
  },
  {
   "cell_type": "code",
   "execution_count": 16,
   "metadata": {},
   "outputs": [
    {
     "data": {
      "text/plain": [
       "<matplotlib.legend.Legend at 0x12750e2e8>"
      ]
     },
     "execution_count": 16,
     "metadata": {},
     "output_type": "execute_result"
    },
    {
     "data": {
      "image/png": "[encoded data removed]",
      "text/plain": [
       "<Figure size 432x288 with 1 Axes>"
      ]
     },
     "metadata": {
      "needs_background": "light"
     },
     "output_type": "display_data"
    }
   ],
   "source": [
    "sns.set_context(\"notebook\")\n",
    "\n",
    "\n",
    "ax = sns.lineplot(x='epsilon', y='IDist', ci=\"sd\", data=id_spec, label='ID', marker=\"o\", color=\"#EE442F\")\n",
    "sns.lineplot(x='epsilon', y='CDist', ci=\"sd\", data=cd_specific, ax=ax, label='CD', marker=\"o\", color=\"#601A4A\")\n",
    "plt.xlabel('epsilon', fontsize=17)\n",
    "plt.ylabel(' Normalized Error', fontsize=17)\n",
    "\n",
    "ax.legend(fontsize='x-large')"
   ]
  }
 ],
 "metadata": {
  "hide_input": false,
  "kernelspec": {
   "display_name": "Python 3",
   "language": "python",
   "name": "python3"
  },
  "language_info": {
   "codemirror_mode": {
    "name": "ipython",
    "version": 3
   },
   "file_extension": ".py",
   "mimetype": "text/x-python",
   "name": "python",
   "nbconvert_exporter": "python",
   "pygments_lexer": "ipython3",
   "version": "3.7.3"
  },
  "latex_envs": {
   "LaTeX_envs_menu_present": true,
   "autoclose": false,
   "autocomplete": true,
   "bibliofile": "biblio.bib",
   "cite_by": "apalike",
   "current_citInitial": 1,
   "eqLabelWithNumbers": true,
   "eqNumInitial": 1,
   "hotkeys": {
    "equation": "Ctrl-E",
    "itemize": "Ctrl-I"
   },
   "labels_anchors": false,
   "latex_user_defs": false,
   "report_style_numbering": false,
   "user_envs_cfg": false
  }
 },
 "nbformat": 4,
 "nbformat_minor": 2
}
